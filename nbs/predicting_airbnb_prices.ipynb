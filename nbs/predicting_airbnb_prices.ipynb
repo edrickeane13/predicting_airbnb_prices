{
 "cells": [
  {
   "cell_type": "markdown",
   "metadata": {},
   "source": [
    "# Predicting Airbnb Prices"
   ]
  },
  {
   "cell_type": "markdown",
   "metadata": {},
   "source": [
    "## Table of Contents\n",
    "* [Introduction: Business Problem](#introduction)\n",
    "* [Data](#data)\n",
    "* [Methodology](#methodology)\n",
    "* [Analysis](#analysis)\n",
    "* [Results and Discussion](#results)\n",
    "* [Conclusion](#conclusion)"
   ]
  },
  {
   "cell_type": "markdown",
   "metadata": {},
   "source": [
    "## Introduction: Business Problem <a name=\"introduction\"></a>"
   ]
  },
  {
   "cell_type": "markdown",
   "metadata": {},
   "source": [
    "Jakarta is the capital and largest city of Indonesia where over 10 million people live and it has a population density of 14,464 people per square kilometer. Jakarta consists of five administrative cities and one administrative regency. The administrative cities of Jakarta are: Central Jakarta, West Jakarta, South Jakarta, East Jakarta and North Jakarta. The only administrative regency in Jakarta is the Thousand Islands. In this project, I limit the scope of my research to the districts of Central Jakarta.\n",
    "\n",
    "As the capital city of Indonesia, Jakarta is one of the most popular destinations in Indonesia. Thus, there is a lot of potential profit that could be obtained by property owners through listing a home on Airbnb in Jakarta. However, it’s hard for a new host to determine the rate for nightly stay. This research aims to solve this problem by predicting an efficient rate by using machine learning model which is trained with data from Airbnb listings."
   ]
  },
  {
   "cell_type": "markdown",
   "metadata": {},
   "source": [
    "## Data <a name=\"data\"></a>"
   ]
  },
  {
   "cell_type": "markdown",
   "metadata": {},
   "source": [
    "### Import Necessary Libraries"
   ]
  },
  {
   "cell_type": "code",
   "execution_count": 1,
   "metadata": {},
   "outputs": [],
   "source": [
    "import pandas as pd # Library for data analysis\n",
    "import numpy as np # Library to handle data in a vectorized manner\n",
    "import requests # Library to handle requests\n",
    "from pandas.io.json import json_normalize # Library to transform json file into a pandas dataframe "
   ]
  },
  {
   "cell_type": "markdown",
   "metadata": {},
   "source": [
    "Define location queries."
   ]
  },
  {
   "cell_type": "code",
   "execution_count": 2,
   "metadata": {
    "tags": []
   },
   "outputs": [],
   "source": [
    "locations = ['Cempaka+Putih+Barat', 'Cempaka+Putih+Timur', 'Rawasari', 'Cideng', 'Duri+Pulo', 'Gambir', 'Kebon+Kelapa', 'Petojo+Selatan', 'Petojo+Utara', 'Galur', 'Johar+Baru', 'Kampung+Rawa', 'Tanah+Tinggi', 'Cempaka+Baru', 'Gunung+Sahari+Selatan', 'Harapan+Mulya', 'Kebon+Kosong', 'Kemayoran', 'Serdang', 'Sumur+Batu', 'Utan+Panjang', 'Cikini', 'Gondangdia', 'Kebon+Sirih', 'Menteng', 'Pegangsaan', 'Gunung+Sahari+Utara', 'Karang+Anyar', 'Kartini', 'Mangga+Dua+Selatan', 'Pasar+Baru', 'Bungur', 'Kenari', 'Kramat', 'Kwitang', 'Paseban', 'Senen', 'Bendungan+Hilir', 'Gelora', 'Kampung+Bali', 'Karet+Tengsin', 'Kebon+Kacang', 'Kebon+Melati', 'Petamburan']"
   ]
  },
  {
   "cell_type": "markdown",
   "metadata": {},
   "source": [
    "### Use Airbnb API to Get Listings Data"
   ]
  },
  {
   "cell_type": "markdown",
   "metadata": {},
   "source": [
    "Create a function to extract relevant data from the result requested to Airbnb API."
   ]
  },
  {
   "cell_type": "code",
   "execution_count": 3,
   "metadata": {},
   "outputs": [],
   "source": [
    "def getListings(locations=[]):\n",
    "    \n",
    "    _FORMAT = 'for_explore_search_web'\n",
    "    ITEMS_PER_GRID = '300'\n",
    "    KEY = 'd306zoyjsyarp7ifhu67rjxn52tv0t20'\n",
    "    SECTION_OFFSET = '4'\n",
    "    SUPPORT_FOR_YOU_V3 = 'true'\n",
    "    TAB_ID = 'home_tab'\n",
    "    TIMEZONE_OFFSET = '300'\n",
    "    VERSION = '1.3.4'\n",
    "    CURRENCY = 'IDR'\n",
    "\n",
    "    listings_list = []\n",
    "\n",
    "    for location in locations:\n",
    "\n",
    "        # Create the API request URL\n",
    "        url = 'https://api.airbnb.com/v2/explore_tabs?_format={}&items_per_grid={}&key={}&location={}&section_offset={}&supports_for_you_v3={}&tab_id={}' \\\n",
    "              '&timezone_offset={}&version={}&currency={}'.format(\n",
    "            _FORMAT, \n",
    "            ITEMS_PER_GRID, \n",
    "            KEY, \n",
    "            location, \n",
    "            SECTION_OFFSET, \n",
    "            SUPPORT_FOR_YOU_V3, \n",
    "            TAB_ID, \n",
    "            TIMEZONE_OFFSET, \n",
    "            VERSION, \n",
    "            CURRENCY)\n",
    "        \n",
    "        # Make the GET request\n",
    "        results = requests.get(url).json()['explore_tabs'][0]['sections'][0]['listings']\n",
    "        \n",
    "        # Return only relevant information for each location\n",
    "        listings_list.append([(\n",
    "            listing['listing'].get('id', np.nan),\n",
    "            location.replace('+', ' '),\n",
    "            listing['listing'].get('lat', np.nan),\n",
    "            listing['listing'].get('lng', np.nan),\n",
    "            listing['listing'].get('person_capacity', np.nan),\n",
    "            listing['listing'].get('bathrooms', np.nan),\n",
    "            listing['listing'].get('bedrooms', np.nan),\n",
    "            listing['listing'].get('beds', np.nan),\n",
    "            listing['listing'].get('reviews_count', np.nan),\n",
    "            listing['listing'].get('room_type', np.nan),\n",
    "            listing['listing'].get('avg_rating', np.nan),\n",
    "            listing['listing'].get('min_nights', np.nan),\n",
    "            listing['listing'].get('max_nights', np.nan),\n",
    "            listing['pricing_quote']['rate'].get('amount', np.nan),\n",
    "            listing['pricing_quote'].get('rate_type', np.nan)\n",
    "        ) for listing in results])\n",
    "    \n",
    "    listings = pd.DataFrame([item for listing_list in listings_list for item in listing_list])\n",
    "    listings.columns = ['Listing ID', 'Location', 'Latitude', 'Longitude', 'Number of Guests', 'Bathrooms', 'Bedrooms', \\\n",
    "                       'Beds', 'Review Count', 'Room Type', 'Rating', 'Minimum Nights', 'Maximum Nights', 'Rate (Rp)', 'Rate Type']\n",
    "    \n",
    "    return(listings)"
   ]
  },
  {
   "cell_type": "markdown",
   "metadata": {},
   "source": [
    "Run the above function for each location and create listings dataframe."
   ]
  },
  {
   "cell_type": "code",
   "execution_count": 4,
   "metadata": {
    "tags": []
   },
   "outputs": [
    {
     "output_type": "stream",
     "name": "stdout",
     "text": "(2104, 15)\n"
    },
    {
     "output_type": "execute_result",
     "data": {
      "text/plain": "   Listing ID             Location  Latitude  Longitude  Number of Guests  \\\n0    18378734  Cempaka Putih Barat  -6.19312  106.85025                 2   \n1    32297852  Cempaka Putih Barat  -6.19104  106.87336                 2   \n2    19820937  Cempaka Putih Barat  -6.19815  106.85105                 2   \n3    40735320  Cempaka Putih Barat  -6.18998  106.87367                 2   \n4    43812726  Cempaka Putih Barat  -6.18463  106.87085                 2   \n\n   Bathrooms  Bedrooms  Beds  Review Count        Room Type  Rating  \\\n0        1.0       0.0   1.0           144  Entire home/apt    4.67   \n1        1.0       0.0   1.0            20  Entire home/apt    5.00   \n2        1.0       0.0   2.0            70  Entire home/apt    4.59   \n3        1.0       0.0   1.0             4  Entire home/apt    5.00   \n4        1.0       0.0   NaN             0  Entire home/apt     NaN   \n\n   Minimum Nights  Maximum Nights  Rate (Rp) Rate Type  \n0               2            1125   270000.0   nightly  \n1               2             360   169225.0   nightly  \n2               4              30   166348.0   nightly  \n3               7            1125   200000.0   nightly  \n4               1              30   240000.0   nightly  ",
      "text/html": "<div>\n<style scoped>\n    .dataframe tbody tr th:only-of-type {\n        vertical-align: middle;\n    }\n\n    .dataframe tbody tr th {\n        vertical-align: top;\n    }\n\n    .dataframe thead th {\n        text-align: right;\n    }\n</style>\n<table border=\"1\" class=\"dataframe\">\n  <thead>\n    <tr style=\"text-align: right;\">\n      <th></th>\n      <th>Listing ID</th>\n      <th>Location</th>\n      <th>Latitude</th>\n      <th>Longitude</th>\n      <th>Number of Guests</th>\n      <th>Bathrooms</th>\n      <th>Bedrooms</th>\n      <th>Beds</th>\n      <th>Review Count</th>\n      <th>Room Type</th>\n      <th>Rating</th>\n      <th>Minimum Nights</th>\n      <th>Maximum Nights</th>\n      <th>Rate (Rp)</th>\n      <th>Rate Type</th>\n    </tr>\n  </thead>\n  <tbody>\n    <tr>\n      <th>0</th>\n      <td>18378734</td>\n      <td>Cempaka Putih Barat</td>\n      <td>-6.19312</td>\n      <td>106.85025</td>\n      <td>2</td>\n      <td>1.0</td>\n      <td>0.0</td>\n      <td>1.0</td>\n      <td>144</td>\n      <td>Entire home/apt</td>\n      <td>4.67</td>\n      <td>2</td>\n      <td>1125</td>\n      <td>270000.0</td>\n      <td>nightly</td>\n    </tr>\n    <tr>\n      <th>1</th>\n      <td>32297852</td>\n      <td>Cempaka Putih Barat</td>\n      <td>-6.19104</td>\n      <td>106.87336</td>\n      <td>2</td>\n      <td>1.0</td>\n      <td>0.0</td>\n      <td>1.0</td>\n      <td>20</td>\n      <td>Entire home/apt</td>\n      <td>5.00</td>\n      <td>2</td>\n      <td>360</td>\n      <td>169225.0</td>\n      <td>nightly</td>\n    </tr>\n    <tr>\n      <th>2</th>\n      <td>19820937</td>\n      <td>Cempaka Putih Barat</td>\n      <td>-6.19815</td>\n      <td>106.85105</td>\n      <td>2</td>\n      <td>1.0</td>\n      <td>0.0</td>\n      <td>2.0</td>\n      <td>70</td>\n      <td>Entire home/apt</td>\n      <td>4.59</td>\n      <td>4</td>\n      <td>30</td>\n      <td>166348.0</td>\n      <td>nightly</td>\n    </tr>\n    <tr>\n      <th>3</th>\n      <td>40735320</td>\n      <td>Cempaka Putih Barat</td>\n      <td>-6.18998</td>\n      <td>106.87367</td>\n      <td>2</td>\n      <td>1.0</td>\n      <td>0.0</td>\n      <td>1.0</td>\n      <td>4</td>\n      <td>Entire home/apt</td>\n      <td>5.00</td>\n      <td>7</td>\n      <td>1125</td>\n      <td>200000.0</td>\n      <td>nightly</td>\n    </tr>\n    <tr>\n      <th>4</th>\n      <td>43812726</td>\n      <td>Cempaka Putih Barat</td>\n      <td>-6.18463</td>\n      <td>106.87085</td>\n      <td>2</td>\n      <td>1.0</td>\n      <td>0.0</td>\n      <td>NaN</td>\n      <td>0</td>\n      <td>Entire home/apt</td>\n      <td>NaN</td>\n      <td>1</td>\n      <td>30</td>\n      <td>240000.0</td>\n      <td>nightly</td>\n    </tr>\n  </tbody>\n</table>\n</div>"
     },
     "metadata": {},
     "execution_count": 4
    }
   ],
   "source": [
    "listings_df = getListings(locations=locations)\n",
    "\n",
    "# Check the size of the dataframe\n",
    "print(listings_df.shape)\n",
    "listings_df.head()"
   ]
  },
  {
   "cell_type": "markdown",
   "metadata": {},
   "source": [
    "Drop all duplicate values"
   ]
  },
  {
   "cell_type": "code",
   "execution_count": 5,
   "metadata": {
    "tags": []
   },
   "outputs": [
    {
     "output_type": "stream",
     "name": "stdout",
     "text": "(1043, 15)\n"
    },
    {
     "output_type": "execute_result",
     "data": {
      "text/plain": "      Listing ID         Location  Latitude  Longitude  Number of Guests  \\\n1780    14223825  Bendungan Hilir  -6.21361  106.81209                 2   \n1808    21949711  Bendungan Hilir  -6.19742  106.81673                 2   \n1809    12095585  Bendungan Hilir  -6.22894  106.80621                 3   \n1810    42779832  Bendungan Hilir  -6.19506  106.81784                 3   \n1811    39062975  Bendungan Hilir  -6.20995  106.81957                 4   \n\n      Bathrooms  Bedrooms  Beds  Review Count        Room Type  Rating  \\\n1780        1.0       1.0   1.0             0     Private room     NaN   \n1808        1.0       1.0   1.0            80  Entire home/apt    4.85   \n1809        1.0       1.0   1.0            19  Entire home/apt    4.76   \n1810        1.0       2.0   2.0             0  Entire home/apt     NaN   \n1811        1.0       2.0   2.0            22  Entire home/apt    4.95   \n\n      Minimum Nights  Maximum Nights  Rate (Rp) Rate Type  \n1780               7            1125   260000.0   nightly  \n1808               1             365   383428.0   nightly  \n1809               1            1125   600000.0   nightly  \n1810               2            1125   270000.0   nightly  \n1811               3            1125   450000.0   nightly  ",
      "text/html": "<div>\n<style scoped>\n    .dataframe tbody tr th:only-of-type {\n        vertical-align: middle;\n    }\n\n    .dataframe tbody tr th {\n        vertical-align: top;\n    }\n\n    .dataframe thead th {\n        text-align: right;\n    }\n</style>\n<table border=\"1\" class=\"dataframe\">\n  <thead>\n    <tr style=\"text-align: right;\">\n      <th></th>\n      <th>Listing ID</th>\n      <th>Location</th>\n      <th>Latitude</th>\n      <th>Longitude</th>\n      <th>Number of Guests</th>\n      <th>Bathrooms</th>\n      <th>Bedrooms</th>\n      <th>Beds</th>\n      <th>Review Count</th>\n      <th>Room Type</th>\n      <th>Rating</th>\n      <th>Minimum Nights</th>\n      <th>Maximum Nights</th>\n      <th>Rate (Rp)</th>\n      <th>Rate Type</th>\n    </tr>\n  </thead>\n  <tbody>\n    <tr>\n      <th>1780</th>\n      <td>14223825</td>\n      <td>Bendungan Hilir</td>\n      <td>-6.21361</td>\n      <td>106.81209</td>\n      <td>2</td>\n      <td>1.0</td>\n      <td>1.0</td>\n      <td>1.0</td>\n      <td>0</td>\n      <td>Private room</td>\n      <td>NaN</td>\n      <td>7</td>\n      <td>1125</td>\n      <td>260000.0</td>\n      <td>nightly</td>\n    </tr>\n    <tr>\n      <th>1808</th>\n      <td>21949711</td>\n      <td>Bendungan Hilir</td>\n      <td>-6.19742</td>\n      <td>106.81673</td>\n      <td>2</td>\n      <td>1.0</td>\n      <td>1.0</td>\n      <td>1.0</td>\n      <td>80</td>\n      <td>Entire home/apt</td>\n      <td>4.85</td>\n      <td>1</td>\n      <td>365</td>\n      <td>383428.0</td>\n      <td>nightly</td>\n    </tr>\n    <tr>\n      <th>1809</th>\n      <td>12095585</td>\n      <td>Bendungan Hilir</td>\n      <td>-6.22894</td>\n      <td>106.80621</td>\n      <td>3</td>\n      <td>1.0</td>\n      <td>1.0</td>\n      <td>1.0</td>\n      <td>19</td>\n      <td>Entire home/apt</td>\n      <td>4.76</td>\n      <td>1</td>\n      <td>1125</td>\n      <td>600000.0</td>\n      <td>nightly</td>\n    </tr>\n    <tr>\n      <th>1810</th>\n      <td>42779832</td>\n      <td>Bendungan Hilir</td>\n      <td>-6.19506</td>\n      <td>106.81784</td>\n      <td>3</td>\n      <td>1.0</td>\n      <td>2.0</td>\n      <td>2.0</td>\n      <td>0</td>\n      <td>Entire home/apt</td>\n      <td>NaN</td>\n      <td>2</td>\n      <td>1125</td>\n      <td>270000.0</td>\n      <td>nightly</td>\n    </tr>\n    <tr>\n      <th>1811</th>\n      <td>39062975</td>\n      <td>Bendungan Hilir</td>\n      <td>-6.20995</td>\n      <td>106.81957</td>\n      <td>4</td>\n      <td>1.0</td>\n      <td>2.0</td>\n      <td>2.0</td>\n      <td>22</td>\n      <td>Entire home/apt</td>\n      <td>4.95</td>\n      <td>3</td>\n      <td>1125</td>\n      <td>450000.0</td>\n      <td>nightly</td>\n    </tr>\n  </tbody>\n</table>\n</div>"
     },
     "metadata": {},
     "execution_count": 5
    }
   ],
   "source": [
    "# Sort dataframe according to Location\n",
    "listings_df.sort_values('Location', inplace=True)\n",
    "\n",
    "# Dropping all duplicate values except the first value\n",
    "listings_df.drop_duplicates(subset='Listing ID', keep='first', inplace=True)\n",
    "\n",
    "# Check the size of the dataframe\n",
    "print(listings_df.shape)\n",
    "listings_df.head()"
   ]
  },
  {
   "cell_type": "markdown",
   "metadata": {},
   "source": [
    "Evaluate missing data"
   ]
  },
  {
   "cell_type": "code",
   "execution_count": 6,
   "metadata": {
    "tags": []
   },
   "outputs": [
    {
     "output_type": "stream",
     "name": "stdout",
     "text": "Listing ID\nFalse    1043\nName: Listing ID, dtype: int64\n\nLocation\nFalse    1043\nName: Location, dtype: int64\n\nLatitude\nFalse    1043\nName: Latitude, dtype: int64\n\nLongitude\nFalse    1043\nName: Longitude, dtype: int64\n\nNumber of Guests\nFalse    1043\nName: Number of Guests, dtype: int64\n\nBathrooms\nFalse    1042\nTrue        1\nName: Bathrooms, dtype: int64\n\nBedrooms\nFalse    1035\nTrue        8\nName: Bedrooms, dtype: int64\n\nBeds\nFalse    1029\nTrue       14\nName: Beds, dtype: int64\n\nReview Count\nFalse    1043\nName: Review Count, dtype: int64\n\nRoom Type\nFalse    1043\nName: Room Type, dtype: int64\n\nRating\nTrue     552\nFalse    491\nName: Rating, dtype: int64\n\nMinimum Nights\nFalse    1043\nName: Minimum Nights, dtype: int64\n\nMaximum Nights\nFalse    1043\nName: Maximum Nights, dtype: int64\n\nRate (Rp)\nFalse    1043\nName: Rate (Rp), dtype: int64\n\nRate Type\nFalse    1043\nName: Rate Type, dtype: int64\n\n"
    }
   ],
   "source": [
    "missing_data = listings_df.isnull()\n",
    "\n",
    "for column in missing_data.columns.values.tolist():\n",
    "    print(column)\n",
    "    print (missing_data[column].value_counts())  \n",
    "    print('')"
   ]
  },
  {
   "cell_type": "markdown",
   "metadata": {},
   "source": [
    "Because there's more than 50% missing data in the Rating column, drop rows with missing value"
   ]
  },
  {
   "cell_type": "code",
   "execution_count": 7,
   "metadata": {
    "tags": []
   },
   "outputs": [
    {
     "output_type": "stream",
     "name": "stdout",
     "text": "(491, 15)\n"
    },
    {
     "output_type": "execute_result",
     "data": {
      "text/plain": "      Listing ID         Location  Latitude  Longitude  Number of Guests  \\\n1808    21949711  Bendungan Hilir  -6.19742  106.81673                 2   \n1809    12095585  Bendungan Hilir  -6.22894  106.80621                 3   \n1811    39062975  Bendungan Hilir  -6.20995  106.81957                 4   \n1777    12575863  Bendungan Hilir  -6.22503  106.81923                 1   \n1776     2317417  Bendungan Hilir  -6.20933  106.81047                 2   \n\n      Bathrooms  Bedrooms  Beds  Review Count        Room Type  Rating  \\\n1808        1.0       1.0   1.0            80  Entire home/apt    4.85   \n1809        1.0       1.0   1.0            19  Entire home/apt    4.76   \n1811        1.0       2.0   2.0            22  Entire home/apt    4.95   \n1777        1.5       1.0   1.0            77  Entire home/apt    4.91   \n1776        1.0       1.0   1.0            12  Entire home/apt    4.82   \n\n      Minimum Nights  Maximum Nights  Rate (Rp) Rate Type  \n1808               1             365   383428.0   nightly  \n1809               1            1125   600000.0   nightly  \n1811               3            1125   450000.0   nightly  \n1777               2            1125   350000.0   nightly  \n1776               4             365   454433.0   nightly  ",
      "text/html": "<div>\n<style scoped>\n    .dataframe tbody tr th:only-of-type {\n        vertical-align: middle;\n    }\n\n    .dataframe tbody tr th {\n        vertical-align: top;\n    }\n\n    .dataframe thead th {\n        text-align: right;\n    }\n</style>\n<table border=\"1\" class=\"dataframe\">\n  <thead>\n    <tr style=\"text-align: right;\">\n      <th></th>\n      <th>Listing ID</th>\n      <th>Location</th>\n      <th>Latitude</th>\n      <th>Longitude</th>\n      <th>Number of Guests</th>\n      <th>Bathrooms</th>\n      <th>Bedrooms</th>\n      <th>Beds</th>\n      <th>Review Count</th>\n      <th>Room Type</th>\n      <th>Rating</th>\n      <th>Minimum Nights</th>\n      <th>Maximum Nights</th>\n      <th>Rate (Rp)</th>\n      <th>Rate Type</th>\n    </tr>\n  </thead>\n  <tbody>\n    <tr>\n      <th>1808</th>\n      <td>21949711</td>\n      <td>Bendungan Hilir</td>\n      <td>-6.19742</td>\n      <td>106.81673</td>\n      <td>2</td>\n      <td>1.0</td>\n      <td>1.0</td>\n      <td>1.0</td>\n      <td>80</td>\n      <td>Entire home/apt</td>\n      <td>4.85</td>\n      <td>1</td>\n      <td>365</td>\n      <td>383428.0</td>\n      <td>nightly</td>\n    </tr>\n    <tr>\n      <th>1809</th>\n      <td>12095585</td>\n      <td>Bendungan Hilir</td>\n      <td>-6.22894</td>\n      <td>106.80621</td>\n      <td>3</td>\n      <td>1.0</td>\n      <td>1.0</td>\n      <td>1.0</td>\n      <td>19</td>\n      <td>Entire home/apt</td>\n      <td>4.76</td>\n      <td>1</td>\n      <td>1125</td>\n      <td>600000.0</td>\n      <td>nightly</td>\n    </tr>\n    <tr>\n      <th>1811</th>\n      <td>39062975</td>\n      <td>Bendungan Hilir</td>\n      <td>-6.20995</td>\n      <td>106.81957</td>\n      <td>4</td>\n      <td>1.0</td>\n      <td>2.0</td>\n      <td>2.0</td>\n      <td>22</td>\n      <td>Entire home/apt</td>\n      <td>4.95</td>\n      <td>3</td>\n      <td>1125</td>\n      <td>450000.0</td>\n      <td>nightly</td>\n    </tr>\n    <tr>\n      <th>1777</th>\n      <td>12575863</td>\n      <td>Bendungan Hilir</td>\n      <td>-6.22503</td>\n      <td>106.81923</td>\n      <td>1</td>\n      <td>1.5</td>\n      <td>1.0</td>\n      <td>1.0</td>\n      <td>77</td>\n      <td>Entire home/apt</td>\n      <td>4.91</td>\n      <td>2</td>\n      <td>1125</td>\n      <td>350000.0</td>\n      <td>nightly</td>\n    </tr>\n    <tr>\n      <th>1776</th>\n      <td>2317417</td>\n      <td>Bendungan Hilir</td>\n      <td>-6.20933</td>\n      <td>106.81047</td>\n      <td>2</td>\n      <td>1.0</td>\n      <td>1.0</td>\n      <td>1.0</td>\n      <td>12</td>\n      <td>Entire home/apt</td>\n      <td>4.82</td>\n      <td>4</td>\n      <td>365</td>\n      <td>454433.0</td>\n      <td>nightly</td>\n    </tr>\n  </tbody>\n</table>\n</div>"
     },
     "metadata": {},
     "execution_count": 7
    }
   ],
   "source": [
    "listings_df.dropna(subset=['Rating'], axis=0, inplace=True)\n",
    "\n",
    "# Check the size of the dataframe\n",
    "print(listings_df.shape)\n",
    "listings_df.head()"
   ]
  },
  {
   "cell_type": "markdown",
   "metadata": {},
   "source": [
    "Evaluate missing data once again"
   ]
  },
  {
   "cell_type": "code",
   "execution_count": 8,
   "metadata": {
    "tags": []
   },
   "outputs": [
    {
     "output_type": "stream",
     "name": "stdout",
     "text": "Listing ID\nFalse    491\nName: Listing ID, dtype: int64\n\nLocation\nFalse    491\nName: Location, dtype: int64\n\nLatitude\nFalse    491\nName: Latitude, dtype: int64\n\nLongitude\nFalse    491\nName: Longitude, dtype: int64\n\nNumber of Guests\nFalse    491\nName: Number of Guests, dtype: int64\n\nBathrooms\nFalse    491\nName: Bathrooms, dtype: int64\n\nBedrooms\nFalse    491\nName: Bedrooms, dtype: int64\n\nBeds\nFalse    491\nName: Beds, dtype: int64\n\nReview Count\nFalse    491\nName: Review Count, dtype: int64\n\nRoom Type\nFalse    491\nName: Room Type, dtype: int64\n\nRating\nFalse    491\nName: Rating, dtype: int64\n\nMinimum Nights\nFalse    491\nName: Minimum Nights, dtype: int64\n\nMaximum Nights\nFalse    491\nName: Maximum Nights, dtype: int64\n\nRate (Rp)\nFalse    491\nName: Rate (Rp), dtype: int64\n\nRate Type\nFalse    491\nName: Rate Type, dtype: int64\n\n"
    }
   ],
   "source": [
    "missing_data = listings_df.isnull()\n",
    "\n",
    "for column in missing_data.columns.values.tolist():\n",
    "    print(column)\n",
    "    print (missing_data[column].value_counts())  \n",
    "    print('')"
   ]
  },
  {
   "cell_type": "markdown",
   "metadata": {},
   "source": [
    "Drop data with Room Type: Shared Room"
   ]
  },
  {
   "cell_type": "code",
   "execution_count": 9,
   "metadata": {
    "tags": []
   },
   "outputs": [
    {
     "output_type": "stream",
     "name": "stdout",
     "text": "(488, 15)\n"
    },
    {
     "output_type": "execute_result",
     "data": {
      "text/plain": "      Listing ID         Location  Latitude  Longitude  Number of Guests  \\\n1808    21949711  Bendungan Hilir  -6.19742  106.81673                 2   \n1809    12095585  Bendungan Hilir  -6.22894  106.80621                 3   \n1811    39062975  Bendungan Hilir  -6.20995  106.81957                 4   \n1777    12575863  Bendungan Hilir  -6.22503  106.81923                 1   \n1776     2317417  Bendungan Hilir  -6.20933  106.81047                 2   \n\n      Bathrooms  Bedrooms  Beds  Review Count        Room Type  Rating  \\\n1808        1.0       1.0   1.0            80  Entire home/apt    4.85   \n1809        1.0       1.0   1.0            19  Entire home/apt    4.76   \n1811        1.0       2.0   2.0            22  Entire home/apt    4.95   \n1777        1.5       1.0   1.0            77  Entire home/apt    4.91   \n1776        1.0       1.0   1.0            12  Entire home/apt    4.82   \n\n      Minimum Nights  Maximum Nights  Rate (Rp) Rate Type  \n1808               1             365   383428.0   nightly  \n1809               1            1125   600000.0   nightly  \n1811               3            1125   450000.0   nightly  \n1777               2            1125   350000.0   nightly  \n1776               4             365   454433.0   nightly  ",
      "text/html": "<div>\n<style scoped>\n    .dataframe tbody tr th:only-of-type {\n        vertical-align: middle;\n    }\n\n    .dataframe tbody tr th {\n        vertical-align: top;\n    }\n\n    .dataframe thead th {\n        text-align: right;\n    }\n</style>\n<table border=\"1\" class=\"dataframe\">\n  <thead>\n    <tr style=\"text-align: right;\">\n      <th></th>\n      <th>Listing ID</th>\n      <th>Location</th>\n      <th>Latitude</th>\n      <th>Longitude</th>\n      <th>Number of Guests</th>\n      <th>Bathrooms</th>\n      <th>Bedrooms</th>\n      <th>Beds</th>\n      <th>Review Count</th>\n      <th>Room Type</th>\n      <th>Rating</th>\n      <th>Minimum Nights</th>\n      <th>Maximum Nights</th>\n      <th>Rate (Rp)</th>\n      <th>Rate Type</th>\n    </tr>\n  </thead>\n  <tbody>\n    <tr>\n      <th>1808</th>\n      <td>21949711</td>\n      <td>Bendungan Hilir</td>\n      <td>-6.19742</td>\n      <td>106.81673</td>\n      <td>2</td>\n      <td>1.0</td>\n      <td>1.0</td>\n      <td>1.0</td>\n      <td>80</td>\n      <td>Entire home/apt</td>\n      <td>4.85</td>\n      <td>1</td>\n      <td>365</td>\n      <td>383428.0</td>\n      <td>nightly</td>\n    </tr>\n    <tr>\n      <th>1809</th>\n      <td>12095585</td>\n      <td>Bendungan Hilir</td>\n      <td>-6.22894</td>\n      <td>106.80621</td>\n      <td>3</td>\n      <td>1.0</td>\n      <td>1.0</td>\n      <td>1.0</td>\n      <td>19</td>\n      <td>Entire home/apt</td>\n      <td>4.76</td>\n      <td>1</td>\n      <td>1125</td>\n      <td>600000.0</td>\n      <td>nightly</td>\n    </tr>\n    <tr>\n      <th>1811</th>\n      <td>39062975</td>\n      <td>Bendungan Hilir</td>\n      <td>-6.20995</td>\n      <td>106.81957</td>\n      <td>4</td>\n      <td>1.0</td>\n      <td>2.0</td>\n      <td>2.0</td>\n      <td>22</td>\n      <td>Entire home/apt</td>\n      <td>4.95</td>\n      <td>3</td>\n      <td>1125</td>\n      <td>450000.0</td>\n      <td>nightly</td>\n    </tr>\n    <tr>\n      <th>1777</th>\n      <td>12575863</td>\n      <td>Bendungan Hilir</td>\n      <td>-6.22503</td>\n      <td>106.81923</td>\n      <td>1</td>\n      <td>1.5</td>\n      <td>1.0</td>\n      <td>1.0</td>\n      <td>77</td>\n      <td>Entire home/apt</td>\n      <td>4.91</td>\n      <td>2</td>\n      <td>1125</td>\n      <td>350000.0</td>\n      <td>nightly</td>\n    </tr>\n    <tr>\n      <th>1776</th>\n      <td>2317417</td>\n      <td>Bendungan Hilir</td>\n      <td>-6.20933</td>\n      <td>106.81047</td>\n      <td>2</td>\n      <td>1.0</td>\n      <td>1.0</td>\n      <td>1.0</td>\n      <td>12</td>\n      <td>Entire home/apt</td>\n      <td>4.82</td>\n      <td>4</td>\n      <td>365</td>\n      <td>454433.0</td>\n      <td>nightly</td>\n    </tr>\n  </tbody>\n</table>\n</div>"
     },
     "metadata": {},
     "execution_count": 9
    }
   ],
   "source": [
    "listings_df = listings_df[listings_df['Room Type'] != 'Shared room']\n",
    "\n",
    "# Check the size of the dataframe\n",
    "print(listings_df.shape)\n",
    "listings_df.head()"
   ]
  },
  {
   "cell_type": "markdown",
   "metadata": {},
   "source": [
    "Reset index"
   ]
  },
  {
   "cell_type": "code",
   "execution_count": 10,
   "metadata": {
    "tags": []
   },
   "outputs": [
    {
     "output_type": "stream",
     "name": "stdout",
     "text": "(488, 15)\n"
    },
    {
     "output_type": "execute_result",
     "data": {
      "text/plain": "   Listing ID         Location  Latitude  Longitude  Number of Guests  \\\n0    21949711  Bendungan Hilir  -6.19742  106.81673                 2   \n1    12095585  Bendungan Hilir  -6.22894  106.80621                 3   \n2    39062975  Bendungan Hilir  -6.20995  106.81957                 4   \n3    12575863  Bendungan Hilir  -6.22503  106.81923                 1   \n4     2317417  Bendungan Hilir  -6.20933  106.81047                 2   \n\n   Bathrooms  Bedrooms  Beds  Review Count        Room Type  Rating  \\\n0        1.0       1.0   1.0            80  Entire home/apt    4.85   \n1        1.0       1.0   1.0            19  Entire home/apt    4.76   \n2        1.0       2.0   2.0            22  Entire home/apt    4.95   \n3        1.5       1.0   1.0            77  Entire home/apt    4.91   \n4        1.0       1.0   1.0            12  Entire home/apt    4.82   \n\n   Minimum Nights  Maximum Nights  Rate (Rp) Rate Type  \n0               1             365   383428.0   nightly  \n1               1            1125   600000.0   nightly  \n2               3            1125   450000.0   nightly  \n3               2            1125   350000.0   nightly  \n4               4             365   454433.0   nightly  ",
      "text/html": "<div>\n<style scoped>\n    .dataframe tbody tr th:only-of-type {\n        vertical-align: middle;\n    }\n\n    .dataframe tbody tr th {\n        vertical-align: top;\n    }\n\n    .dataframe thead th {\n        text-align: right;\n    }\n</style>\n<table border=\"1\" class=\"dataframe\">\n  <thead>\n    <tr style=\"text-align: right;\">\n      <th></th>\n      <th>Listing ID</th>\n      <th>Location</th>\n      <th>Latitude</th>\n      <th>Longitude</th>\n      <th>Number of Guests</th>\n      <th>Bathrooms</th>\n      <th>Bedrooms</th>\n      <th>Beds</th>\n      <th>Review Count</th>\n      <th>Room Type</th>\n      <th>Rating</th>\n      <th>Minimum Nights</th>\n      <th>Maximum Nights</th>\n      <th>Rate (Rp)</th>\n      <th>Rate Type</th>\n    </tr>\n  </thead>\n  <tbody>\n    <tr>\n      <th>0</th>\n      <td>21949711</td>\n      <td>Bendungan Hilir</td>\n      <td>-6.19742</td>\n      <td>106.81673</td>\n      <td>2</td>\n      <td>1.0</td>\n      <td>1.0</td>\n      <td>1.0</td>\n      <td>80</td>\n      <td>Entire home/apt</td>\n      <td>4.85</td>\n      <td>1</td>\n      <td>365</td>\n      <td>383428.0</td>\n      <td>nightly</td>\n    </tr>\n    <tr>\n      <th>1</th>\n      <td>12095585</td>\n      <td>Bendungan Hilir</td>\n      <td>-6.22894</td>\n      <td>106.80621</td>\n      <td>3</td>\n      <td>1.0</td>\n      <td>1.0</td>\n      <td>1.0</td>\n      <td>19</td>\n      <td>Entire home/apt</td>\n      <td>4.76</td>\n      <td>1</td>\n      <td>1125</td>\n      <td>600000.0</td>\n      <td>nightly</td>\n    </tr>\n    <tr>\n      <th>2</th>\n      <td>39062975</td>\n      <td>Bendungan Hilir</td>\n      <td>-6.20995</td>\n      <td>106.81957</td>\n      <td>4</td>\n      <td>1.0</td>\n      <td>2.0</td>\n      <td>2.0</td>\n      <td>22</td>\n      <td>Entire home/apt</td>\n      <td>4.95</td>\n      <td>3</td>\n      <td>1125</td>\n      <td>450000.0</td>\n      <td>nightly</td>\n    </tr>\n    <tr>\n      <th>3</th>\n      <td>12575863</td>\n      <td>Bendungan Hilir</td>\n      <td>-6.22503</td>\n      <td>106.81923</td>\n      <td>1</td>\n      <td>1.5</td>\n      <td>1.0</td>\n      <td>1.0</td>\n      <td>77</td>\n      <td>Entire home/apt</td>\n      <td>4.91</td>\n      <td>2</td>\n      <td>1125</td>\n      <td>350000.0</td>\n      <td>nightly</td>\n    </tr>\n    <tr>\n      <th>4</th>\n      <td>2317417</td>\n      <td>Bendungan Hilir</td>\n      <td>-6.20933</td>\n      <td>106.81047</td>\n      <td>2</td>\n      <td>1.0</td>\n      <td>1.0</td>\n      <td>1.0</td>\n      <td>12</td>\n      <td>Entire home/apt</td>\n      <td>4.82</td>\n      <td>4</td>\n      <td>365</td>\n      <td>454433.0</td>\n      <td>nightly</td>\n    </tr>\n  </tbody>\n</table>\n</div>"
     },
     "metadata": {},
     "execution_count": 10
    }
   ],
   "source": [
    "listings_df.reset_index(drop=True, inplace=True)\n",
    "\n",
    "# Check the size of the dataframe\n",
    "print(listings_df.shape)\n",
    "listings_df.head()"
   ]
  },
  {
   "cell_type": "markdown",
   "metadata": {},
   "source": [
    "Check data types for each column"
   ]
  },
  {
   "cell_type": "code",
   "execution_count": 11,
   "metadata": {},
   "outputs": [
    {
     "output_type": "execute_result",
     "data": {
      "text/plain": "Listing ID            int64\nLocation             object\nLatitude            float64\nLongitude           float64\nNumber of Guests      int64\nBathrooms           float64\nBedrooms            float64\nBeds                float64\nReview Count          int64\nRoom Type            object\nRating              float64\nMinimum Nights        int64\nMaximum Nights        int64\nRate (Rp)           float64\nRate Type            object\ndtype: object"
     },
     "metadata": {},
     "execution_count": 11
    }
   ],
   "source": [
    "listings_df.dtypes"
   ]
  },
  {
   "cell_type": "code",
   "execution_count": null,
   "metadata": {},
   "outputs": [],
   "source": []
  }
 ],
 "metadata": {
  "language_info": {
   "codemirror_mode": {
    "name": "ipython",
    "version": 3
   },
   "file_extension": ".py",
   "mimetype": "text/x-python",
   "name": "python",
   "nbconvert_exporter": "python",
   "pygments_lexer": "ipython3",
   "version": "3.8.3-final"
  },
  "orig_nbformat": 2,
  "kernelspec": {
   "name": "python38364bitenvvenvd62cf0ff2548449b8bb7a0245ca2a3a7",
   "display_name": "Python 3.8.3 64-bit ('env': venv)"
  }
 },
 "nbformat": 4,
 "nbformat_minor": 2
}