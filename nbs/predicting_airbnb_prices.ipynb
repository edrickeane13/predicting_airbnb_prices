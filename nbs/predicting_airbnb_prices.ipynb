{
 "cells": [
  {
   "cell_type": "markdown",
   "metadata": {},
   "source": [
    "# Predicting Airbnb Prices"
   ]
  },
  {
   "cell_type": "markdown",
   "metadata": {},
   "source": [
    "## Table of Contents\n",
    "* [Introduction: Business Problem](#introduction)\n",
    "* [Data](#data)\n",
    "* [Methodology](#methodology)\n",
    "* [Analysis](#analysis)\n",
    "* [Results and Discussion](#results)\n",
    "* [Conclusion](#conclusion)"
   ]
  },
  {
   "cell_type": "markdown",
   "metadata": {},
   "source": [
    "## Introduction: Business Problem <a name=\"introduction\"></a>"
   ]
  },
  {
   "cell_type": "markdown",
   "metadata": {},
   "source": [
    "Jakarta is the capital and largest city of Indonesia where over 10 million people live and it has a population density of 14,464 people per square kilometer. Jakarta consists of five administrative cities and one administrative regency. The administrative cities of Jakarta are: Central Jakarta, West Jakarta, South Jakarta, East Jakarta and North Jakarta. The only administrative regency in Jakarta is the Thousand Islands. In this project, I limit the scope of my research to the districts of Central Jakarta.\n",
    "\n",
    "As the capital city of Indonesia, Jakarta is one of the most popular destinations in Indonesia. Thus, there is a lot of potential profit that could be obtained by property owners through listing a home on Airbnb in Jakarta. However, it’s hard for a new host to determine the rate for nightly stay. This research aims to solve this problem by predicting an efficient rate by using machine learning model which is trained with data from Airbnb listings."
   ]
  },
  {
   "cell_type": "markdown",
   "metadata": {},
   "source": [
    "## Data <a name=\"data\"></a>"
   ]
  },
  {
   "cell_type": "markdown",
   "metadata": {},
   "source": [
    "### Import Necessary Libraries"
   ]
  },
  {
   "cell_type": "code",
   "execution_count": 1,
   "metadata": {},
   "outputs": [],
   "source": [
    "import pandas as pd # Library for data analysis\n",
    "import numpy as np # Library to handle data in a vectorized manner\n",
    "import requests # Library to handle requests\n",
    "from pandas.io.json import json_normalize # Library to transform json file into a pandas dataframe "
   ]
  },
  {
   "cell_type": "markdown",
   "metadata": {},
   "source": [
    "Define location queries."
   ]
  },
  {
   "cell_type": "code",
   "execution_count": 2,
   "metadata": {
    "tags": []
   },
   "outputs": [],
   "source": [
    "locations = ['Cempaka+Putih+Barat,+Central+Jakarta', 'Cempaka+Putih+Timur,+Central+Jakarta', 'Rawasari,+Central+Jakarta', 'Cideng,+Central+Jakarta', 'Duri+Pulo,+Central+Jakarta', 'Gambir,+Central+Jakarta', 'Kebon+Kelapa,+Central+Jakarta', 'Petojo+Selatan,+Central+Jakarta', 'Petojo+Utara,+Central+Jakarta', 'Galur,+Central+Jakarta', 'Johar+Baru,+Central+Jakarta', 'Kampung+Rawa,+Central+Jakarta', 'Tanah+Tinggi,+Central+Jakarta', 'Cempaka+Baru,+Central+Jakarta', 'Gunung+Sahari+Selatan,+Central+Jakarta', 'Harapan+Mulya,+Central+Jakarta', 'Kebon+Kosong,+Central+Jakarta', 'Kemayoran,+Central+Jakarta', 'Serdang,+Central+Jakarta', 'Sumur+Batu,+Central+Jakarta', 'Utan+Panjang,+Central+Jakarta', 'Cikini,+Central+Jakarta', 'Gondangdia,+Central+Jakarta', 'Kebon+Sirih,+Central+Jakarta', 'Menteng,+Central+Jakarta', 'Pegangsaan,+Central+Jakarta', 'Gunung+Sahari+Utara,+Central+Jakarta', 'Karang+Anyar,+Central+Jakarta', 'Kartini,+Central+Jakarta', 'Mangga+Dua+Selatan,+Central+Jakarta', 'Pasar+Baru,+Central+Jakarta', 'Bungur,+Central+Jakarta', 'Kenari,+Central+Jakarta', 'Kramat,+Central+Jakarta', 'Kwitang,+Central+Jakarta', 'Paseban,+Central+Jakarta', 'Senen,+Central+Jakarta', 'Bendungan+Hilir,+Central+Jakarta', 'Gelora,+Central+Jakarta', 'Kampung+Bali,+Central+Jakarta', 'Karet+Tengsin,+Central+Jakarta', 'Kebon+Kacang,+Central+Jakarta', 'Kebon+Melati,+Central+Jakarta', 'Petamburan,+Central+Jakarta']"
   ]
  },
  {
   "cell_type": "markdown",
   "metadata": {},
   "source": [
    "### Use Airbnb API to Get Listings Data"
   ]
  },
  {
   "cell_type": "markdown",
   "metadata": {},
   "source": [
    "Create a function to extract relevant data from the result requested to Airbnb API."
   ]
  },
  {
   "cell_type": "code",
   "execution_count": 3,
   "metadata": {},
   "outputs": [],
   "source": [
    "def getListings(locations=[]):\n",
    "    \n",
    "    _FORMAT = 'for_explore_search_web'\n",
    "    ITEMS_PER_GRID = '300'\n",
    "    KEY = 'd306zoyjsyarp7ifhu67rjxn52tv0t20'\n",
    "    SECTION_OFFSET = '4'\n",
    "    SUPPORT_FOR_YOU_V3 = 'true'\n",
    "    TAB_ID = 'home_tab'\n",
    "    TIMEZONE_OFFSET = '300'\n",
    "    VERSION = '1.3.4'\n",
    "    CURRENCY = 'IDR'\n",
    "\n",
    "    listings_list = []\n",
    "\n",
    "    for location in locations:\n",
    "\n",
    "        # Create the API request URL\n",
    "        url = 'https://api.airbnb.com/v2/explore_tabs?_format={}&items_per_grid={}&key={}&location={}&section_offset={}&supports_for_you_v3={}&tab_id={}' \\\n",
    "              '&timezone_offset={}&version={}&currency={}'.format(\n",
    "            _FORMAT, \n",
    "            ITEMS_PER_GRID, \n",
    "            KEY, \n",
    "            location, \n",
    "            SECTION_OFFSET, \n",
    "            SUPPORT_FOR_YOU_V3, \n",
    "            TAB_ID, \n",
    "            TIMEZONE_OFFSET, \n",
    "            VERSION, \n",
    "            CURRENCY)\n",
    "        \n",
    "        # Make the GET request\n",
    "        results = requests.get(url).json()['explore_tabs'][0]['sections'][0]['listings']\n",
    "        \n",
    "        # Return only relevant information for each location\n",
    "        listings_list.append([(\n",
    "            listing['listing'].get('id', np.nan),\n",
    "            location.replace('+', ' '),\n",
    "            listing['listing'].get('lat', np.nan),\n",
    "            listing['listing'].get('lng', np.nan),\n",
    "            listing['listing'].get('person_capacity', np.nan),\n",
    "            listing['listing'].get('bathrooms', np.nan),\n",
    "            listing['listing'].get('bedrooms', np.nan),\n",
    "            listing['listing'].get('beds', np.nan),\n",
    "            listing['listing'].get('reviews_count', np.nan),\n",
    "            listing['listing'].get('room_type', np.nan),\n",
    "            listing['listing'].get('avg_rating', np.nan),\n",
    "            listing['listing'].get('min_nights', np.nan),\n",
    "            listing['listing'].get('max_nights', np.nan),\n",
    "            listing['pricing_quote']['rate'].get('amount', np.nan),\n",
    "            listing['pricing_quote'].get('rate_type', np.nan)\n",
    "        ) for listing in results])\n",
    "    \n",
    "    listings = pd.DataFrame([item for listing_list in listings_list for item in listing_list])\n",
    "    listings.columns = ['Listing ID', 'Location', 'Latitude', 'Longitude', 'Number of Guests', 'Bathrooms', 'Bedrooms', \\\n",
    "                       'Beds', 'Review Count', 'Room Type', 'Rating', 'Minimum Nights', 'Maximum Nights', 'Rate (Rp)', 'Rate Type']\n",
    "    \n",
    "    return(listings)"
   ]
  },
  {
   "cell_type": "markdown",
   "metadata": {},
   "source": [
    "Run the above function for each location and create listings dataframe."
   ]
  },
  {
   "cell_type": "code",
   "execution_count": 4,
   "metadata": {
    "tags": []
   },
   "outputs": [
    {
     "output_type": "stream",
     "name": "stdout",
     "text": "(2154, 15)\n"
    },
    {
     "output_type": "execute_result",
     "data": {
      "text/plain": "   Listing ID                              Location  Latitude  Longitude  \\\n0    18378734  Cempaka Putih Barat, Central Jakarta  -6.19312  106.85025   \n1    32297852  Cempaka Putih Barat, Central Jakarta  -6.19104  106.87336   \n2    19820937  Cempaka Putih Barat, Central Jakarta  -6.19815  106.85105   \n3    40735320  Cempaka Putih Barat, Central Jakarta  -6.18998  106.87367   \n4     5157038  Cempaka Putih Barat, Central Jakarta  -6.19481  106.85622   \n\n   Number of Guests  Bathrooms  Bedrooms  Beds  Review Count        Room Type  \\\n0                 2        1.0       0.0   1.0           144  Entire home/apt   \n1                 2        1.0       0.0   1.0            20  Entire home/apt   \n2                 2        1.0       0.0   2.0            70  Entire home/apt   \n3                 2        1.0       0.0   1.0             4  Entire home/apt   \n4                 3        1.0       1.0   1.0            75  Entire home/apt   \n\n   Rating  Minimum Nights  Maximum Nights  Rate (Rp) Rate Type  \n0    4.67               2            1125   270000.0   nightly  \n1    5.00               2             360   169225.0   nightly  \n2    4.59               4              30   166348.0   nightly  \n3    5.00               7            1125   200000.0   nightly  \n4    4.84               4            1125   335052.0   nightly  ",
      "text/html": "<div>\n<style scoped>\n    .dataframe tbody tr th:only-of-type {\n        vertical-align: middle;\n    }\n\n    .dataframe tbody tr th {\n        vertical-align: top;\n    }\n\n    .dataframe thead th {\n        text-align: right;\n    }\n</style>\n<table border=\"1\" class=\"dataframe\">\n  <thead>\n    <tr style=\"text-align: right;\">\n      <th></th>\n      <th>Listing ID</th>\n      <th>Location</th>\n      <th>Latitude</th>\n      <th>Longitude</th>\n      <th>Number of Guests</th>\n      <th>Bathrooms</th>\n      <th>Bedrooms</th>\n      <th>Beds</th>\n      <th>Review Count</th>\n      <th>Room Type</th>\n      <th>Rating</th>\n      <th>Minimum Nights</th>\n      <th>Maximum Nights</th>\n      <th>Rate (Rp)</th>\n      <th>Rate Type</th>\n    </tr>\n  </thead>\n  <tbody>\n    <tr>\n      <th>0</th>\n      <td>18378734</td>\n      <td>Cempaka Putih Barat, Central Jakarta</td>\n      <td>-6.19312</td>\n      <td>106.85025</td>\n      <td>2</td>\n      <td>1.0</td>\n      <td>0.0</td>\n      <td>1.0</td>\n      <td>144</td>\n      <td>Entire home/apt</td>\n      <td>4.67</td>\n      <td>2</td>\n      <td>1125</td>\n      <td>270000.0</td>\n      <td>nightly</td>\n    </tr>\n    <tr>\n      <th>1</th>\n      <td>32297852</td>\n      <td>Cempaka Putih Barat, Central Jakarta</td>\n      <td>-6.19104</td>\n      <td>106.87336</td>\n      <td>2</td>\n      <td>1.0</td>\n      <td>0.0</td>\n      <td>1.0</td>\n      <td>20</td>\n      <td>Entire home/apt</td>\n      <td>5.00</td>\n      <td>2</td>\n      <td>360</td>\n      <td>169225.0</td>\n      <td>nightly</td>\n    </tr>\n    <tr>\n      <th>2</th>\n      <td>19820937</td>\n      <td>Cempaka Putih Barat, Central Jakarta</td>\n      <td>-6.19815</td>\n      <td>106.85105</td>\n      <td>2</td>\n      <td>1.0</td>\n      <td>0.0</td>\n      <td>2.0</td>\n      <td>70</td>\n      <td>Entire home/apt</td>\n      <td>4.59</td>\n      <td>4</td>\n      <td>30</td>\n      <td>166348.0</td>\n      <td>nightly</td>\n    </tr>\n    <tr>\n      <th>3</th>\n      <td>40735320</td>\n      <td>Cempaka Putih Barat, Central Jakarta</td>\n      <td>-6.18998</td>\n      <td>106.87367</td>\n      <td>2</td>\n      <td>1.0</td>\n      <td>0.0</td>\n      <td>1.0</td>\n      <td>4</td>\n      <td>Entire home/apt</td>\n      <td>5.00</td>\n      <td>7</td>\n      <td>1125</td>\n      <td>200000.0</td>\n      <td>nightly</td>\n    </tr>\n    <tr>\n      <th>4</th>\n      <td>5157038</td>\n      <td>Cempaka Putih Barat, Central Jakarta</td>\n      <td>-6.19481</td>\n      <td>106.85622</td>\n      <td>3</td>\n      <td>1.0</td>\n      <td>1.0</td>\n      <td>1.0</td>\n      <td>75</td>\n      <td>Entire home/apt</td>\n      <td>4.84</td>\n      <td>4</td>\n      <td>1125</td>\n      <td>335052.0</td>\n      <td>nightly</td>\n    </tr>\n  </tbody>\n</table>\n</div>"
     },
     "metadata": {},
     "execution_count": 4
    }
   ],
   "source": [
    "listings_df = getListings(locations=locations)\n",
    "\n",
    "# Check the size of the dataframe\n",
    "print(listings_df.shape)\n",
    "listings_df.head()"
   ]
  },
  {
   "cell_type": "markdown",
   "metadata": {},
   "source": [
    "Drop all duplicate values."
   ]
  },
  {
   "cell_type": "code",
   "execution_count": 5,
   "metadata": {
    "tags": []
   },
   "outputs": [
    {
     "output_type": "stream",
     "name": "stdout",
     "text": "(727, 15)\n"
    },
    {
     "output_type": "execute_result",
     "data": {
      "text/plain": "      Listing ID                          Location  Latitude  Longitude  \\\n1812    22987741  Bendungan Hilir, Central Jakarta  -6.21335  106.81134   \n1826    10344900  Bendungan Hilir, Central Jakarta  -6.20482  106.81693   \n1825    22183883  Bendungan Hilir, Central Jakarta  -6.20685  106.81307   \n1824     4619772  Bendungan Hilir, Central Jakarta  -6.21704  106.80577   \n1823    40116584  Bendungan Hilir, Central Jakarta  -6.20918  106.80547   \n\n      Number of Guests  Bathrooms  Bedrooms  Beds  Review Count  \\\n1812                 3        1.0       2.0   2.0            25   \n1826                 2        1.0       1.0   0.0            20   \n1825                 1        1.0       1.0   1.0             0   \n1824                 2        1.0       1.0   1.0            17   \n1823                 2        1.0       1.0   1.0             0   \n\n            Room Type  Rating  Minimum Nights  Maximum Nights  Rate (Rp)  \\\n1812  Entire home/apt    4.76               1            1125   700000.0   \n1826  Entire home/apt    4.55               2            1125   213544.0   \n1825     Private room     NaN               1            1125   150000.0   \n1824  Entire home/apt    4.76               4            1125   455560.0   \n1823     Private room     NaN               2              60   180000.0   \n\n     Rate Type  \n1812   nightly  \n1826   nightly  \n1825   nightly  \n1824   nightly  \n1823   nightly  ",
      "text/html": "<div>\n<style scoped>\n    .dataframe tbody tr th:only-of-type {\n        vertical-align: middle;\n    }\n\n    .dataframe tbody tr th {\n        vertical-align: top;\n    }\n\n    .dataframe thead th {\n        text-align: right;\n    }\n</style>\n<table border=\"1\" class=\"dataframe\">\n  <thead>\n    <tr style=\"text-align: right;\">\n      <th></th>\n      <th>Listing ID</th>\n      <th>Location</th>\n      <th>Latitude</th>\n      <th>Longitude</th>\n      <th>Number of Guests</th>\n      <th>Bathrooms</th>\n      <th>Bedrooms</th>\n      <th>Beds</th>\n      <th>Review Count</th>\n      <th>Room Type</th>\n      <th>Rating</th>\n      <th>Minimum Nights</th>\n      <th>Maximum Nights</th>\n      <th>Rate (Rp)</th>\n      <th>Rate Type</th>\n    </tr>\n  </thead>\n  <tbody>\n    <tr>\n      <th>1812</th>\n      <td>22987741</td>\n      <td>Bendungan Hilir, Central Jakarta</td>\n      <td>-6.21335</td>\n      <td>106.81134</td>\n      <td>3</td>\n      <td>1.0</td>\n      <td>2.0</td>\n      <td>2.0</td>\n      <td>25</td>\n      <td>Entire home/apt</td>\n      <td>4.76</td>\n      <td>1</td>\n      <td>1125</td>\n      <td>700000.0</td>\n      <td>nightly</td>\n    </tr>\n    <tr>\n      <th>1826</th>\n      <td>10344900</td>\n      <td>Bendungan Hilir, Central Jakarta</td>\n      <td>-6.20482</td>\n      <td>106.81693</td>\n      <td>2</td>\n      <td>1.0</td>\n      <td>1.0</td>\n      <td>0.0</td>\n      <td>20</td>\n      <td>Entire home/apt</td>\n      <td>4.55</td>\n      <td>2</td>\n      <td>1125</td>\n      <td>213544.0</td>\n      <td>nightly</td>\n    </tr>\n    <tr>\n      <th>1825</th>\n      <td>22183883</td>\n      <td>Bendungan Hilir, Central Jakarta</td>\n      <td>-6.20685</td>\n      <td>106.81307</td>\n      <td>1</td>\n      <td>1.0</td>\n      <td>1.0</td>\n      <td>1.0</td>\n      <td>0</td>\n      <td>Private room</td>\n      <td>NaN</td>\n      <td>1</td>\n      <td>1125</td>\n      <td>150000.0</td>\n      <td>nightly</td>\n    </tr>\n    <tr>\n      <th>1824</th>\n      <td>4619772</td>\n      <td>Bendungan Hilir, Central Jakarta</td>\n      <td>-6.21704</td>\n      <td>106.80577</td>\n      <td>2</td>\n      <td>1.0</td>\n      <td>1.0</td>\n      <td>1.0</td>\n      <td>17</td>\n      <td>Entire home/apt</td>\n      <td>4.76</td>\n      <td>4</td>\n      <td>1125</td>\n      <td>455560.0</td>\n      <td>nightly</td>\n    </tr>\n    <tr>\n      <th>1823</th>\n      <td>40116584</td>\n      <td>Bendungan Hilir, Central Jakarta</td>\n      <td>-6.20918</td>\n      <td>106.80547</td>\n      <td>2</td>\n      <td>1.0</td>\n      <td>1.0</td>\n      <td>1.0</td>\n      <td>0</td>\n      <td>Private room</td>\n      <td>NaN</td>\n      <td>2</td>\n      <td>60</td>\n      <td>180000.0</td>\n      <td>nightly</td>\n    </tr>\n  </tbody>\n</table>\n</div>"
     },
     "metadata": {},
     "execution_count": 5
    }
   ],
   "source": [
    "# Sort dataframe according to Location\n",
    "listings_df.sort_values('Location', inplace=True)\n",
    "\n",
    "# Dropping all duplicate values except the first value\n",
    "listings_df.drop_duplicates(subset='Listing ID', keep='first', inplace=True)\n",
    "\n",
    "# Check the size of the dataframe\n",
    "print(listings_df.shape)\n",
    "listings_df.head()"
   ]
  },
  {
   "cell_type": "markdown",
   "metadata": {},
   "source": [
    "Evaluate missing data."
   ]
  },
  {
   "cell_type": "code",
   "execution_count": 6,
   "metadata": {
    "tags": []
   },
   "outputs": [
    {
     "output_type": "stream",
     "name": "stdout",
     "text": "Listing ID\nFalse    727\nName: Listing ID, dtype: int64\n\nLocation\nFalse    727\nName: Location, dtype: int64\n\nLatitude\nFalse    727\nName: Latitude, dtype: int64\n\nLongitude\nFalse    727\nName: Longitude, dtype: int64\n\nNumber of Guests\nFalse    727\nName: Number of Guests, dtype: int64\n\nBathrooms\nFalse    727\nName: Bathrooms, dtype: int64\n\nBedrooms\nFalse    724\nTrue       3\nName: Bedrooms, dtype: int64\n\nBeds\nFalse    719\nTrue       8\nName: Beds, dtype: int64\n\nReview Count\nFalse    727\nName: Review Count, dtype: int64\n\nRoom Type\nFalse    727\nName: Room Type, dtype: int64\n\nRating\nFalse    392\nTrue     335\nName: Rating, dtype: int64\n\nMinimum Nights\nFalse    727\nName: Minimum Nights, dtype: int64\n\nMaximum Nights\nFalse    727\nName: Maximum Nights, dtype: int64\n\nRate (Rp)\nFalse    727\nName: Rate (Rp), dtype: int64\n\nRate Type\nFalse    727\nName: Rate Type, dtype: int64\n\n"
    }
   ],
   "source": [
    "missing_data = listings_df.isnull()\n",
    "\n",
    "for column in missing_data.columns.values.tolist():\n",
    "    print(column)\n",
    "    print (missing_data[column].value_counts())  \n",
    "    print('')"
   ]
  },
  {
   "cell_type": "markdown",
   "metadata": {},
   "source": [
    "Because the quantity of missing data in the Rating column is significant, drop rows with missing value."
   ]
  },
  {
   "cell_type": "code",
   "execution_count": 7,
   "metadata": {
    "tags": []
   },
   "outputs": [
    {
     "output_type": "stream",
     "name": "stdout",
     "text": "(392, 15)\n"
    },
    {
     "output_type": "execute_result",
     "data": {
      "text/plain": "      Listing ID                          Location  Latitude  Longitude  \\\n1812    22987741  Bendungan Hilir, Central Jakarta  -6.21335  106.81134   \n1826    10344900  Bendungan Hilir, Central Jakarta  -6.20482  106.81693   \n1824     4619772  Bendungan Hilir, Central Jakarta  -6.21704  106.80577   \n1821    30411330  Bendungan Hilir, Central Jakarta  -6.20469  106.81627   \n1819    12575863  Bendungan Hilir, Central Jakarta  -6.22503  106.81923   \n\n      Number of Guests  Bathrooms  Bedrooms  Beds  Review Count  \\\n1812                 3        1.0       2.0   2.0            25   \n1826                 2        1.0       1.0   0.0            20   \n1824                 2        1.0       1.0   1.0            17   \n1821                 4        1.5       2.0   2.0            45   \n1819                 1        1.5       1.0   1.0            77   \n\n            Room Type  Rating  Minimum Nights  Maximum Nights  Rate (Rp)  \\\n1812  Entire home/apt    4.76               1            1125   700000.0   \n1826  Entire home/apt    4.55               2            1125   213544.0   \n1824  Entire home/apt    4.76               4            1125   455560.0   \n1821  Entire home/apt    4.96               2            1125   435000.0   \n1819  Entire home/apt    4.91               2            1125   350000.0   \n\n     Rate Type  \n1812   nightly  \n1826   nightly  \n1824   nightly  \n1821   nightly  \n1819   nightly  ",
      "text/html": "<div>\n<style scoped>\n    .dataframe tbody tr th:only-of-type {\n        vertical-align: middle;\n    }\n\n    .dataframe tbody tr th {\n        vertical-align: top;\n    }\n\n    .dataframe thead th {\n        text-align: right;\n    }\n</style>\n<table border=\"1\" class=\"dataframe\">\n  <thead>\n    <tr style=\"text-align: right;\">\n      <th></th>\n      <th>Listing ID</th>\n      <th>Location</th>\n      <th>Latitude</th>\n      <th>Longitude</th>\n      <th>Number of Guests</th>\n      <th>Bathrooms</th>\n      <th>Bedrooms</th>\n      <th>Beds</th>\n      <th>Review Count</th>\n      <th>Room Type</th>\n      <th>Rating</th>\n      <th>Minimum Nights</th>\n      <th>Maximum Nights</th>\n      <th>Rate (Rp)</th>\n      <th>Rate Type</th>\n    </tr>\n  </thead>\n  <tbody>\n    <tr>\n      <th>1812</th>\n      <td>22987741</td>\n      <td>Bendungan Hilir, Central Jakarta</td>\n      <td>-6.21335</td>\n      <td>106.81134</td>\n      <td>3</td>\n      <td>1.0</td>\n      <td>2.0</td>\n      <td>2.0</td>\n      <td>25</td>\n      <td>Entire home/apt</td>\n      <td>4.76</td>\n      <td>1</td>\n      <td>1125</td>\n      <td>700000.0</td>\n      <td>nightly</td>\n    </tr>\n    <tr>\n      <th>1826</th>\n      <td>10344900</td>\n      <td>Bendungan Hilir, Central Jakarta</td>\n      <td>-6.20482</td>\n      <td>106.81693</td>\n      <td>2</td>\n      <td>1.0</td>\n      <td>1.0</td>\n      <td>0.0</td>\n      <td>20</td>\n      <td>Entire home/apt</td>\n      <td>4.55</td>\n      <td>2</td>\n      <td>1125</td>\n      <td>213544.0</td>\n      <td>nightly</td>\n    </tr>\n    <tr>\n      <th>1824</th>\n      <td>4619772</td>\n      <td>Bendungan Hilir, Central Jakarta</td>\n      <td>-6.21704</td>\n      <td>106.80577</td>\n      <td>2</td>\n      <td>1.0</td>\n      <td>1.0</td>\n      <td>1.0</td>\n      <td>17</td>\n      <td>Entire home/apt</td>\n      <td>4.76</td>\n      <td>4</td>\n      <td>1125</td>\n      <td>455560.0</td>\n      <td>nightly</td>\n    </tr>\n    <tr>\n      <th>1821</th>\n      <td>30411330</td>\n      <td>Bendungan Hilir, Central Jakarta</td>\n      <td>-6.20469</td>\n      <td>106.81627</td>\n      <td>4</td>\n      <td>1.5</td>\n      <td>2.0</td>\n      <td>2.0</td>\n      <td>45</td>\n      <td>Entire home/apt</td>\n      <td>4.96</td>\n      <td>2</td>\n      <td>1125</td>\n      <td>435000.0</td>\n      <td>nightly</td>\n    </tr>\n    <tr>\n      <th>1819</th>\n      <td>12575863</td>\n      <td>Bendungan Hilir, Central Jakarta</td>\n      <td>-6.22503</td>\n      <td>106.81923</td>\n      <td>1</td>\n      <td>1.5</td>\n      <td>1.0</td>\n      <td>1.0</td>\n      <td>77</td>\n      <td>Entire home/apt</td>\n      <td>4.91</td>\n      <td>2</td>\n      <td>1125</td>\n      <td>350000.0</td>\n      <td>nightly</td>\n    </tr>\n  </tbody>\n</table>\n</div>"
     },
     "metadata": {},
     "execution_count": 7
    }
   ],
   "source": [
    "listings_df.dropna(subset=['Rating'], axis=0, inplace=True)\n",
    "\n",
    "# Check the size of the dataframe\n",
    "print(listings_df.shape)\n",
    "listings_df.head()"
   ]
  },
  {
   "cell_type": "markdown",
   "metadata": {},
   "source": [
    "Evaluate missing data once again."
   ]
  },
  {
   "cell_type": "code",
   "execution_count": 8,
   "metadata": {
    "tags": []
   },
   "outputs": [
    {
     "output_type": "stream",
     "name": "stdout",
     "text": "Listing ID\nFalse    392\nName: Listing ID, dtype: int64\n\nLocation\nFalse    392\nName: Location, dtype: int64\n\nLatitude\nFalse    392\nName: Latitude, dtype: int64\n\nLongitude\nFalse    392\nName: Longitude, dtype: int64\n\nNumber of Guests\nFalse    392\nName: Number of Guests, dtype: int64\n\nBathrooms\nFalse    392\nName: Bathrooms, dtype: int64\n\nBedrooms\nFalse    392\nName: Bedrooms, dtype: int64\n\nBeds\nFalse    391\nTrue       1\nName: Beds, dtype: int64\n\nReview Count\nFalse    392\nName: Review Count, dtype: int64\n\nRoom Type\nFalse    392\nName: Room Type, dtype: int64\n\nRating\nFalse    392\nName: Rating, dtype: int64\n\nMinimum Nights\nFalse    392\nName: Minimum Nights, dtype: int64\n\nMaximum Nights\nFalse    392\nName: Maximum Nights, dtype: int64\n\nRate (Rp)\nFalse    392\nName: Rate (Rp), dtype: int64\n\nRate Type\nFalse    392\nName: Rate Type, dtype: int64\n\n"
    }
   ],
   "source": [
    "missing_data = listings_df.isnull()\n",
    "\n",
    "for column in missing_data.columns.values.tolist():\n",
    "    print(column)\n",
    "    print (missing_data[column].value_counts())  \n",
    "    print('')"
   ]
  },
  {
   "cell_type": "markdown",
   "metadata": {},
   "source": [
    "Drop data with Room Type: Shared Room."
   ]
  },
  {
   "cell_type": "code",
   "execution_count": 9,
   "metadata": {
    "tags": []
   },
   "outputs": [
    {
     "output_type": "stream",
     "name": "stdout",
     "text": "(389, 15)\n"
    },
    {
     "output_type": "execute_result",
     "data": {
      "text/plain": "      Listing ID                          Location  Latitude  Longitude  \\\n1812    22987741  Bendungan Hilir, Central Jakarta  -6.21335  106.81134   \n1826    10344900  Bendungan Hilir, Central Jakarta  -6.20482  106.81693   \n1824     4619772  Bendungan Hilir, Central Jakarta  -6.21704  106.80577   \n1821    30411330  Bendungan Hilir, Central Jakarta  -6.20469  106.81627   \n1819    12575863  Bendungan Hilir, Central Jakarta  -6.22503  106.81923   \n\n      Number of Guests  Bathrooms  Bedrooms  Beds  Review Count  \\\n1812                 3        1.0       2.0   2.0            25   \n1826                 2        1.0       1.0   0.0            20   \n1824                 2        1.0       1.0   1.0            17   \n1821                 4        1.5       2.0   2.0            45   \n1819                 1        1.5       1.0   1.0            77   \n\n            Room Type  Rating  Minimum Nights  Maximum Nights  Rate (Rp)  \\\n1812  Entire home/apt    4.76               1            1125   700000.0   \n1826  Entire home/apt    4.55               2            1125   213544.0   \n1824  Entire home/apt    4.76               4            1125   455560.0   \n1821  Entire home/apt    4.96               2            1125   435000.0   \n1819  Entire home/apt    4.91               2            1125   350000.0   \n\n     Rate Type  \n1812   nightly  \n1826   nightly  \n1824   nightly  \n1821   nightly  \n1819   nightly  ",
      "text/html": "<div>\n<style scoped>\n    .dataframe tbody tr th:only-of-type {\n        vertical-align: middle;\n    }\n\n    .dataframe tbody tr th {\n        vertical-align: top;\n    }\n\n    .dataframe thead th {\n        text-align: right;\n    }\n</style>\n<table border=\"1\" class=\"dataframe\">\n  <thead>\n    <tr style=\"text-align: right;\">\n      <th></th>\n      <th>Listing ID</th>\n      <th>Location</th>\n      <th>Latitude</th>\n      <th>Longitude</th>\n      <th>Number of Guests</th>\n      <th>Bathrooms</th>\n      <th>Bedrooms</th>\n      <th>Beds</th>\n      <th>Review Count</th>\n      <th>Room Type</th>\n      <th>Rating</th>\n      <th>Minimum Nights</th>\n      <th>Maximum Nights</th>\n      <th>Rate (Rp)</th>\n      <th>Rate Type</th>\n    </tr>\n  </thead>\n  <tbody>\n    <tr>\n      <th>1812</th>\n      <td>22987741</td>\n      <td>Bendungan Hilir, Central Jakarta</td>\n      <td>-6.21335</td>\n      <td>106.81134</td>\n      <td>3</td>\n      <td>1.0</td>\n      <td>2.0</td>\n      <td>2.0</td>\n      <td>25</td>\n      <td>Entire home/apt</td>\n      <td>4.76</td>\n      <td>1</td>\n      <td>1125</td>\n      <td>700000.0</td>\n      <td>nightly</td>\n    </tr>\n    <tr>\n      <th>1826</th>\n      <td>10344900</td>\n      <td>Bendungan Hilir, Central Jakarta</td>\n      <td>-6.20482</td>\n      <td>106.81693</td>\n      <td>2</td>\n      <td>1.0</td>\n      <td>1.0</td>\n      <td>0.0</td>\n      <td>20</td>\n      <td>Entire home/apt</td>\n      <td>4.55</td>\n      <td>2</td>\n      <td>1125</td>\n      <td>213544.0</td>\n      <td>nightly</td>\n    </tr>\n    <tr>\n      <th>1824</th>\n      <td>4619772</td>\n      <td>Bendungan Hilir, Central Jakarta</td>\n      <td>-6.21704</td>\n      <td>106.80577</td>\n      <td>2</td>\n      <td>1.0</td>\n      <td>1.0</td>\n      <td>1.0</td>\n      <td>17</td>\n      <td>Entire home/apt</td>\n      <td>4.76</td>\n      <td>4</td>\n      <td>1125</td>\n      <td>455560.0</td>\n      <td>nightly</td>\n    </tr>\n    <tr>\n      <th>1821</th>\n      <td>30411330</td>\n      <td>Bendungan Hilir, Central Jakarta</td>\n      <td>-6.20469</td>\n      <td>106.81627</td>\n      <td>4</td>\n      <td>1.5</td>\n      <td>2.0</td>\n      <td>2.0</td>\n      <td>45</td>\n      <td>Entire home/apt</td>\n      <td>4.96</td>\n      <td>2</td>\n      <td>1125</td>\n      <td>435000.0</td>\n      <td>nightly</td>\n    </tr>\n    <tr>\n      <th>1819</th>\n      <td>12575863</td>\n      <td>Bendungan Hilir, Central Jakarta</td>\n      <td>-6.22503</td>\n      <td>106.81923</td>\n      <td>1</td>\n      <td>1.5</td>\n      <td>1.0</td>\n      <td>1.0</td>\n      <td>77</td>\n      <td>Entire home/apt</td>\n      <td>4.91</td>\n      <td>2</td>\n      <td>1125</td>\n      <td>350000.0</td>\n      <td>nightly</td>\n    </tr>\n  </tbody>\n</table>\n</div>"
     },
     "metadata": {},
     "execution_count": 9
    }
   ],
   "source": [
    "listings_df = listings_df[listings_df['Room Type'] != 'Shared room']\n",
    "\n",
    "# Check the size of the dataframe\n",
    "print(listings_df.shape)\n",
    "listings_df.head()"
   ]
  },
  {
   "cell_type": "markdown",
   "metadata": {},
   "source": [
    "Drop data with Number of Guests more than 4."
   ]
  },
  {
   "cell_type": "code",
   "execution_count": 10,
   "metadata": {
    "tags": []
   },
   "outputs": [
    {
     "output_type": "stream",
     "name": "stdout",
     "text": "(342, 15)\n"
    },
    {
     "output_type": "execute_result",
     "data": {
      "text/plain": "      Listing ID                          Location  Latitude  Longitude  \\\n1812    22987741  Bendungan Hilir, Central Jakarta  -6.21335  106.81134   \n1826    10344900  Bendungan Hilir, Central Jakarta  -6.20482  106.81693   \n1824     4619772  Bendungan Hilir, Central Jakarta  -6.21704  106.80577   \n1821    30411330  Bendungan Hilir, Central Jakarta  -6.20469  106.81627   \n1819    12575863  Bendungan Hilir, Central Jakarta  -6.22503  106.81923   \n\n      Number of Guests  Bathrooms  Bedrooms  Beds  Review Count  \\\n1812                 3        1.0       2.0   2.0            25   \n1826                 2        1.0       1.0   0.0            20   \n1824                 2        1.0       1.0   1.0            17   \n1821                 4        1.5       2.0   2.0            45   \n1819                 1        1.5       1.0   1.0            77   \n\n            Room Type  Rating  Minimum Nights  Maximum Nights  Rate (Rp)  \\\n1812  Entire home/apt    4.76               1            1125   700000.0   \n1826  Entire home/apt    4.55               2            1125   213544.0   \n1824  Entire home/apt    4.76               4            1125   455560.0   \n1821  Entire home/apt    4.96               2            1125   435000.0   \n1819  Entire home/apt    4.91               2            1125   350000.0   \n\n     Rate Type  \n1812   nightly  \n1826   nightly  \n1824   nightly  \n1821   nightly  \n1819   nightly  ",
      "text/html": "<div>\n<style scoped>\n    .dataframe tbody tr th:only-of-type {\n        vertical-align: middle;\n    }\n\n    .dataframe tbody tr th {\n        vertical-align: top;\n    }\n\n    .dataframe thead th {\n        text-align: right;\n    }\n</style>\n<table border=\"1\" class=\"dataframe\">\n  <thead>\n    <tr style=\"text-align: right;\">\n      <th></th>\n      <th>Listing ID</th>\n      <th>Location</th>\n      <th>Latitude</th>\n      <th>Longitude</th>\n      <th>Number of Guests</th>\n      <th>Bathrooms</th>\n      <th>Bedrooms</th>\n      <th>Beds</th>\n      <th>Review Count</th>\n      <th>Room Type</th>\n      <th>Rating</th>\n      <th>Minimum Nights</th>\n      <th>Maximum Nights</th>\n      <th>Rate (Rp)</th>\n      <th>Rate Type</th>\n    </tr>\n  </thead>\n  <tbody>\n    <tr>\n      <th>1812</th>\n      <td>22987741</td>\n      <td>Bendungan Hilir, Central Jakarta</td>\n      <td>-6.21335</td>\n      <td>106.81134</td>\n      <td>3</td>\n      <td>1.0</td>\n      <td>2.0</td>\n      <td>2.0</td>\n      <td>25</td>\n      <td>Entire home/apt</td>\n      <td>4.76</td>\n      <td>1</td>\n      <td>1125</td>\n      <td>700000.0</td>\n      <td>nightly</td>\n    </tr>\n    <tr>\n      <th>1826</th>\n      <td>10344900</td>\n      <td>Bendungan Hilir, Central Jakarta</td>\n      <td>-6.20482</td>\n      <td>106.81693</td>\n      <td>2</td>\n      <td>1.0</td>\n      <td>1.0</td>\n      <td>0.0</td>\n      <td>20</td>\n      <td>Entire home/apt</td>\n      <td>4.55</td>\n      <td>2</td>\n      <td>1125</td>\n      <td>213544.0</td>\n      <td>nightly</td>\n    </tr>\n    <tr>\n      <th>1824</th>\n      <td>4619772</td>\n      <td>Bendungan Hilir, Central Jakarta</td>\n      <td>-6.21704</td>\n      <td>106.80577</td>\n      <td>2</td>\n      <td>1.0</td>\n      <td>1.0</td>\n      <td>1.0</td>\n      <td>17</td>\n      <td>Entire home/apt</td>\n      <td>4.76</td>\n      <td>4</td>\n      <td>1125</td>\n      <td>455560.0</td>\n      <td>nightly</td>\n    </tr>\n    <tr>\n      <th>1821</th>\n      <td>30411330</td>\n      <td>Bendungan Hilir, Central Jakarta</td>\n      <td>-6.20469</td>\n      <td>106.81627</td>\n      <td>4</td>\n      <td>1.5</td>\n      <td>2.0</td>\n      <td>2.0</td>\n      <td>45</td>\n      <td>Entire home/apt</td>\n      <td>4.96</td>\n      <td>2</td>\n      <td>1125</td>\n      <td>435000.0</td>\n      <td>nightly</td>\n    </tr>\n    <tr>\n      <th>1819</th>\n      <td>12575863</td>\n      <td>Bendungan Hilir, Central Jakarta</td>\n      <td>-6.22503</td>\n      <td>106.81923</td>\n      <td>1</td>\n      <td>1.5</td>\n      <td>1.0</td>\n      <td>1.0</td>\n      <td>77</td>\n      <td>Entire home/apt</td>\n      <td>4.91</td>\n      <td>2</td>\n      <td>1125</td>\n      <td>350000.0</td>\n      <td>nightly</td>\n    </tr>\n  </tbody>\n</table>\n</div>"
     },
     "metadata": {},
     "execution_count": 10
    }
   ],
   "source": [
    "listings_df = listings_df[listings_df['Number of Guests'] < 5]\n",
    "\n",
    "# Check the size of the dataframe\n",
    "print(listings_df.shape)\n",
    "listings_df.head()"
   ]
  },
  {
   "cell_type": "markdown",
   "metadata": {},
   "source": [
    "Drop data with Minimum Nights more than 3."
   ]
  },
  {
   "cell_type": "code",
   "execution_count": 11,
   "metadata": {
    "tags": []
   },
   "outputs": [
    {
     "output_type": "stream",
     "name": "stdout",
     "text": "(282, 15)\n"
    },
    {
     "output_type": "execute_result",
     "data": {
      "text/plain": "      Listing ID                          Location  Latitude  Longitude  \\\n1812    22987741  Bendungan Hilir, Central Jakarta  -6.21335  106.81134   \n1826    10344900  Bendungan Hilir, Central Jakarta  -6.20482  106.81693   \n1821    30411330  Bendungan Hilir, Central Jakarta  -6.20469  106.81627   \n1819    12575863  Bendungan Hilir, Central Jakarta  -6.22503  106.81923   \n1827    12855114  Bendungan Hilir, Central Jakarta  -6.19405  106.81437   \n\n      Number of Guests  Bathrooms  Bedrooms  Beds  Review Count  \\\n1812                 3        1.0       2.0   2.0            25   \n1826                 2        1.0       1.0   0.0            20   \n1821                 4        1.5       2.0   2.0            45   \n1819                 1        1.5       1.0   1.0            77   \n1827                 2        1.0       1.0   1.0           136   \n\n            Room Type  Rating  Minimum Nights  Maximum Nights  Rate (Rp)  \\\n1812  Entire home/apt    4.76               1            1125   700000.0   \n1826  Entire home/apt    4.55               2            1125   213544.0   \n1821  Entire home/apt    4.96               2            1125   435000.0   \n1819  Entire home/apt    4.91               2            1125   350000.0   \n1827  Entire home/apt    4.90               2            1125   300000.0   \n\n     Rate Type  \n1812   nightly  \n1826   nightly  \n1821   nightly  \n1819   nightly  \n1827   nightly  ",
      "text/html": "<div>\n<style scoped>\n    .dataframe tbody tr th:only-of-type {\n        vertical-align: middle;\n    }\n\n    .dataframe tbody tr th {\n        vertical-align: top;\n    }\n\n    .dataframe thead th {\n        text-align: right;\n    }\n</style>\n<table border=\"1\" class=\"dataframe\">\n  <thead>\n    <tr style=\"text-align: right;\">\n      <th></th>\n      <th>Listing ID</th>\n      <th>Location</th>\n      <th>Latitude</th>\n      <th>Longitude</th>\n      <th>Number of Guests</th>\n      <th>Bathrooms</th>\n      <th>Bedrooms</th>\n      <th>Beds</th>\n      <th>Review Count</th>\n      <th>Room Type</th>\n      <th>Rating</th>\n      <th>Minimum Nights</th>\n      <th>Maximum Nights</th>\n      <th>Rate (Rp)</th>\n      <th>Rate Type</th>\n    </tr>\n  </thead>\n  <tbody>\n    <tr>\n      <th>1812</th>\n      <td>22987741</td>\n      <td>Bendungan Hilir, Central Jakarta</td>\n      <td>-6.21335</td>\n      <td>106.81134</td>\n      <td>3</td>\n      <td>1.0</td>\n      <td>2.0</td>\n      <td>2.0</td>\n      <td>25</td>\n      <td>Entire home/apt</td>\n      <td>4.76</td>\n      <td>1</td>\n      <td>1125</td>\n      <td>700000.0</td>\n      <td>nightly</td>\n    </tr>\n    <tr>\n      <th>1826</th>\n      <td>10344900</td>\n      <td>Bendungan Hilir, Central Jakarta</td>\n      <td>-6.20482</td>\n      <td>106.81693</td>\n      <td>2</td>\n      <td>1.0</td>\n      <td>1.0</td>\n      <td>0.0</td>\n      <td>20</td>\n      <td>Entire home/apt</td>\n      <td>4.55</td>\n      <td>2</td>\n      <td>1125</td>\n      <td>213544.0</td>\n      <td>nightly</td>\n    </tr>\n    <tr>\n      <th>1821</th>\n      <td>30411330</td>\n      <td>Bendungan Hilir, Central Jakarta</td>\n      <td>-6.20469</td>\n      <td>106.81627</td>\n      <td>4</td>\n      <td>1.5</td>\n      <td>2.0</td>\n      <td>2.0</td>\n      <td>45</td>\n      <td>Entire home/apt</td>\n      <td>4.96</td>\n      <td>2</td>\n      <td>1125</td>\n      <td>435000.0</td>\n      <td>nightly</td>\n    </tr>\n    <tr>\n      <th>1819</th>\n      <td>12575863</td>\n      <td>Bendungan Hilir, Central Jakarta</td>\n      <td>-6.22503</td>\n      <td>106.81923</td>\n      <td>1</td>\n      <td>1.5</td>\n      <td>1.0</td>\n      <td>1.0</td>\n      <td>77</td>\n      <td>Entire home/apt</td>\n      <td>4.91</td>\n      <td>2</td>\n      <td>1125</td>\n      <td>350000.0</td>\n      <td>nightly</td>\n    </tr>\n    <tr>\n      <th>1827</th>\n      <td>12855114</td>\n      <td>Bendungan Hilir, Central Jakarta</td>\n      <td>-6.19405</td>\n      <td>106.81437</td>\n      <td>2</td>\n      <td>1.0</td>\n      <td>1.0</td>\n      <td>1.0</td>\n      <td>136</td>\n      <td>Entire home/apt</td>\n      <td>4.90</td>\n      <td>2</td>\n      <td>1125</td>\n      <td>300000.0</td>\n      <td>nightly</td>\n    </tr>\n  </tbody>\n</table>\n</div>"
     },
     "metadata": {},
     "execution_count": 11
    }
   ],
   "source": [
    "listings_df = listings_df[listings_df['Minimum Nights'] < 4]\n",
    "\n",
    "# Check the size of the dataframe\n",
    "print(listings_df.shape)\n",
    "listings_df.head()"
   ]
  },
  {
   "cell_type": "markdown",
   "metadata": {},
   "source": [
    "Remove outliers with IQR."
   ]
  },
  {
   "cell_type": "code",
   "execution_count": 12,
   "metadata": {
    "tags": []
   },
   "outputs": [
    {
     "output_type": "stream",
     "name": "stdout",
     "text": "(253, 15)\n"
    },
    {
     "output_type": "execute_result",
     "data": {
      "text/plain": "      Listing ID                          Location  Latitude  Longitude  \\\n1826    10344900  Bendungan Hilir, Central Jakarta  -6.20482  106.81693   \n1821    30411330  Bendungan Hilir, Central Jakarta  -6.20469  106.81627   \n1819    12575863  Bendungan Hilir, Central Jakarta  -6.22503  106.81923   \n1827    12855114  Bendungan Hilir, Central Jakarta  -6.19405  106.81437   \n1811    40117294  Bendungan Hilir, Central Jakarta  -6.20994  106.80463   \n\n      Number of Guests  Bathrooms  Bedrooms  Beds  Review Count  \\\n1826                 2        1.0       1.0   0.0            20   \n1821                 4        1.5       2.0   2.0            45   \n1819                 1        1.5       1.0   1.0            77   \n1827                 2        1.0       1.0   1.0           136   \n1811                 3        1.0       1.0   1.0             6   \n\n            Room Type  Rating  Minimum Nights  Maximum Nights  Rate (Rp)  \\\n1826  Entire home/apt    4.55               2            1125   213544.0   \n1821  Entire home/apt    4.96               2            1125   435000.0   \n1819  Entire home/apt    4.91               2            1125   350000.0   \n1827  Entire home/apt    4.90               2            1125   300000.0   \n1811     Private room    4.83               2              60   210000.0   \n\n     Rate Type  \n1826   nightly  \n1821   nightly  \n1819   nightly  \n1827   nightly  \n1811   nightly  ",
      "text/html": "<div>\n<style scoped>\n    .dataframe tbody tr th:only-of-type {\n        vertical-align: middle;\n    }\n\n    .dataframe tbody tr th {\n        vertical-align: top;\n    }\n\n    .dataframe thead th {\n        text-align: right;\n    }\n</style>\n<table border=\"1\" class=\"dataframe\">\n  <thead>\n    <tr style=\"text-align: right;\">\n      <th></th>\n      <th>Listing ID</th>\n      <th>Location</th>\n      <th>Latitude</th>\n      <th>Longitude</th>\n      <th>Number of Guests</th>\n      <th>Bathrooms</th>\n      <th>Bedrooms</th>\n      <th>Beds</th>\n      <th>Review Count</th>\n      <th>Room Type</th>\n      <th>Rating</th>\n      <th>Minimum Nights</th>\n      <th>Maximum Nights</th>\n      <th>Rate (Rp)</th>\n      <th>Rate Type</th>\n    </tr>\n  </thead>\n  <tbody>\n    <tr>\n      <th>1826</th>\n      <td>10344900</td>\n      <td>Bendungan Hilir, Central Jakarta</td>\n      <td>-6.20482</td>\n      <td>106.81693</td>\n      <td>2</td>\n      <td>1.0</td>\n      <td>1.0</td>\n      <td>0.0</td>\n      <td>20</td>\n      <td>Entire home/apt</td>\n      <td>4.55</td>\n      <td>2</td>\n      <td>1125</td>\n      <td>213544.0</td>\n      <td>nightly</td>\n    </tr>\n    <tr>\n      <th>1821</th>\n      <td>30411330</td>\n      <td>Bendungan Hilir, Central Jakarta</td>\n      <td>-6.20469</td>\n      <td>106.81627</td>\n      <td>4</td>\n      <td>1.5</td>\n      <td>2.0</td>\n      <td>2.0</td>\n      <td>45</td>\n      <td>Entire home/apt</td>\n      <td>4.96</td>\n      <td>2</td>\n      <td>1125</td>\n      <td>435000.0</td>\n      <td>nightly</td>\n    </tr>\n    <tr>\n      <th>1819</th>\n      <td>12575863</td>\n      <td>Bendungan Hilir, Central Jakarta</td>\n      <td>-6.22503</td>\n      <td>106.81923</td>\n      <td>1</td>\n      <td>1.5</td>\n      <td>1.0</td>\n      <td>1.0</td>\n      <td>77</td>\n      <td>Entire home/apt</td>\n      <td>4.91</td>\n      <td>2</td>\n      <td>1125</td>\n      <td>350000.0</td>\n      <td>nightly</td>\n    </tr>\n    <tr>\n      <th>1827</th>\n      <td>12855114</td>\n      <td>Bendungan Hilir, Central Jakarta</td>\n      <td>-6.19405</td>\n      <td>106.81437</td>\n      <td>2</td>\n      <td>1.0</td>\n      <td>1.0</td>\n      <td>1.0</td>\n      <td>136</td>\n      <td>Entire home/apt</td>\n      <td>4.90</td>\n      <td>2</td>\n      <td>1125</td>\n      <td>300000.0</td>\n      <td>nightly</td>\n    </tr>\n    <tr>\n      <th>1811</th>\n      <td>40117294</td>\n      <td>Bendungan Hilir, Central Jakarta</td>\n      <td>-6.20994</td>\n      <td>106.80463</td>\n      <td>3</td>\n      <td>1.0</td>\n      <td>1.0</td>\n      <td>1.0</td>\n      <td>6</td>\n      <td>Private room</td>\n      <td>4.83</td>\n      <td>2</td>\n      <td>60</td>\n      <td>210000.0</td>\n      <td>nightly</td>\n    </tr>\n  </tbody>\n</table>\n</div>"
     },
     "metadata": {},
     "execution_count": 12
    }
   ],
   "source": [
    "Q1 = listings_df['Rate (Rp)'].quantile(0.25)\n",
    "Q3 = listings_df['Rate (Rp)'].quantile(0.75)\n",
    "IQR = Q3 - Q1\n",
    "filter = (Q1-IQR <= listings_df['Rate (Rp)']) & (listings_df['Rate (Rp)'] <= Q3+IQR)\n",
    "\n",
    "listings_df = listings_df[filter]\n",
    "\n",
    "# Check the size of the dataframe\n",
    "print(listings_df.shape)\n",
    "listings_df.head()"
   ]
  },
  {
   "cell_type": "markdown",
   "metadata": {},
   "source": [
    "Reset index."
   ]
  },
  {
   "cell_type": "code",
   "execution_count": 13,
   "metadata": {
    "tags": []
   },
   "outputs": [
    {
     "output_type": "stream",
     "name": "stdout",
     "text": "(253, 15)\n"
    },
    {
     "output_type": "execute_result",
     "data": {
      "text/plain": "   Listing ID                          Location  Latitude  Longitude  \\\n0    10344900  Bendungan Hilir, Central Jakarta  -6.20482  106.81693   \n1    30411330  Bendungan Hilir, Central Jakarta  -6.20469  106.81627   \n2    12575863  Bendungan Hilir, Central Jakarta  -6.22503  106.81923   \n3    12855114  Bendungan Hilir, Central Jakarta  -6.19405  106.81437   \n4    40117294  Bendungan Hilir, Central Jakarta  -6.20994  106.80463   \n\n   Number of Guests  Bathrooms  Bedrooms  Beds  Review Count        Room Type  \\\n0                 2        1.0       1.0   0.0            20  Entire home/apt   \n1                 4        1.5       2.0   2.0            45  Entire home/apt   \n2                 1        1.5       1.0   1.0            77  Entire home/apt   \n3                 2        1.0       1.0   1.0           136  Entire home/apt   \n4                 3        1.0       1.0   1.0             6     Private room   \n\n   Rating  Minimum Nights  Maximum Nights  Rate (Rp) Rate Type  \n0    4.55               2            1125   213544.0   nightly  \n1    4.96               2            1125   435000.0   nightly  \n2    4.91               2            1125   350000.0   nightly  \n3    4.90               2            1125   300000.0   nightly  \n4    4.83               2              60   210000.0   nightly  ",
      "text/html": "<div>\n<style scoped>\n    .dataframe tbody tr th:only-of-type {\n        vertical-align: middle;\n    }\n\n    .dataframe tbody tr th {\n        vertical-align: top;\n    }\n\n    .dataframe thead th {\n        text-align: right;\n    }\n</style>\n<table border=\"1\" class=\"dataframe\">\n  <thead>\n    <tr style=\"text-align: right;\">\n      <th></th>\n      <th>Listing ID</th>\n      <th>Location</th>\n      <th>Latitude</th>\n      <th>Longitude</th>\n      <th>Number of Guests</th>\n      <th>Bathrooms</th>\n      <th>Bedrooms</th>\n      <th>Beds</th>\n      <th>Review Count</th>\n      <th>Room Type</th>\n      <th>Rating</th>\n      <th>Minimum Nights</th>\n      <th>Maximum Nights</th>\n      <th>Rate (Rp)</th>\n      <th>Rate Type</th>\n    </tr>\n  </thead>\n  <tbody>\n    <tr>\n      <th>0</th>\n      <td>10344900</td>\n      <td>Bendungan Hilir, Central Jakarta</td>\n      <td>-6.20482</td>\n      <td>106.81693</td>\n      <td>2</td>\n      <td>1.0</td>\n      <td>1.0</td>\n      <td>0.0</td>\n      <td>20</td>\n      <td>Entire home/apt</td>\n      <td>4.55</td>\n      <td>2</td>\n      <td>1125</td>\n      <td>213544.0</td>\n      <td>nightly</td>\n    </tr>\n    <tr>\n      <th>1</th>\n      <td>30411330</td>\n      <td>Bendungan Hilir, Central Jakarta</td>\n      <td>-6.20469</td>\n      <td>106.81627</td>\n      <td>4</td>\n      <td>1.5</td>\n      <td>2.0</td>\n      <td>2.0</td>\n      <td>45</td>\n      <td>Entire home/apt</td>\n      <td>4.96</td>\n      <td>2</td>\n      <td>1125</td>\n      <td>435000.0</td>\n      <td>nightly</td>\n    </tr>\n    <tr>\n      <th>2</th>\n      <td>12575863</td>\n      <td>Bendungan Hilir, Central Jakarta</td>\n      <td>-6.22503</td>\n      <td>106.81923</td>\n      <td>1</td>\n      <td>1.5</td>\n      <td>1.0</td>\n      <td>1.0</td>\n      <td>77</td>\n      <td>Entire home/apt</td>\n      <td>4.91</td>\n      <td>2</td>\n      <td>1125</td>\n      <td>350000.0</td>\n      <td>nightly</td>\n    </tr>\n    <tr>\n      <th>3</th>\n      <td>12855114</td>\n      <td>Bendungan Hilir, Central Jakarta</td>\n      <td>-6.19405</td>\n      <td>106.81437</td>\n      <td>2</td>\n      <td>1.0</td>\n      <td>1.0</td>\n      <td>1.0</td>\n      <td>136</td>\n      <td>Entire home/apt</td>\n      <td>4.90</td>\n      <td>2</td>\n      <td>1125</td>\n      <td>300000.0</td>\n      <td>nightly</td>\n    </tr>\n    <tr>\n      <th>4</th>\n      <td>40117294</td>\n      <td>Bendungan Hilir, Central Jakarta</td>\n      <td>-6.20994</td>\n      <td>106.80463</td>\n      <td>3</td>\n      <td>1.0</td>\n      <td>1.0</td>\n      <td>1.0</td>\n      <td>6</td>\n      <td>Private room</td>\n      <td>4.83</td>\n      <td>2</td>\n      <td>60</td>\n      <td>210000.0</td>\n      <td>nightly</td>\n    </tr>\n  </tbody>\n</table>\n</div>"
     },
     "metadata": {},
     "execution_count": 13
    }
   ],
   "source": [
    "listings_df.reset_index(drop=True, inplace=True)\n",
    "\n",
    "# Check the size of the dataframe\n",
    "print(listings_df.shape)\n",
    "listings_df.head()"
   ]
  },
  {
   "cell_type": "markdown",
   "metadata": {},
   "source": [
    "Check data types for each column."
   ]
  },
  {
   "cell_type": "code",
   "execution_count": 14,
   "metadata": {},
   "outputs": [
    {
     "output_type": "execute_result",
     "data": {
      "text/plain": "Listing ID            int64\nLocation             object\nLatitude            float64\nLongitude           float64\nNumber of Guests      int64\nBathrooms           float64\nBedrooms            float64\nBeds                float64\nReview Count          int64\nRoom Type            object\nRating              float64\nMinimum Nights        int64\nMaximum Nights        int64\nRate (Rp)           float64\nRate Type            object\ndtype: object"
     },
     "metadata": {},
     "execution_count": 14
    }
   ],
   "source": [
    "listings_df.dtypes"
   ]
  },
  {
   "cell_type": "markdown",
   "metadata": {},
   "source": [
    "Check the summary of the data."
   ]
  },
  {
   "cell_type": "code",
   "execution_count": 15,
   "metadata": {},
   "outputs": [
    {
     "output_type": "execute_result",
     "data": {
      "text/plain": "         Listing ID    Latitude   Longitude  Number of Guests   Bathrooms  \\\ncount  2.530000e+02  253.000000  253.000000        253.000000  253.000000   \nmean   2.519550e+07   -6.185002  106.834486          2.533597    1.059289   \nstd    1.082139e+07    0.022538    0.024705          0.884084    0.200304   \nmin    2.902830e+05   -6.242680  106.782030          1.000000    0.500000   \n25%    1.751365e+07   -6.196320  106.817020          2.000000    1.000000   \n50%    2.395856e+07   -6.191240  106.837750          2.000000    1.000000   \n75%    3.527266e+07   -6.174650  106.850910          3.000000    1.000000   \nmax    4.284291e+07   -6.128390  106.893620          4.000000    2.000000   \n\n         Bedrooms        Beds  Review Count      Rating  Minimum Nights  \\\ncount  253.000000  253.000000    253.000000  253.000000      253.000000   \nmean     0.976285    1.371542     39.766798    4.720711        1.675889   \nstd      0.660260    0.687401     48.243152    0.327623        0.711088   \nmin      0.000000    0.000000      3.000000    2.330000        1.000000   \n25%      1.000000    1.000000      9.000000    4.670000        1.000000   \n50%      1.000000    1.000000     26.000000    4.800000        2.000000   \n75%      1.000000    2.000000     48.000000    4.910000        2.000000   \nmax      3.000000    4.000000    369.000000    5.000000        3.000000   \n\n       Maximum Nights      Rate (Rp)  \ncount      253.000000     253.000000  \nmean       858.312253  334130.869565  \nstd        447.315397   99716.990240  \nmin          5.000000  142000.000000  \n25%        365.000000  261006.000000  \n50%       1125.000000  325000.000000  \n75%       1125.000000  400000.000000  \nmax       1125.000000  585000.000000  ",
      "text/html": "<div>\n<style scoped>\n    .dataframe tbody tr th:only-of-type {\n        vertical-align: middle;\n    }\n\n    .dataframe tbody tr th {\n        vertical-align: top;\n    }\n\n    .dataframe thead th {\n        text-align: right;\n    }\n</style>\n<table border=\"1\" class=\"dataframe\">\n  <thead>\n    <tr style=\"text-align: right;\">\n      <th></th>\n      <th>Listing ID</th>\n      <th>Latitude</th>\n      <th>Longitude</th>\n      <th>Number of Guests</th>\n      <th>Bathrooms</th>\n      <th>Bedrooms</th>\n      <th>Beds</th>\n      <th>Review Count</th>\n      <th>Rating</th>\n      <th>Minimum Nights</th>\n      <th>Maximum Nights</th>\n      <th>Rate (Rp)</th>\n    </tr>\n  </thead>\n  <tbody>\n    <tr>\n      <th>count</th>\n      <td>2.530000e+02</td>\n      <td>253.000000</td>\n      <td>253.000000</td>\n      <td>253.000000</td>\n      <td>253.000000</td>\n      <td>253.000000</td>\n      <td>253.000000</td>\n      <td>253.000000</td>\n      <td>253.000000</td>\n      <td>253.000000</td>\n      <td>253.000000</td>\n      <td>253.000000</td>\n    </tr>\n    <tr>\n      <th>mean</th>\n      <td>2.519550e+07</td>\n      <td>-6.185002</td>\n      <td>106.834486</td>\n      <td>2.533597</td>\n      <td>1.059289</td>\n      <td>0.976285</td>\n      <td>1.371542</td>\n      <td>39.766798</td>\n      <td>4.720711</td>\n      <td>1.675889</td>\n      <td>858.312253</td>\n      <td>334130.869565</td>\n    </tr>\n    <tr>\n      <th>std</th>\n      <td>1.082139e+07</td>\n      <td>0.022538</td>\n      <td>0.024705</td>\n      <td>0.884084</td>\n      <td>0.200304</td>\n      <td>0.660260</td>\n      <td>0.687401</td>\n      <td>48.243152</td>\n      <td>0.327623</td>\n      <td>0.711088</td>\n      <td>447.315397</td>\n      <td>99716.990240</td>\n    </tr>\n    <tr>\n      <th>min</th>\n      <td>2.902830e+05</td>\n      <td>-6.242680</td>\n      <td>106.782030</td>\n      <td>1.000000</td>\n      <td>0.500000</td>\n      <td>0.000000</td>\n      <td>0.000000</td>\n      <td>3.000000</td>\n      <td>2.330000</td>\n      <td>1.000000</td>\n      <td>5.000000</td>\n      <td>142000.000000</td>\n    </tr>\n    <tr>\n      <th>25%</th>\n      <td>1.751365e+07</td>\n      <td>-6.196320</td>\n      <td>106.817020</td>\n      <td>2.000000</td>\n      <td>1.000000</td>\n      <td>1.000000</td>\n      <td>1.000000</td>\n      <td>9.000000</td>\n      <td>4.670000</td>\n      <td>1.000000</td>\n      <td>365.000000</td>\n      <td>261006.000000</td>\n    </tr>\n    <tr>\n      <th>50%</th>\n      <td>2.395856e+07</td>\n      <td>-6.191240</td>\n      <td>106.837750</td>\n      <td>2.000000</td>\n      <td>1.000000</td>\n      <td>1.000000</td>\n      <td>1.000000</td>\n      <td>26.000000</td>\n      <td>4.800000</td>\n      <td>2.000000</td>\n      <td>1125.000000</td>\n      <td>325000.000000</td>\n    </tr>\n    <tr>\n      <th>75%</th>\n      <td>3.527266e+07</td>\n      <td>-6.174650</td>\n      <td>106.850910</td>\n      <td>3.000000</td>\n      <td>1.000000</td>\n      <td>1.000000</td>\n      <td>2.000000</td>\n      <td>48.000000</td>\n      <td>4.910000</td>\n      <td>2.000000</td>\n      <td>1125.000000</td>\n      <td>400000.000000</td>\n    </tr>\n    <tr>\n      <th>max</th>\n      <td>4.284291e+07</td>\n      <td>-6.128390</td>\n      <td>106.893620</td>\n      <td>4.000000</td>\n      <td>2.000000</td>\n      <td>3.000000</td>\n      <td>4.000000</td>\n      <td>369.000000</td>\n      <td>5.000000</td>\n      <td>3.000000</td>\n      <td>1125.000000</td>\n      <td>585000.000000</td>\n    </tr>\n  </tbody>\n</table>\n</div>"
     },
     "metadata": {},
     "execution_count": 15
    }
   ],
   "source": [
    "listings_df.describe()"
   ]
  },
  {
   "cell_type": "markdown",
   "metadata": {},
   "source": [
    "Export the data into .csv."
   ]
  },
  {
   "cell_type": "code",
   "execution_count": 16,
   "metadata": {},
   "outputs": [],
   "source": [
    "listings_df.to_csv(r'~/Projects/predicting_airbnb_prices/data/central_jakarta_airbnb_listings.csv', index=False)"
   ]
  },
  {
   "cell_type": "markdown",
   "metadata": {},
   "source": [
    "### Exploratory Data Analysis"
   ]
  },
  {
   "cell_type": "code",
   "execution_count": 17,
   "metadata": {},
   "outputs": [],
   "source": [
    "from scipy import stats # Library to calculate Pearson Correlation Coefficient and P-Value"
   ]
  },
  {
   "cell_type": "markdown",
   "metadata": {},
   "source": [
    "Remove features irrelevant with the analysis."
   ]
  },
  {
   "cell_type": "code",
   "execution_count": 18,
   "metadata": {
    "tags": []
   },
   "outputs": [
    {
     "output_type": "stream",
     "name": "stdout",
     "text": "(253, 9)\n"
    },
    {
     "output_type": "execute_result",
     "data": {
      "text/plain": "   Latitude  Longitude  Number of Guests  Bathrooms  Bedrooms  Beds  \\\n0  -6.20482  106.81693                 2        1.0       1.0   0.0   \n1  -6.20469  106.81627                 4        1.5       2.0   2.0   \n2  -6.22503  106.81923                 1        1.5       1.0   1.0   \n3  -6.19405  106.81437                 2        1.0       1.0   1.0   \n4  -6.20994  106.80463                 3        1.0       1.0   1.0   \n\n   Review Count  Rating  Rate (Rp)  \n0            20    4.55   213544.0  \n1            45    4.96   435000.0  \n2            77    4.91   350000.0  \n3           136    4.90   300000.0  \n4             6    4.83   210000.0  ",
      "text/html": "<div>\n<style scoped>\n    .dataframe tbody tr th:only-of-type {\n        vertical-align: middle;\n    }\n\n    .dataframe tbody tr th {\n        vertical-align: top;\n    }\n\n    .dataframe thead th {\n        text-align: right;\n    }\n</style>\n<table border=\"1\" class=\"dataframe\">\n  <thead>\n    <tr style=\"text-align: right;\">\n      <th></th>\n      <th>Latitude</th>\n      <th>Longitude</th>\n      <th>Number of Guests</th>\n      <th>Bathrooms</th>\n      <th>Bedrooms</th>\n      <th>Beds</th>\n      <th>Review Count</th>\n      <th>Rating</th>\n      <th>Rate (Rp)</th>\n    </tr>\n  </thead>\n  <tbody>\n    <tr>\n      <th>0</th>\n      <td>-6.20482</td>\n      <td>106.81693</td>\n      <td>2</td>\n      <td>1.0</td>\n      <td>1.0</td>\n      <td>0.0</td>\n      <td>20</td>\n      <td>4.55</td>\n      <td>213544.0</td>\n    </tr>\n    <tr>\n      <th>1</th>\n      <td>-6.20469</td>\n      <td>106.81627</td>\n      <td>4</td>\n      <td>1.5</td>\n      <td>2.0</td>\n      <td>2.0</td>\n      <td>45</td>\n      <td>4.96</td>\n      <td>435000.0</td>\n    </tr>\n    <tr>\n      <th>2</th>\n      <td>-6.22503</td>\n      <td>106.81923</td>\n      <td>1</td>\n      <td>1.5</td>\n      <td>1.0</td>\n      <td>1.0</td>\n      <td>77</td>\n      <td>4.91</td>\n      <td>350000.0</td>\n    </tr>\n    <tr>\n      <th>3</th>\n      <td>-6.19405</td>\n      <td>106.81437</td>\n      <td>2</td>\n      <td>1.0</td>\n      <td>1.0</td>\n      <td>1.0</td>\n      <td>136</td>\n      <td>4.90</td>\n      <td>300000.0</td>\n    </tr>\n    <tr>\n      <th>4</th>\n      <td>-6.20994</td>\n      <td>106.80463</td>\n      <td>3</td>\n      <td>1.0</td>\n      <td>1.0</td>\n      <td>1.0</td>\n      <td>6</td>\n      <td>4.83</td>\n      <td>210000.0</td>\n    </tr>\n  </tbody>\n</table>\n</div>"
     },
     "metadata": {},
     "execution_count": 18
    }
   ],
   "source": [
    "listings_df = listings_df[['Latitude', 'Longitude', 'Number of Guests', 'Bathrooms', 'Bedrooms', 'Beds', 'Review Count', 'Rating', 'Rate (Rp)']]\n",
    "\n",
    "# Check the size of the dataframe\n",
    "print(listings_df.shape)\n",
    "listings_df.head()"
   ]
  },
  {
   "cell_type": "markdown",
   "metadata": {},
   "source": [
    "Use Pearson Correlation Coefficient to calculate the correlation between features."
   ]
  },
  {
   "cell_type": "code",
   "execution_count": 19,
   "metadata": {},
   "outputs": [
    {
     "output_type": "execute_result",
     "data": {
      "text/plain": "                  Latitude  Longitude  Number of Guests  Bathrooms  Bedrooms  \\\nLatitude          1.000000   0.246115          0.091678  -0.051144  0.171115   \nLongitude         0.246115   1.000000          0.111295  -0.046689  0.124481   \nNumber of Guests  0.091678   0.111295          1.000000   0.089546  0.558819   \nBathrooms        -0.051144  -0.046689          0.089546   1.000000  0.205707   \nBedrooms          0.171115   0.124481          0.558819   0.205707  1.000000   \nBeds              0.127403   0.201726          0.710709   0.113174  0.570317   \nReview Count     -0.123064  -0.005999          0.040145  -0.054618 -0.163374   \nRating           -0.059362   0.041744          0.042662  -0.017879 -0.007810   \nRate (Rp)        -0.048218  -0.122597          0.388266   0.047118  0.191119   \n\n                      Beds  Review Count    Rating  Rate (Rp)  \nLatitude          0.127403     -0.123064 -0.059362  -0.048218  \nLongitude         0.201726     -0.005999  0.041744  -0.122597  \nNumber of Guests  0.710709      0.040145  0.042662   0.388266  \nBathrooms         0.113174     -0.054618 -0.017879   0.047118  \nBedrooms          0.570317     -0.163374 -0.007810   0.191119  \nBeds              1.000000      0.024042  0.067893   0.240012  \nReview Count      0.024042      1.000000  0.118534   0.094474  \nRating            0.067893      0.118534  1.000000   0.130303  \nRate (Rp)         0.240012      0.094474  0.130303   1.000000  ",
      "text/html": "<div>\n<style scoped>\n    .dataframe tbody tr th:only-of-type {\n        vertical-align: middle;\n    }\n\n    .dataframe tbody tr th {\n        vertical-align: top;\n    }\n\n    .dataframe thead th {\n        text-align: right;\n    }\n</style>\n<table border=\"1\" class=\"dataframe\">\n  <thead>\n    <tr style=\"text-align: right;\">\n      <th></th>\n      <th>Latitude</th>\n      <th>Longitude</th>\n      <th>Number of Guests</th>\n      <th>Bathrooms</th>\n      <th>Bedrooms</th>\n      <th>Beds</th>\n      <th>Review Count</th>\n      <th>Rating</th>\n      <th>Rate (Rp)</th>\n    </tr>\n  </thead>\n  <tbody>\n    <tr>\n      <th>Latitude</th>\n      <td>1.000000</td>\n      <td>0.246115</td>\n      <td>0.091678</td>\n      <td>-0.051144</td>\n      <td>0.171115</td>\n      <td>0.127403</td>\n      <td>-0.123064</td>\n      <td>-0.059362</td>\n      <td>-0.048218</td>\n    </tr>\n    <tr>\n      <th>Longitude</th>\n      <td>0.246115</td>\n      <td>1.000000</td>\n      <td>0.111295</td>\n      <td>-0.046689</td>\n      <td>0.124481</td>\n      <td>0.201726</td>\n      <td>-0.005999</td>\n      <td>0.041744</td>\n      <td>-0.122597</td>\n    </tr>\n    <tr>\n      <th>Number of Guests</th>\n      <td>0.091678</td>\n      <td>0.111295</td>\n      <td>1.000000</td>\n      <td>0.089546</td>\n      <td>0.558819</td>\n      <td>0.710709</td>\n      <td>0.040145</td>\n      <td>0.042662</td>\n      <td>0.388266</td>\n    </tr>\n    <tr>\n      <th>Bathrooms</th>\n      <td>-0.051144</td>\n      <td>-0.046689</td>\n      <td>0.089546</td>\n      <td>1.000000</td>\n      <td>0.205707</td>\n      <td>0.113174</td>\n      <td>-0.054618</td>\n      <td>-0.017879</td>\n      <td>0.047118</td>\n    </tr>\n    <tr>\n      <th>Bedrooms</th>\n      <td>0.171115</td>\n      <td>0.124481</td>\n      <td>0.558819</td>\n      <td>0.205707</td>\n      <td>1.000000</td>\n      <td>0.570317</td>\n      <td>-0.163374</td>\n      <td>-0.007810</td>\n      <td>0.191119</td>\n    </tr>\n    <tr>\n      <th>Beds</th>\n      <td>0.127403</td>\n      <td>0.201726</td>\n      <td>0.710709</td>\n      <td>0.113174</td>\n      <td>0.570317</td>\n      <td>1.000000</td>\n      <td>0.024042</td>\n      <td>0.067893</td>\n      <td>0.240012</td>\n    </tr>\n    <tr>\n      <th>Review Count</th>\n      <td>-0.123064</td>\n      <td>-0.005999</td>\n      <td>0.040145</td>\n      <td>-0.054618</td>\n      <td>-0.163374</td>\n      <td>0.024042</td>\n      <td>1.000000</td>\n      <td>0.118534</td>\n      <td>0.094474</td>\n    </tr>\n    <tr>\n      <th>Rating</th>\n      <td>-0.059362</td>\n      <td>0.041744</td>\n      <td>0.042662</td>\n      <td>-0.017879</td>\n      <td>-0.007810</td>\n      <td>0.067893</td>\n      <td>0.118534</td>\n      <td>1.000000</td>\n      <td>0.130303</td>\n    </tr>\n    <tr>\n      <th>Rate (Rp)</th>\n      <td>-0.048218</td>\n      <td>-0.122597</td>\n      <td>0.388266</td>\n      <td>0.047118</td>\n      <td>0.191119</td>\n      <td>0.240012</td>\n      <td>0.094474</td>\n      <td>0.130303</td>\n      <td>1.000000</td>\n    </tr>\n  </tbody>\n</table>\n</div>"
     },
     "metadata": {},
     "execution_count": 19
    }
   ],
   "source": [
    "listings_df.corr()"
   ]
  },
  {
   "cell_type": "markdown",
   "metadata": {},
   "source": [
    "Use P-Value to calculate the statistical significance between features and Rate."
   ]
  },
  {
   "cell_type": "code",
   "execution_count": 20,
   "metadata": {
    "tags": []
   },
   "outputs": [
    {
     "output_type": "stream",
     "name": "stdout",
     "text": "The Pearson Correlation Coefficient between Bathrooms and Rate (Rp) is 0.04711756475439233 , with a P-value of P = 0.4555743856243621\nThe Pearson Correlation Coefficient between Bedrooms and Rate (Rp) is 0.1911185955239919 , with a P-value of P = 0.0022651662958699777\nThe Pearson Correlation Coefficient between Beds and Rate (Rp) is 0.2400123560317196 , with a P-value of P = 0.00011562187328412912\nThe Pearson Correlation Coefficient between Number of Guests and Rate (Rp) is 0.3882660237263196 , with a P-value of P = 1.575012189309228e-10\nThe Pearson Correlation Coefficient between Rating and Rate (Rp) is 0.13030339651564837 , with a P-value of P = 0.03834222128713578\nThe Pearson Correlation Coefficient between Review Count and Rate (Rp) is 0.09447403051505836 , with a P-value of P = 0.1339738345518272\n"
    }
   ],
   "source": [
    "features = list(listings_df.columns.difference(['Latitude', 'Longitude', 'Rate (Rp)']))\n",
    "\n",
    "for feature in features:\n",
    "    pearson_coef, p_value = stats.pearsonr(listings_df[feature], listings_df['Rate (Rp)'])\n",
    "    print(\"The Pearson Correlation Coefficient between \" + feature + \" and Rate (Rp) is\", pearson_coef, \", with a P-value of P =\", p_value)  "
   ]
  },
  {
   "cell_type": "markdown",
   "metadata": {},
   "source": [
    "Since the Pearson Correlation Coefficient between 'Number of Guests' and 'Beds' is more than 0.7, exclude 'Beds' from analysis. Since the P-Value of 'Bathrooms' and 'Review Count' is higher than 0.1, exclude both of these features from analysis. "
   ]
  },
  {
   "cell_type": "code",
   "execution_count": 21,
   "metadata": {
    "tags": []
   },
   "outputs": [
    {
     "output_type": "stream",
     "name": "stdout",
     "text": "(253, 6)\n"
    },
    {
     "output_type": "execute_result",
     "data": {
      "text/plain": "   Latitude  Longitude  Number of Guests  Bedrooms  Rating  Rate (Rp)\n0  -6.20482  106.81693                 2       1.0    4.55   213544.0\n1  -6.20469  106.81627                 4       2.0    4.96   435000.0\n2  -6.22503  106.81923                 1       1.0    4.91   350000.0\n3  -6.19405  106.81437                 2       1.0    4.90   300000.0\n4  -6.20994  106.80463                 3       1.0    4.83   210000.0",
      "text/html": "<div>\n<style scoped>\n    .dataframe tbody tr th:only-of-type {\n        vertical-align: middle;\n    }\n\n    .dataframe tbody tr th {\n        vertical-align: top;\n    }\n\n    .dataframe thead th {\n        text-align: right;\n    }\n</style>\n<table border=\"1\" class=\"dataframe\">\n  <thead>\n    <tr style=\"text-align: right;\">\n      <th></th>\n      <th>Latitude</th>\n      <th>Longitude</th>\n      <th>Number of Guests</th>\n      <th>Bedrooms</th>\n      <th>Rating</th>\n      <th>Rate (Rp)</th>\n    </tr>\n  </thead>\n  <tbody>\n    <tr>\n      <th>0</th>\n      <td>-6.20482</td>\n      <td>106.81693</td>\n      <td>2</td>\n      <td>1.0</td>\n      <td>4.55</td>\n      <td>213544.0</td>\n    </tr>\n    <tr>\n      <th>1</th>\n      <td>-6.20469</td>\n      <td>106.81627</td>\n      <td>4</td>\n      <td>2.0</td>\n      <td>4.96</td>\n      <td>435000.0</td>\n    </tr>\n    <tr>\n      <th>2</th>\n      <td>-6.22503</td>\n      <td>106.81923</td>\n      <td>1</td>\n      <td>1.0</td>\n      <td>4.91</td>\n      <td>350000.0</td>\n    </tr>\n    <tr>\n      <th>3</th>\n      <td>-6.19405</td>\n      <td>106.81437</td>\n      <td>2</td>\n      <td>1.0</td>\n      <td>4.90</td>\n      <td>300000.0</td>\n    </tr>\n    <tr>\n      <th>4</th>\n      <td>-6.20994</td>\n      <td>106.80463</td>\n      <td>3</td>\n      <td>1.0</td>\n      <td>4.83</td>\n      <td>210000.0</td>\n    </tr>\n  </tbody>\n</table>\n</div>"
     },
     "metadata": {},
     "execution_count": 21
    }
   ],
   "source": [
    "listings_df = listings_df[['Latitude', 'Longitude', 'Number of Guests', 'Bedrooms', 'Rating', 'Rate (Rp)']]\n",
    "\n",
    "# Check the size of the dataframe\n",
    "print(listings_df.shape)\n",
    "listings_df.head()"
   ]
  },
  {
   "cell_type": "markdown",
   "metadata": {},
   "source": [
    "## Methodology <a name=\"methodology\"></a>"
   ]
  },
  {
   "cell_type": "markdown",
   "metadata": {},
   "source": [
    "Data obtained from Airbnb API is limited to 50 per request. In order to obtain more data, instead of querying with ‘Central Jakarta’, districts within Central Jakarta were used for the queries. I then proceed by dropping the duplicate data. I evaluated the missing data. Because the quantity of missing data on  the ‘Rating’ feature is significant, I dropped the rows with missing data. After the missing data were processed, I dropped the data with ‘Room Type’ value of ‘Shared Room’, ‘Number of Guests’ more than 4, and ‘Minimum Nights’ more than 3. I then proceed by removing ‘Rate’ outliers with IQR. I then reset the index of dataframe.\n",
    "\n",
    "After the data has been preprocessed, we remove irrelevant features. Then Pearson Correlation Coefficient was used to calculate the correlation between features. P-value was also used to calculate the statistical significance between features and Rates. The features that were used are ‘Latitude’, ‘Longitude’, ‘Number of Guests’, ‘Bedrooms’, ‘Rating’. Next, we normalize  and train test split the data. Finally we can implement KNN model."
   ]
  },
  {
   "cell_type": "markdown",
   "metadata": {},
   "source": [
    "## Analysis <a name=\"analysis\"></a>"
   ]
  },
  {
   "cell_type": "markdown",
   "metadata": {},
   "source": [
    "### Import Necessary Libraries"
   ]
  },
  {
   "cell_type": "code",
   "execution_count": 22,
   "metadata": {},
   "outputs": [],
   "source": [
    "import matplotlib.pyplot as plt # Library for data visualization\n",
    "from sklearn import preprocessing # Library to normalize data\n",
    "from sklearn.model_selection import train_test_split # Library for train test split data\n",
    "from sklearn import neighbors # Library for KNN model\n",
    "from sklearn.metrics import mean_squared_error # Library to calculate MSE\n",
    "from math import sqrt # Library for square root\n",
    "from sklearn.model_selection import GridSearchCV # Library for grid search\n",
    "%matplotlib inline"
   ]
  },
  {
   "cell_type": "markdown",
   "metadata": {},
   "source": [
    "Explore data using visualization technique."
   ]
  },
  {
   "cell_type": "code",
   "execution_count": 23,
   "metadata": {},
   "outputs": [
    {
     "output_type": "execute_result",
     "data": {
      "text/plain": "array([[<matplotlib.axes._subplots.AxesSubplot object at 0x7f4f4064f220>]],\n      dtype=object)"
     },
     "metadata": {},
     "execution_count": 23
    },
    {
     "output_type": "display_data",
     "data": {
      "text/plain": "<Figure size 432x288 with 1 Axes>",
      "image/svg+xml": "<?xml version=\"1.0\" encoding=\"utf-8\" standalone=\"no\"?>\n<!DOCTYPE svg PUBLIC \"-//W3C//DTD SVG 1.1//EN\"\n  \"http://www.w3.org/Graphics/SVG/1.1/DTD/svg11.dtd\">\n<!-- Created with matplotlib (https://matplotlib.org/) -->\n<svg height=\"263.63625pt\" version=\"1.1\" viewBox=\"0 0 383.100085 263.63625\" width=\"383.100085pt\" xmlns=\"http://www.w3.org/2000/svg\" xmlns:xlink=\"http://www.w3.org/1999/xlink\">\n <defs>\n  <style type=\"text/css\">\n*{stroke-linecap:butt;stroke-linejoin:round;}\n  </style>\n </defs>\n <g id=\"figure_1\">\n  <g id=\"patch_1\">\n   <path d=\"M -0 263.63625 \nL 383.100085 263.63625 \nL 383.100085 0 \nL -0 0 \nz\n\" style=\"fill:none;\"/>\n  </g>\n  <g id=\"axes_1\">\n   <g id=\"patch_2\">\n    <path d=\"M 26.925 239.758125 \nL 361.725 239.758125 \nL 361.725 22.318125 \nL 26.925 22.318125 \nz\n\" style=\"fill:#ffffff;\"/>\n   </g>\n   <g id=\"patch_3\">\n    <path clip-path=\"url(#p0e8c5f1ec8)\" d=\"M 42.143182 239.758125 \nL 62.434091 239.758125 \nL 62.434091 170.729554 \nL 42.143182 170.729554 \nz\n\" style=\"fill:#1f77b4;\"/>\n   </g>\n   <g id=\"patch_4\">\n    <path clip-path=\"url(#p0e8c5f1ec8)\" d=\"M 62.434091 239.758125 \nL 82.725 239.758125 \nL 82.725 176.481935 \nL 62.434091 176.481935 \nz\n\" style=\"fill:#1f77b4;\"/>\n   </g>\n   <g id=\"patch_5\">\n    <path clip-path=\"url(#p0e8c5f1ec8)\" d=\"M 82.725 239.758125 \nL 103.015909 239.758125 \nL 103.015909 136.215268 \nL 82.725 136.215268 \nz\n\" style=\"fill:#1f77b4;\"/>\n   </g>\n   <g id=\"patch_6\">\n    <path clip-path=\"url(#p0e8c5f1ec8)\" d=\"M 103.015909 239.758125 \nL 123.306818 239.758125 \nL 123.306818 113.205744 \nL 103.015909 113.205744 \nz\n\" style=\"fill:#1f77b4;\"/>\n   </g>\n   <g id=\"patch_7\">\n    <path clip-path=\"url(#p0e8c5f1ec8)\" d=\"M 123.306818 239.758125 \nL 143.597727 239.758125 \nL 143.597727 118.958125 \nL 123.306818 118.958125 \nz\n\" style=\"fill:#1f77b4;\"/>\n   </g>\n   <g id=\"patch_8\">\n    <path clip-path=\"url(#p0e8c5f1ec8)\" d=\"M 143.597727 239.758125 \nL 163.888636 239.758125 \nL 163.888636 32.672411 \nL 143.597727 32.672411 \nz\n\" style=\"fill:#1f77b4;\"/>\n   </g>\n   <g id=\"patch_9\">\n    <path clip-path=\"url(#p0e8c5f1ec8)\" d=\"M 163.888636 239.758125 \nL 184.179545 239.758125 \nL 184.179545 107.453363 \nL 163.888636 107.453363 \nz\n\" style=\"fill:#1f77b4;\"/>\n   </g>\n   <g id=\"patch_10\">\n    <path clip-path=\"url(#p0e8c5f1ec8)\" d=\"M 184.179545 239.758125 \nL 204.470455 239.758125 \nL 204.470455 67.186696 \nL 184.179545 67.186696 \nz\n\" style=\"fill:#1f77b4;\"/>\n   </g>\n   <g id=\"patch_11\">\n    <path clip-path=\"url(#p0e8c5f1ec8)\" d=\"M 204.470455 239.758125 \nL 224.761364 239.758125 \nL 224.761364 90.19622 \nL 204.470455 90.19622 \nz\n\" style=\"fill:#1f77b4;\"/>\n   </g>\n   <g id=\"patch_12\">\n    <path clip-path=\"url(#p0e8c5f1ec8)\" d=\"M 224.761364 239.758125 \nL 245.052273 239.758125 \nL 245.052273 164.977173 \nL 224.761364 164.977173 \nz\n\" style=\"fill:#1f77b4;\"/>\n   </g>\n   <g id=\"patch_13\">\n    <path clip-path=\"url(#p0e8c5f1ec8)\" d=\"M 245.052273 239.758125 \nL 265.343182 239.758125 \nL 265.343182 147.72003 \nL 245.052273 147.72003 \nz\n\" style=\"fill:#1f77b4;\"/>\n   </g>\n   <g id=\"patch_14\">\n    <path clip-path=\"url(#p0e8c5f1ec8)\" d=\"M 265.343182 239.758125 \nL 285.634091 239.758125 \nL 285.634091 216.748601 \nL 265.343182 216.748601 \nz\n\" style=\"fill:#1f77b4;\"/>\n   </g>\n   <g id=\"patch_15\">\n    <path clip-path=\"url(#p0e8c5f1ec8)\" d=\"M 285.634091 239.758125 \nL 305.925 239.758125 \nL 305.925 199.491458 \nL 285.634091 199.491458 \nz\n\" style=\"fill:#1f77b4;\"/>\n   </g>\n   <g id=\"patch_16\">\n    <path clip-path=\"url(#p0e8c5f1ec8)\" d=\"M 305.925 239.758125 \nL 326.215909 239.758125 \nL 326.215909 170.729554 \nL 305.925 170.729554 \nz\n\" style=\"fill:#1f77b4;\"/>\n   </g>\n   <g id=\"patch_17\">\n    <path clip-path=\"url(#p0e8c5f1ec8)\" d=\"M 326.215909 239.758125 \nL 346.506818 239.758125 \nL 346.506818 228.253363 \nL 326.215909 228.253363 \nz\n\" style=\"fill:#1f77b4;\"/>\n   </g>\n   <g id=\"matplotlib.axis_1\">\n    <g id=\"xtick_1\">\n     <g id=\"line2d_1\">\n      <path clip-path=\"url(#p0e8c5f1ec8)\" d=\"M 81.992145 239.758125 \nL 81.992145 22.318125 \n\" style=\"fill:none;stroke:#b0b0b0;stroke-linecap:square;stroke-width:0.8;\"/>\n     </g>\n     <g id=\"line2d_2\">\n      <defs>\n       <path d=\"M 0 0 \nL 0 3.5 \n\" id=\"mee4e5f3cfd\" style=\"stroke:#000000;stroke-width:0.8;\"/>\n      </defs>\n      <g>\n       <use style=\"stroke:#000000;stroke-width:0.8;\" x=\"81.992145\" xlink:href=\"#mee4e5f3cfd\" y=\"239.758125\"/>\n      </g>\n     </g>\n     <g id=\"text_1\">\n      <!-- 200000 -->\n      <defs>\n       <path d=\"M 19.1875 8.296875 \nL 53.609375 8.296875 \nL 53.609375 0 \nL 7.328125 0 \nL 7.328125 8.296875 \nQ 12.9375 14.109375 22.625 23.890625 \nQ 32.328125 33.6875 34.8125 36.53125 \nQ 39.546875 41.84375 41.421875 45.53125 \nQ 43.3125 49.21875 43.3125 52.78125 \nQ 43.3125 58.59375 39.234375 62.25 \nQ 35.15625 65.921875 28.609375 65.921875 \nQ 23.96875 65.921875 18.8125 64.3125 \nQ 13.671875 62.703125 7.8125 59.421875 \nL 7.8125 69.390625 \nQ 13.765625 71.78125 18.9375 73 \nQ 24.125 74.21875 28.421875 74.21875 \nQ 39.75 74.21875 46.484375 68.546875 \nQ 53.21875 62.890625 53.21875 53.421875 \nQ 53.21875 48.921875 51.53125 44.890625 \nQ 49.859375 40.875 45.40625 35.40625 \nQ 44.1875 33.984375 37.640625 27.21875 \nQ 31.109375 20.453125 19.1875 8.296875 \nz\n\" id=\"DejaVuSans-50\"/>\n       <path d=\"M 31.78125 66.40625 \nQ 24.171875 66.40625 20.328125 58.90625 \nQ 16.5 51.421875 16.5 36.375 \nQ 16.5 21.390625 20.328125 13.890625 \nQ 24.171875 6.390625 31.78125 6.390625 \nQ 39.453125 6.390625 43.28125 13.890625 \nQ 47.125 21.390625 47.125 36.375 \nQ 47.125 51.421875 43.28125 58.90625 \nQ 39.453125 66.40625 31.78125 66.40625 \nz\nM 31.78125 74.21875 \nQ 44.046875 74.21875 50.515625 64.515625 \nQ 56.984375 54.828125 56.984375 36.375 \nQ 56.984375 17.96875 50.515625 8.265625 \nQ 44.046875 -1.421875 31.78125 -1.421875 \nQ 19.53125 -1.421875 13.0625 8.265625 \nQ 6.59375 17.96875 6.59375 36.375 \nQ 6.59375 54.828125 13.0625 64.515625 \nQ 19.53125 74.21875 31.78125 74.21875 \nz\n\" id=\"DejaVuSans-48\"/>\n      </defs>\n      <g transform=\"translate(62.904645 254.356563)scale(0.1 -0.1)\">\n       <use xlink:href=\"#DejaVuSans-50\"/>\n       <use x=\"63.623047\" xlink:href=\"#DejaVuSans-48\"/>\n       <use x=\"127.246094\" xlink:href=\"#DejaVuSans-48\"/>\n       <use x=\"190.869141\" xlink:href=\"#DejaVuSans-48\"/>\n       <use x=\"254.492188\" xlink:href=\"#DejaVuSans-48\"/>\n       <use x=\"318.115234\" xlink:href=\"#DejaVuSans-48\"/>\n      </g>\n     </g>\n    </g>\n    <g id=\"xtick_2\">\n     <g id=\"line2d_3\">\n      <path clip-path=\"url(#p0e8c5f1ec8)\" d=\"M 150.697255 239.758125 \nL 150.697255 22.318125 \n\" style=\"fill:none;stroke:#b0b0b0;stroke-linecap:square;stroke-width:0.8;\"/>\n     </g>\n     <g id=\"line2d_4\">\n      <g>\n       <use style=\"stroke:#000000;stroke-width:0.8;\" x=\"150.697255\" xlink:href=\"#mee4e5f3cfd\" y=\"239.758125\"/>\n      </g>\n     </g>\n     <g id=\"text_2\">\n      <!-- 300000 -->\n      <defs>\n       <path d=\"M 40.578125 39.3125 \nQ 47.65625 37.796875 51.625 33 \nQ 55.609375 28.21875 55.609375 21.1875 \nQ 55.609375 10.40625 48.1875 4.484375 \nQ 40.765625 -1.421875 27.09375 -1.421875 \nQ 22.515625 -1.421875 17.65625 -0.515625 \nQ 12.796875 0.390625 7.625 2.203125 \nL 7.625 11.71875 \nQ 11.71875 9.328125 16.59375 8.109375 \nQ 21.484375 6.890625 26.8125 6.890625 \nQ 36.078125 6.890625 40.9375 10.546875 \nQ 45.796875 14.203125 45.796875 21.1875 \nQ 45.796875 27.640625 41.28125 31.265625 \nQ 36.765625 34.90625 28.71875 34.90625 \nL 20.21875 34.90625 \nL 20.21875 43.015625 \nL 29.109375 43.015625 \nQ 36.375 43.015625 40.234375 45.921875 \nQ 44.09375 48.828125 44.09375 54.296875 \nQ 44.09375 59.90625 40.109375 62.90625 \nQ 36.140625 65.921875 28.71875 65.921875 \nQ 24.65625 65.921875 20.015625 65.03125 \nQ 15.375 64.15625 9.8125 62.3125 \nL 9.8125 71.09375 \nQ 15.4375 72.65625 20.34375 73.4375 \nQ 25.25 74.21875 29.59375 74.21875 \nQ 40.828125 74.21875 47.359375 69.109375 \nQ 53.90625 64.015625 53.90625 55.328125 \nQ 53.90625 49.265625 50.4375 45.09375 \nQ 46.96875 40.921875 40.578125 39.3125 \nz\n\" id=\"DejaVuSans-51\"/>\n      </defs>\n      <g transform=\"translate(131.609755 254.356563)scale(0.1 -0.1)\">\n       <use xlink:href=\"#DejaVuSans-51\"/>\n       <use x=\"63.623047\" xlink:href=\"#DejaVuSans-48\"/>\n       <use x=\"127.246094\" xlink:href=\"#DejaVuSans-48\"/>\n       <use x=\"190.869141\" xlink:href=\"#DejaVuSans-48\"/>\n       <use x=\"254.492188\" xlink:href=\"#DejaVuSans-48\"/>\n       <use x=\"318.115234\" xlink:href=\"#DejaVuSans-48\"/>\n      </g>\n     </g>\n    </g>\n    <g id=\"xtick_3\">\n     <g id=\"line2d_5\">\n      <path clip-path=\"url(#p0e8c5f1ec8)\" d=\"M 219.402365 239.758125 \nL 219.402365 22.318125 \n\" style=\"fill:none;stroke:#b0b0b0;stroke-linecap:square;stroke-width:0.8;\"/>\n     </g>\n     <g id=\"line2d_6\">\n      <g>\n       <use style=\"stroke:#000000;stroke-width:0.8;\" x=\"219.402365\" xlink:href=\"#mee4e5f3cfd\" y=\"239.758125\"/>\n      </g>\n     </g>\n     <g id=\"text_3\">\n      <!-- 400000 -->\n      <defs>\n       <path d=\"M 37.796875 64.3125 \nL 12.890625 25.390625 \nL 37.796875 25.390625 \nz\nM 35.203125 72.90625 \nL 47.609375 72.90625 \nL 47.609375 25.390625 \nL 58.015625 25.390625 \nL 58.015625 17.1875 \nL 47.609375 17.1875 \nL 47.609375 0 \nL 37.796875 0 \nL 37.796875 17.1875 \nL 4.890625 17.1875 \nL 4.890625 26.703125 \nz\n\" id=\"DejaVuSans-52\"/>\n      </defs>\n      <g transform=\"translate(200.314865 254.356563)scale(0.1 -0.1)\">\n       <use xlink:href=\"#DejaVuSans-52\"/>\n       <use x=\"63.623047\" xlink:href=\"#DejaVuSans-48\"/>\n       <use x=\"127.246094\" xlink:href=\"#DejaVuSans-48\"/>\n       <use x=\"190.869141\" xlink:href=\"#DejaVuSans-48\"/>\n       <use x=\"254.492188\" xlink:href=\"#DejaVuSans-48\"/>\n       <use x=\"318.115234\" xlink:href=\"#DejaVuSans-48\"/>\n      </g>\n     </g>\n    </g>\n    <g id=\"xtick_4\">\n     <g id=\"line2d_7\">\n      <path clip-path=\"url(#p0e8c5f1ec8)\" d=\"M 288.107475 239.758125 \nL 288.107475 22.318125 \n\" style=\"fill:none;stroke:#b0b0b0;stroke-linecap:square;stroke-width:0.8;\"/>\n     </g>\n     <g id=\"line2d_8\">\n      <g>\n       <use style=\"stroke:#000000;stroke-width:0.8;\" x=\"288.107475\" xlink:href=\"#mee4e5f3cfd\" y=\"239.758125\"/>\n      </g>\n     </g>\n     <g id=\"text_4\">\n      <!-- 500000 -->\n      <defs>\n       <path d=\"M 10.796875 72.90625 \nL 49.515625 72.90625 \nL 49.515625 64.59375 \nL 19.828125 64.59375 \nL 19.828125 46.734375 \nQ 21.96875 47.46875 24.109375 47.828125 \nQ 26.265625 48.1875 28.421875 48.1875 \nQ 40.625 48.1875 47.75 41.5 \nQ 54.890625 34.8125 54.890625 23.390625 \nQ 54.890625 11.625 47.5625 5.09375 \nQ 40.234375 -1.421875 26.90625 -1.421875 \nQ 22.3125 -1.421875 17.546875 -0.640625 \nQ 12.796875 0.140625 7.71875 1.703125 \nL 7.71875 11.625 \nQ 12.109375 9.234375 16.796875 8.0625 \nQ 21.484375 6.890625 26.703125 6.890625 \nQ 35.15625 6.890625 40.078125 11.328125 \nQ 45.015625 15.765625 45.015625 23.390625 \nQ 45.015625 31 40.078125 35.4375 \nQ 35.15625 39.890625 26.703125 39.890625 \nQ 22.75 39.890625 18.8125 39.015625 \nQ 14.890625 38.140625 10.796875 36.28125 \nz\n\" id=\"DejaVuSans-53\"/>\n      </defs>\n      <g transform=\"translate(269.019975 254.356563)scale(0.1 -0.1)\">\n       <use xlink:href=\"#DejaVuSans-53\"/>\n       <use x=\"63.623047\" xlink:href=\"#DejaVuSans-48\"/>\n       <use x=\"127.246094\" xlink:href=\"#DejaVuSans-48\"/>\n       <use x=\"190.869141\" xlink:href=\"#DejaVuSans-48\"/>\n       <use x=\"254.492188\" xlink:href=\"#DejaVuSans-48\"/>\n       <use x=\"318.115234\" xlink:href=\"#DejaVuSans-48\"/>\n      </g>\n     </g>\n    </g>\n    <g id=\"xtick_5\">\n     <g id=\"line2d_9\">\n      <path clip-path=\"url(#p0e8c5f1ec8)\" d=\"M 356.812585 239.758125 \nL 356.812585 22.318125 \n\" style=\"fill:none;stroke:#b0b0b0;stroke-linecap:square;stroke-width:0.8;\"/>\n     </g>\n     <g id=\"line2d_10\">\n      <g>\n       <use style=\"stroke:#000000;stroke-width:0.8;\" x=\"356.812585\" xlink:href=\"#mee4e5f3cfd\" y=\"239.758125\"/>\n      </g>\n     </g>\n     <g id=\"text_5\">\n      <!-- 600000 -->\n      <defs>\n       <path d=\"M 33.015625 40.375 \nQ 26.375 40.375 22.484375 35.828125 \nQ 18.609375 31.296875 18.609375 23.390625 \nQ 18.609375 15.53125 22.484375 10.953125 \nQ 26.375 6.390625 33.015625 6.390625 \nQ 39.65625 6.390625 43.53125 10.953125 \nQ 47.40625 15.53125 47.40625 23.390625 \nQ 47.40625 31.296875 43.53125 35.828125 \nQ 39.65625 40.375 33.015625 40.375 \nz\nM 52.59375 71.296875 \nL 52.59375 62.3125 \nQ 48.875 64.0625 45.09375 64.984375 \nQ 41.3125 65.921875 37.59375 65.921875 \nQ 27.828125 65.921875 22.671875 59.328125 \nQ 17.53125 52.734375 16.796875 39.40625 \nQ 19.671875 43.65625 24.015625 45.921875 \nQ 28.375 48.1875 33.59375 48.1875 \nQ 44.578125 48.1875 50.953125 41.515625 \nQ 57.328125 34.859375 57.328125 23.390625 \nQ 57.328125 12.15625 50.6875 5.359375 \nQ 44.046875 -1.421875 33.015625 -1.421875 \nQ 20.359375 -1.421875 13.671875 8.265625 \nQ 6.984375 17.96875 6.984375 36.375 \nQ 6.984375 53.65625 15.1875 63.9375 \nQ 23.390625 74.21875 37.203125 74.21875 \nQ 40.921875 74.21875 44.703125 73.484375 \nQ 48.484375 72.75 52.59375 71.296875 \nz\n\" id=\"DejaVuSans-54\"/>\n      </defs>\n      <g transform=\"translate(337.725085 254.356563)scale(0.1 -0.1)\">\n       <use xlink:href=\"#DejaVuSans-54\"/>\n       <use x=\"63.623047\" xlink:href=\"#DejaVuSans-48\"/>\n       <use x=\"127.246094\" xlink:href=\"#DejaVuSans-48\"/>\n       <use x=\"190.869141\" xlink:href=\"#DejaVuSans-48\"/>\n       <use x=\"254.492188\" xlink:href=\"#DejaVuSans-48\"/>\n       <use x=\"318.115234\" xlink:href=\"#DejaVuSans-48\"/>\n      </g>\n     </g>\n    </g>\n   </g>\n   <g id=\"matplotlib.axis_2\">\n    <g id=\"ytick_1\">\n     <g id=\"line2d_11\">\n      <path clip-path=\"url(#p0e8c5f1ec8)\" d=\"M 26.925 239.758125 \nL 361.725 239.758125 \n\" style=\"fill:none;stroke:#b0b0b0;stroke-linecap:square;stroke-width:0.8;\"/>\n     </g>\n     <g id=\"line2d_12\">\n      <defs>\n       <path d=\"M 0 0 \nL -3.5 0 \n\" id=\"m1ab0a464da\" style=\"stroke:#000000;stroke-width:0.8;\"/>\n      </defs>\n      <g>\n       <use style=\"stroke:#000000;stroke-width:0.8;\" x=\"26.925\" xlink:href=\"#m1ab0a464da\" y=\"239.758125\"/>\n      </g>\n     </g>\n     <g id=\"text_6\">\n      <!-- 0 -->\n      <g transform=\"translate(13.5625 243.557344)scale(0.1 -0.1)\">\n       <use xlink:href=\"#DejaVuSans-48\"/>\n      </g>\n     </g>\n    </g>\n    <g id=\"ytick_2\">\n     <g id=\"line2d_13\">\n      <path clip-path=\"url(#p0e8c5f1ec8)\" d=\"M 26.925 210.99622 \nL 361.725 210.99622 \n\" style=\"fill:none;stroke:#b0b0b0;stroke-linecap:square;stroke-width:0.8;\"/>\n     </g>\n     <g id=\"line2d_14\">\n      <g>\n       <use style=\"stroke:#000000;stroke-width:0.8;\" x=\"26.925\" xlink:href=\"#m1ab0a464da\" y=\"210.99622\"/>\n      </g>\n     </g>\n     <g id=\"text_7\">\n      <!-- 5 -->\n      <g transform=\"translate(13.5625 214.795439)scale(0.1 -0.1)\">\n       <use xlink:href=\"#DejaVuSans-53\"/>\n      </g>\n     </g>\n    </g>\n    <g id=\"ytick_3\">\n     <g id=\"line2d_15\">\n      <path clip-path=\"url(#p0e8c5f1ec8)\" d=\"M 26.925 182.234315 \nL 361.725 182.234315 \n\" style=\"fill:none;stroke:#b0b0b0;stroke-linecap:square;stroke-width:0.8;\"/>\n     </g>\n     <g id=\"line2d_16\">\n      <g>\n       <use style=\"stroke:#000000;stroke-width:0.8;\" x=\"26.925\" xlink:href=\"#m1ab0a464da\" y=\"182.234315\"/>\n      </g>\n     </g>\n     <g id=\"text_8\">\n      <!-- 10 -->\n      <defs>\n       <path d=\"M 12.40625 8.296875 \nL 28.515625 8.296875 \nL 28.515625 63.921875 \nL 10.984375 60.40625 \nL 10.984375 69.390625 \nL 28.421875 72.90625 \nL 38.28125 72.90625 \nL 38.28125 8.296875 \nL 54.390625 8.296875 \nL 54.390625 0 \nL 12.40625 0 \nz\n\" id=\"DejaVuSans-49\"/>\n      </defs>\n      <g transform=\"translate(7.2 186.033534)scale(0.1 -0.1)\">\n       <use xlink:href=\"#DejaVuSans-49\"/>\n       <use x=\"63.623047\" xlink:href=\"#DejaVuSans-48\"/>\n      </g>\n     </g>\n    </g>\n    <g id=\"ytick_4\">\n     <g id=\"line2d_17\">\n      <path clip-path=\"url(#p0e8c5f1ec8)\" d=\"M 26.925 153.472411 \nL 361.725 153.472411 \n\" style=\"fill:none;stroke:#b0b0b0;stroke-linecap:square;stroke-width:0.8;\"/>\n     </g>\n     <g id=\"line2d_18\">\n      <g>\n       <use style=\"stroke:#000000;stroke-width:0.8;\" x=\"26.925\" xlink:href=\"#m1ab0a464da\" y=\"153.472411\"/>\n      </g>\n     </g>\n     <g id=\"text_9\">\n      <!-- 15 -->\n      <g transform=\"translate(7.2 157.271629)scale(0.1 -0.1)\">\n       <use xlink:href=\"#DejaVuSans-49\"/>\n       <use x=\"63.623047\" xlink:href=\"#DejaVuSans-53\"/>\n      </g>\n     </g>\n    </g>\n    <g id=\"ytick_5\">\n     <g id=\"line2d_19\">\n      <path clip-path=\"url(#p0e8c5f1ec8)\" d=\"M 26.925 124.710506 \nL 361.725 124.710506 \n\" style=\"fill:none;stroke:#b0b0b0;stroke-linecap:square;stroke-width:0.8;\"/>\n     </g>\n     <g id=\"line2d_20\">\n      <g>\n       <use style=\"stroke:#000000;stroke-width:0.8;\" x=\"26.925\" xlink:href=\"#m1ab0a464da\" y=\"124.710506\"/>\n      </g>\n     </g>\n     <g id=\"text_10\">\n      <!-- 20 -->\n      <g transform=\"translate(7.2 128.509725)scale(0.1 -0.1)\">\n       <use xlink:href=\"#DejaVuSans-50\"/>\n       <use x=\"63.623047\" xlink:href=\"#DejaVuSans-48\"/>\n      </g>\n     </g>\n    </g>\n    <g id=\"ytick_6\">\n     <g id=\"line2d_21\">\n      <path clip-path=\"url(#p0e8c5f1ec8)\" d=\"M 26.925 95.948601 \nL 361.725 95.948601 \n\" style=\"fill:none;stroke:#b0b0b0;stroke-linecap:square;stroke-width:0.8;\"/>\n     </g>\n     <g id=\"line2d_22\">\n      <g>\n       <use style=\"stroke:#000000;stroke-width:0.8;\" x=\"26.925\" xlink:href=\"#m1ab0a464da\" y=\"95.948601\"/>\n      </g>\n     </g>\n     <g id=\"text_11\">\n      <!-- 25 -->\n      <g transform=\"translate(7.2 99.74782)scale(0.1 -0.1)\">\n       <use xlink:href=\"#DejaVuSans-50\"/>\n       <use x=\"63.623047\" xlink:href=\"#DejaVuSans-53\"/>\n      </g>\n     </g>\n    </g>\n    <g id=\"ytick_7\">\n     <g id=\"line2d_23\">\n      <path clip-path=\"url(#p0e8c5f1ec8)\" d=\"M 26.925 67.186696 \nL 361.725 67.186696 \n\" style=\"fill:none;stroke:#b0b0b0;stroke-linecap:square;stroke-width:0.8;\"/>\n     </g>\n     <g id=\"line2d_24\">\n      <g>\n       <use style=\"stroke:#000000;stroke-width:0.8;\" x=\"26.925\" xlink:href=\"#m1ab0a464da\" y=\"67.186696\"/>\n      </g>\n     </g>\n     <g id=\"text_12\">\n      <!-- 30 -->\n      <g transform=\"translate(7.2 70.985915)scale(0.1 -0.1)\">\n       <use xlink:href=\"#DejaVuSans-51\"/>\n       <use x=\"63.623047\" xlink:href=\"#DejaVuSans-48\"/>\n      </g>\n     </g>\n    </g>\n    <g id=\"ytick_8\">\n     <g id=\"line2d_25\">\n      <path clip-path=\"url(#p0e8c5f1ec8)\" d=\"M 26.925 38.424792 \nL 361.725 38.424792 \n\" style=\"fill:none;stroke:#b0b0b0;stroke-linecap:square;stroke-width:0.8;\"/>\n     </g>\n     <g id=\"line2d_26\">\n      <g>\n       <use style=\"stroke:#000000;stroke-width:0.8;\" x=\"26.925\" xlink:href=\"#m1ab0a464da\" y=\"38.424792\"/>\n      </g>\n     </g>\n     <g id=\"text_13\">\n      <!-- 35 -->\n      <g transform=\"translate(7.2 42.22401)scale(0.1 -0.1)\">\n       <use xlink:href=\"#DejaVuSans-51\"/>\n       <use x=\"63.623047\" xlink:href=\"#DejaVuSans-53\"/>\n      </g>\n     </g>\n    </g>\n   </g>\n   <g id=\"patch_18\">\n    <path d=\"M 26.925 239.758125 \nL 26.925 22.318125 \n\" style=\"fill:none;stroke:#000000;stroke-linecap:square;stroke-linejoin:miter;stroke-width:0.8;\"/>\n   </g>\n   <g id=\"patch_19\">\n    <path d=\"M 361.725 239.758125 \nL 361.725 22.318125 \n\" style=\"fill:none;stroke:#000000;stroke-linecap:square;stroke-linejoin:miter;stroke-width:0.8;\"/>\n   </g>\n   <g id=\"patch_20\">\n    <path d=\"M 26.925 239.758125 \nL 361.725 239.758125 \n\" style=\"fill:none;stroke:#000000;stroke-linecap:square;stroke-linejoin:miter;stroke-width:0.8;\"/>\n   </g>\n   <g id=\"patch_21\">\n    <path d=\"M 26.925 22.318125 \nL 361.725 22.318125 \n\" style=\"fill:none;stroke:#000000;stroke-linecap:square;stroke-linejoin:miter;stroke-width:0.8;\"/>\n   </g>\n   <g id=\"text_14\">\n    <!-- Rate (Rp) -->\n    <defs>\n     <path d=\"M 44.390625 34.1875 \nQ 47.5625 33.109375 50.5625 29.59375 \nQ 53.5625 26.078125 56.59375 19.921875 \nL 66.609375 0 \nL 56 0 \nL 46.6875 18.703125 \nQ 43.0625 26.03125 39.671875 28.421875 \nQ 36.28125 30.8125 30.421875 30.8125 \nL 19.671875 30.8125 \nL 19.671875 0 \nL 9.8125 0 \nL 9.8125 72.90625 \nL 32.078125 72.90625 \nQ 44.578125 72.90625 50.734375 67.671875 \nQ 56.890625 62.453125 56.890625 51.90625 \nQ 56.890625 45.015625 53.6875 40.46875 \nQ 50.484375 35.9375 44.390625 34.1875 \nz\nM 19.671875 64.796875 \nL 19.671875 38.921875 \nL 32.078125 38.921875 \nQ 39.203125 38.921875 42.84375 42.21875 \nQ 46.484375 45.515625 46.484375 51.90625 \nQ 46.484375 58.296875 42.84375 61.546875 \nQ 39.203125 64.796875 32.078125 64.796875 \nz\n\" id=\"DejaVuSans-82\"/>\n     <path d=\"M 34.28125 27.484375 \nQ 23.390625 27.484375 19.1875 25 \nQ 14.984375 22.515625 14.984375 16.5 \nQ 14.984375 11.71875 18.140625 8.90625 \nQ 21.296875 6.109375 26.703125 6.109375 \nQ 34.1875 6.109375 38.703125 11.40625 \nQ 43.21875 16.703125 43.21875 25.484375 \nL 43.21875 27.484375 \nz\nM 52.203125 31.203125 \nL 52.203125 0 \nL 43.21875 0 \nL 43.21875 8.296875 \nQ 40.140625 3.328125 35.546875 0.953125 \nQ 30.953125 -1.421875 24.3125 -1.421875 \nQ 15.921875 -1.421875 10.953125 3.296875 \nQ 6 8.015625 6 15.921875 \nQ 6 25.140625 12.171875 29.828125 \nQ 18.359375 34.515625 30.609375 34.515625 \nL 43.21875 34.515625 \nL 43.21875 35.40625 \nQ 43.21875 41.609375 39.140625 45 \nQ 35.0625 48.390625 27.6875 48.390625 \nQ 23 48.390625 18.546875 47.265625 \nQ 14.109375 46.140625 10.015625 43.890625 \nL 10.015625 52.203125 \nQ 14.9375 54.109375 19.578125 55.046875 \nQ 24.21875 56 28.609375 56 \nQ 40.484375 56 46.34375 49.84375 \nQ 52.203125 43.703125 52.203125 31.203125 \nz\n\" id=\"DejaVuSans-97\"/>\n     <path d=\"M 18.3125 70.21875 \nL 18.3125 54.6875 \nL 36.8125 54.6875 \nL 36.8125 47.703125 \nL 18.3125 47.703125 \nL 18.3125 18.015625 \nQ 18.3125 11.328125 20.140625 9.421875 \nQ 21.96875 7.515625 27.59375 7.515625 \nL 36.8125 7.515625 \nL 36.8125 0 \nL 27.59375 0 \nQ 17.1875 0 13.234375 3.875 \nQ 9.28125 7.765625 9.28125 18.015625 \nL 9.28125 47.703125 \nL 2.6875 47.703125 \nL 2.6875 54.6875 \nL 9.28125 54.6875 \nL 9.28125 70.21875 \nz\n\" id=\"DejaVuSans-116\"/>\n     <path d=\"M 56.203125 29.59375 \nL 56.203125 25.203125 \nL 14.890625 25.203125 \nQ 15.484375 15.921875 20.484375 11.0625 \nQ 25.484375 6.203125 34.421875 6.203125 \nQ 39.59375 6.203125 44.453125 7.46875 \nQ 49.3125 8.734375 54.109375 11.28125 \nL 54.109375 2.78125 \nQ 49.265625 0.734375 44.1875 -0.34375 \nQ 39.109375 -1.421875 33.890625 -1.421875 \nQ 20.796875 -1.421875 13.15625 6.1875 \nQ 5.515625 13.8125 5.515625 26.8125 \nQ 5.515625 40.234375 12.765625 48.109375 \nQ 20.015625 56 32.328125 56 \nQ 43.359375 56 49.78125 48.890625 \nQ 56.203125 41.796875 56.203125 29.59375 \nz\nM 47.21875 32.234375 \nQ 47.125 39.59375 43.09375 43.984375 \nQ 39.0625 48.390625 32.421875 48.390625 \nQ 24.90625 48.390625 20.390625 44.140625 \nQ 15.875 39.890625 15.1875 32.171875 \nz\n\" id=\"DejaVuSans-101\"/>\n     <path id=\"DejaVuSans-32\"/>\n     <path d=\"M 31 75.875 \nQ 24.46875 64.65625 21.28125 53.65625 \nQ 18.109375 42.671875 18.109375 31.390625 \nQ 18.109375 20.125 21.3125 9.0625 \nQ 24.515625 -2 31 -13.1875 \nL 23.1875 -13.1875 \nQ 15.875 -1.703125 12.234375 9.375 \nQ 8.59375 20.453125 8.59375 31.390625 \nQ 8.59375 42.28125 12.203125 53.3125 \nQ 15.828125 64.359375 23.1875 75.875 \nz\n\" id=\"DejaVuSans-40\"/>\n     <path d=\"M 18.109375 8.203125 \nL 18.109375 -20.796875 \nL 9.078125 -20.796875 \nL 9.078125 54.6875 \nL 18.109375 54.6875 \nL 18.109375 46.390625 \nQ 20.953125 51.265625 25.265625 53.625 \nQ 29.59375 56 35.59375 56 \nQ 45.5625 56 51.78125 48.09375 \nQ 58.015625 40.1875 58.015625 27.296875 \nQ 58.015625 14.40625 51.78125 6.484375 \nQ 45.5625 -1.421875 35.59375 -1.421875 \nQ 29.59375 -1.421875 25.265625 0.953125 \nQ 20.953125 3.328125 18.109375 8.203125 \nz\nM 48.6875 27.296875 \nQ 48.6875 37.203125 44.609375 42.84375 \nQ 40.53125 48.484375 33.40625 48.484375 \nQ 26.265625 48.484375 22.1875 42.84375 \nQ 18.109375 37.203125 18.109375 27.296875 \nQ 18.109375 17.390625 22.1875 11.75 \nQ 26.265625 6.109375 33.40625 6.109375 \nQ 40.53125 6.109375 44.609375 11.75 \nQ 48.6875 17.390625 48.6875 27.296875 \nz\n\" id=\"DejaVuSans-112\"/>\n     <path d=\"M 8.015625 75.875 \nL 15.828125 75.875 \nQ 23.140625 64.359375 26.78125 53.3125 \nQ 30.421875 42.28125 30.421875 31.390625 \nQ 30.421875 20.453125 26.78125 9.375 \nQ 23.140625 -1.703125 15.828125 -13.1875 \nL 8.015625 -13.1875 \nQ 14.5 -2 17.703125 9.0625 \nQ 20.90625 20.125 20.90625 31.390625 \nQ 20.90625 42.671875 17.703125 53.65625 \nQ 14.5 64.65625 8.015625 75.875 \nz\n\" id=\"DejaVuSans-41\"/>\n    </defs>\n    <g transform=\"translate(166.003125 16.318125)scale(0.12 -0.12)\">\n     <use xlink:href=\"#DejaVuSans-82\"/>\n     <use x=\"67.232422\" xlink:href=\"#DejaVuSans-97\"/>\n     <use x=\"128.511719\" xlink:href=\"#DejaVuSans-116\"/>\n     <use x=\"167.720703\" xlink:href=\"#DejaVuSans-101\"/>\n     <use x=\"229.244141\" xlink:href=\"#DejaVuSans-32\"/>\n     <use x=\"261.03125\" xlink:href=\"#DejaVuSans-40\"/>\n     <use x=\"300.044922\" xlink:href=\"#DejaVuSans-82\"/>\n     <use x=\"369.527344\" xlink:href=\"#DejaVuSans-112\"/>\n     <use x=\"433.003906\" xlink:href=\"#DejaVuSans-41\"/>\n    </g>\n   </g>\n  </g>\n </g>\n <defs>\n  <clipPath id=\"p0e8c5f1ec8\">\n   <rect height=\"217.44\" width=\"334.8\" x=\"26.925\" y=\"22.318125\"/>\n  </clipPath>\n </defs>\n</svg>\n",
      "image/png": "[encoded data removed]"
     },
     "metadata": {
      "needs_background": "light"
     }
    }
   ],
   "source": [
    "listings_df.hist(column='Rate (Rp)', bins=15)"
   ]
  },
  {
   "cell_type": "markdown",
   "metadata": {},
   "source": [
    "Define feature sets x."
   ]
  },
  {
   "cell_type": "code",
   "execution_count": 24,
   "metadata": {},
   "outputs": [
    {
     "output_type": "execute_result",
     "data": {
      "text/plain": "array([[ -6.20482, 106.81693,   2.     ,   1.     ,   4.55   ],\n       [ -6.20469, 106.81627,   4.     ,   2.     ,   4.96   ],\n       [ -6.22503, 106.81923,   1.     ,   1.     ,   4.91   ],\n       [ -6.19405, 106.81437,   2.     ,   1.     ,   4.9    ],\n       [ -6.20994, 106.80463,   3.     ,   1.     ,   4.83   ]])"
     },
     "metadata": {},
     "execution_count": 24
    }
   ],
   "source": [
    "x = listings_df[['Latitude', 'Longitude', 'Number of Guests', 'Bedrooms', 'Rating']].values\n",
    "x[0:5]"
   ]
  },
  {
   "cell_type": "markdown",
   "metadata": {},
   "source": [
    "Define labels y."
   ]
  },
  {
   "cell_type": "code",
   "execution_count": 25,
   "metadata": {},
   "outputs": [
    {
     "output_type": "execute_result",
     "data": {
      "text/plain": "array([213544., 435000., 350000., 300000., 210000.])"
     },
     "metadata": {},
     "execution_count": 25
    }
   ],
   "source": [
    "y = listings_df['Rate (Rp)'].values\n",
    "y[0:5]"
   ]
  },
  {
   "cell_type": "markdown",
   "metadata": {},
   "source": [
    "### Normalize Data"
   ]
  },
  {
   "cell_type": "markdown",
   "metadata": {},
   "source": [
    "From the histogram, the data distribution is normal, StandardScaler is used."
   ]
  },
  {
   "cell_type": "code",
   "execution_count": 26,
   "metadata": {},
   "outputs": [
    {
     "output_type": "execute_result",
     "data": {
      "text/plain": "array([[-0.88106934, -0.71204729, -0.6047552 ,  0.03598949, -0.52209359],\n       [-0.87528976, -0.73881525,  1.66195688,  1.55354643,  0.73182557],\n       [-1.77957232, -0.61876501, -1.73811123,  0.03598949,  0.5789086 ],\n       [-0.40225306, -0.81587453, -0.6047552 ,  0.03598949,  0.5483252 ],\n       [-1.10869602, -1.21090473,  0.52860084,  0.03598949,  0.33424144]])"
     },
     "metadata": {},
     "execution_count": 26
    }
   ],
   "source": [
    "x = preprocessing.StandardScaler().fit(x).transform(x.astype(float))\n",
    "x[0:5]"
   ]
  },
  {
   "cell_type": "markdown",
   "metadata": {},
   "source": [
    "### Train Test Split"
   ]
  },
  {
   "cell_type": "code",
   "execution_count": 27,
   "metadata": {
    "tags": []
   },
   "outputs": [
    {
     "output_type": "stream",
     "name": "stdout",
     "text": "Train set: (202, 5) (202,)\nTest set: (51, 5) (51,)\n"
    }
   ],
   "source": [
    "x_train, x_test, y_train, y_test = train_test_split( x, y, test_size=0.2, random_state=4)\n",
    "print ('Train set:', x_train.shape,  y_train.shape)\n",
    "print ('Test set:', x_test.shape,  y_test.shape)"
   ]
  },
  {
   "cell_type": "markdown",
   "metadata": {},
   "source": [
    "### Find Best K Value"
   ]
  },
  {
   "cell_type": "markdown",
   "metadata": {},
   "source": [
    "Use RMSE for model evaluation."
   ]
  },
  {
   "cell_type": "code",
   "execution_count": 28,
   "metadata": {
    "tags": []
   },
   "outputs": [
    {
     "output_type": "stream",
     "name": "stdout",
     "text": "RMSE value for K = 1 is: 114410.056748162\nRMSE value for K = 2 is: 112207.07466712133\nRMSE value for K = 3 is: 106247.63664022832\nRMSE value for K = 4 is: 105532.61805708623\nRMSE value for K = 5 is: 103252.72143502856\nRMSE value for K = 6 is: 98974.2949279716\nRMSE value for K = 7 is: 94184.8321117831\nRMSE value for K = 8 is: 91303.82720404444\nRMSE value for K = 9 is: 90573.79675067846\nRMSE value for K = 10 is: 89485.18305170229\nRMSE value for K = 11 is: 90226.72511624389\nRMSE value for K = 12 is: 90150.25436468965\nRMSE value for K = 13 is: 91514.10737130542\nRMSE value for K = 14 is: 90505.97026326726\nRMSE value for K = 15 is: 90385.77380544593\n"
    }
   ],
   "source": [
    "rmse_val = [] # Variable to store RMSE values for different K\n",
    "\n",
    "for K in range(15):\n",
    "    K += 1\n",
    "\n",
    "    model = neighbors.KNeighborsRegressor(n_neighbors=K).fit(x_train, y_train)\n",
    "    prediction = model.predict(x_test)\n",
    "\n",
    "    error = sqrt(mean_squared_error(y_test, prediction))\n",
    "    rmse_val.append(error)\n",
    "\n",
    "    print('RMSE value for K =', K, 'is:', error)"
   ]
  },
  {
   "cell_type": "markdown",
   "metadata": {},
   "source": [
    "Plot the RMSE values against K values."
   ]
  },
  {
   "cell_type": "code",
   "execution_count": 29,
   "metadata": {},
   "outputs": [
    {
     "output_type": "execute_result",
     "data": {
      "text/plain": "<matplotlib.axes._subplots.AxesSubplot at 0x7f4f3deff670>"
     },
     "metadata": {},
     "execution_count": 29
    },
    {
     "output_type": "display_data",
     "data": {
      "text/plain": "<Figure size 432x288 with 1 Axes>",
      "image/svg+xml": "<?xml version=\"1.0\" encoding=\"utf-8\" standalone=\"no\"?>\n<!DOCTYPE svg PUBLIC \"-//W3C//DTD SVG 1.1//EN\"\n  \"http://www.w3.org/Graphics/SVG/1.1/DTD/svg11.dtd\">\n<!-- Created with matplotlib (https://matplotlib.org/) -->\n<svg height=\"248.518125pt\" version=\"1.1\" viewBox=\"0 0 394.375 248.518125\" width=\"394.375pt\" xmlns=\"http://www.w3.org/2000/svg\" xmlns:xlink=\"http://www.w3.org/1999/xlink\">\n <defs>\n  <style type=\"text/css\">\n*{stroke-linecap:butt;stroke-linejoin:round;}\n  </style>\n </defs>\n <g id=\"figure_1\">\n  <g id=\"patch_1\">\n   <path d=\"M 0 248.518125 \nL 394.375 248.518125 \nL 394.375 0 \nL 0 0 \nz\n\" style=\"fill:none;\"/>\n  </g>\n  <g id=\"axes_1\">\n   <g id=\"patch_2\">\n    <path d=\"M 52.375 224.64 \nL 387.175 224.64 \nL 387.175 7.2 \nL 52.375 7.2 \nz\n\" style=\"fill:#ffffff;\"/>\n   </g>\n   <g id=\"matplotlib.axis_1\">\n    <g id=\"xtick_1\">\n     <g id=\"line2d_1\">\n      <defs>\n       <path d=\"M 0 0 \nL 0 3.5 \n\" id=\"mde0c9fff67\" style=\"stroke:#000000;stroke-width:0.8;\"/>\n      </defs>\n      <g>\n       <use style=\"stroke:#000000;stroke-width:0.8;\" x=\"67.593182\" xlink:href=\"#mde0c9fff67\" y=\"224.64\"/>\n      </g>\n     </g>\n     <g id=\"text_1\">\n      <!-- 0 -->\n      <defs>\n       <path d=\"M 31.78125 66.40625 \nQ 24.171875 66.40625 20.328125 58.90625 \nQ 16.5 51.421875 16.5 36.375 \nQ 16.5 21.390625 20.328125 13.890625 \nQ 24.171875 6.390625 31.78125 6.390625 \nQ 39.453125 6.390625 43.28125 13.890625 \nQ 47.125 21.390625 47.125 36.375 \nQ 47.125 51.421875 43.28125 58.90625 \nQ 39.453125 66.40625 31.78125 66.40625 \nz\nM 31.78125 74.21875 \nQ 44.046875 74.21875 50.515625 64.515625 \nQ 56.984375 54.828125 56.984375 36.375 \nQ 56.984375 17.96875 50.515625 8.265625 \nQ 44.046875 -1.421875 31.78125 -1.421875 \nQ 19.53125 -1.421875 13.0625 8.265625 \nQ 6.59375 17.96875 6.59375 36.375 \nQ 6.59375 54.828125 13.0625 64.515625 \nQ 19.53125 74.21875 31.78125 74.21875 \nz\n\" id=\"DejaVuSans-48\"/>\n      </defs>\n      <g transform=\"translate(64.411932 239.238437)scale(0.1 -0.1)\">\n       <use xlink:href=\"#DejaVuSans-48\"/>\n      </g>\n     </g>\n    </g>\n    <g id=\"xtick_2\">\n     <g id=\"line2d_2\">\n      <g>\n       <use style=\"stroke:#000000;stroke-width:0.8;\" x=\"111.073701\" xlink:href=\"#mde0c9fff67\" y=\"224.64\"/>\n      </g>\n     </g>\n     <g id=\"text_2\">\n      <!-- 2 -->\n      <defs>\n       <path d=\"M 19.1875 8.296875 \nL 53.609375 8.296875 \nL 53.609375 0 \nL 7.328125 0 \nL 7.328125 8.296875 \nQ 12.9375 14.109375 22.625 23.890625 \nQ 32.328125 33.6875 34.8125 36.53125 \nQ 39.546875 41.84375 41.421875 45.53125 \nQ 43.3125 49.21875 43.3125 52.78125 \nQ 43.3125 58.59375 39.234375 62.25 \nQ 35.15625 65.921875 28.609375 65.921875 \nQ 23.96875 65.921875 18.8125 64.3125 \nQ 13.671875 62.703125 7.8125 59.421875 \nL 7.8125 69.390625 \nQ 13.765625 71.78125 18.9375 73 \nQ 24.125 74.21875 28.421875 74.21875 \nQ 39.75 74.21875 46.484375 68.546875 \nQ 53.21875 62.890625 53.21875 53.421875 \nQ 53.21875 48.921875 51.53125 44.890625 \nQ 49.859375 40.875 45.40625 35.40625 \nQ 44.1875 33.984375 37.640625 27.21875 \nQ 31.109375 20.453125 19.1875 8.296875 \nz\n\" id=\"DejaVuSans-50\"/>\n      </defs>\n      <g transform=\"translate(107.892451 239.238437)scale(0.1 -0.1)\">\n       <use xlink:href=\"#DejaVuSans-50\"/>\n      </g>\n     </g>\n    </g>\n    <g id=\"xtick_3\">\n     <g id=\"line2d_3\">\n      <g>\n       <use style=\"stroke:#000000;stroke-width:0.8;\" x=\"154.554221\" xlink:href=\"#mde0c9fff67\" y=\"224.64\"/>\n      </g>\n     </g>\n     <g id=\"text_3\">\n      <!-- 4 -->\n      <defs>\n       <path d=\"M 37.796875 64.3125 \nL 12.890625 25.390625 \nL 37.796875 25.390625 \nz\nM 35.203125 72.90625 \nL 47.609375 72.90625 \nL 47.609375 25.390625 \nL 58.015625 25.390625 \nL 58.015625 17.1875 \nL 47.609375 17.1875 \nL 47.609375 0 \nL 37.796875 0 \nL 37.796875 17.1875 \nL 4.890625 17.1875 \nL 4.890625 26.703125 \nz\n\" id=\"DejaVuSans-52\"/>\n      </defs>\n      <g transform=\"translate(151.372971 239.238437)scale(0.1 -0.1)\">\n       <use xlink:href=\"#DejaVuSans-52\"/>\n      </g>\n     </g>\n    </g>\n    <g id=\"xtick_4\">\n     <g id=\"line2d_4\">\n      <g>\n       <use style=\"stroke:#000000;stroke-width:0.8;\" x=\"198.03474\" xlink:href=\"#mde0c9fff67\" y=\"224.64\"/>\n      </g>\n     </g>\n     <g id=\"text_4\">\n      <!-- 6 -->\n      <defs>\n       <path d=\"M 33.015625 40.375 \nQ 26.375 40.375 22.484375 35.828125 \nQ 18.609375 31.296875 18.609375 23.390625 \nQ 18.609375 15.53125 22.484375 10.953125 \nQ 26.375 6.390625 33.015625 6.390625 \nQ 39.65625 6.390625 43.53125 10.953125 \nQ 47.40625 15.53125 47.40625 23.390625 \nQ 47.40625 31.296875 43.53125 35.828125 \nQ 39.65625 40.375 33.015625 40.375 \nz\nM 52.59375 71.296875 \nL 52.59375 62.3125 \nQ 48.875 64.0625 45.09375 64.984375 \nQ 41.3125 65.921875 37.59375 65.921875 \nQ 27.828125 65.921875 22.671875 59.328125 \nQ 17.53125 52.734375 16.796875 39.40625 \nQ 19.671875 43.65625 24.015625 45.921875 \nQ 28.375 48.1875 33.59375 48.1875 \nQ 44.578125 48.1875 50.953125 41.515625 \nQ 57.328125 34.859375 57.328125 23.390625 \nQ 57.328125 12.15625 50.6875 5.359375 \nQ 44.046875 -1.421875 33.015625 -1.421875 \nQ 20.359375 -1.421875 13.671875 8.265625 \nQ 6.984375 17.96875 6.984375 36.375 \nQ 6.984375 53.65625 15.1875 63.9375 \nQ 23.390625 74.21875 37.203125 74.21875 \nQ 40.921875 74.21875 44.703125 73.484375 \nQ 48.484375 72.75 52.59375 71.296875 \nz\n\" id=\"DejaVuSans-54\"/>\n      </defs>\n      <g transform=\"translate(194.85349 239.238437)scale(0.1 -0.1)\">\n       <use xlink:href=\"#DejaVuSans-54\"/>\n      </g>\n     </g>\n    </g>\n    <g id=\"xtick_5\">\n     <g id=\"line2d_5\">\n      <g>\n       <use style=\"stroke:#000000;stroke-width:0.8;\" x=\"241.51526\" xlink:href=\"#mde0c9fff67\" y=\"224.64\"/>\n      </g>\n     </g>\n     <g id=\"text_5\">\n      <!-- 8 -->\n      <defs>\n       <path d=\"M 31.78125 34.625 \nQ 24.75 34.625 20.71875 30.859375 \nQ 16.703125 27.09375 16.703125 20.515625 \nQ 16.703125 13.921875 20.71875 10.15625 \nQ 24.75 6.390625 31.78125 6.390625 \nQ 38.8125 6.390625 42.859375 10.171875 \nQ 46.921875 13.96875 46.921875 20.515625 \nQ 46.921875 27.09375 42.890625 30.859375 \nQ 38.875 34.625 31.78125 34.625 \nz\nM 21.921875 38.8125 \nQ 15.578125 40.375 12.03125 44.71875 \nQ 8.5 49.078125 8.5 55.328125 \nQ 8.5 64.0625 14.71875 69.140625 \nQ 20.953125 74.21875 31.78125 74.21875 \nQ 42.671875 74.21875 48.875 69.140625 \nQ 55.078125 64.0625 55.078125 55.328125 \nQ 55.078125 49.078125 51.53125 44.71875 \nQ 48 40.375 41.703125 38.8125 \nQ 48.828125 37.15625 52.796875 32.3125 \nQ 56.78125 27.484375 56.78125 20.515625 \nQ 56.78125 9.90625 50.3125 4.234375 \nQ 43.84375 -1.421875 31.78125 -1.421875 \nQ 19.734375 -1.421875 13.25 4.234375 \nQ 6.78125 9.90625 6.78125 20.515625 \nQ 6.78125 27.484375 10.78125 32.3125 \nQ 14.796875 37.15625 21.921875 38.8125 \nz\nM 18.3125 54.390625 \nQ 18.3125 48.734375 21.84375 45.5625 \nQ 25.390625 42.390625 31.78125 42.390625 \nQ 38.140625 42.390625 41.71875 45.5625 \nQ 45.3125 48.734375 45.3125 54.390625 \nQ 45.3125 60.0625 41.71875 63.234375 \nQ 38.140625 66.40625 31.78125 66.40625 \nQ 25.390625 66.40625 21.84375 63.234375 \nQ 18.3125 60.0625 18.3125 54.390625 \nz\n\" id=\"DejaVuSans-56\"/>\n      </defs>\n      <g transform=\"translate(238.33401 239.238437)scale(0.1 -0.1)\">\n       <use xlink:href=\"#DejaVuSans-56\"/>\n      </g>\n     </g>\n    </g>\n    <g id=\"xtick_6\">\n     <g id=\"line2d_6\">\n      <g>\n       <use style=\"stroke:#000000;stroke-width:0.8;\" x=\"284.995779\" xlink:href=\"#mde0c9fff67\" y=\"224.64\"/>\n      </g>\n     </g>\n     <g id=\"text_6\">\n      <!-- 10 -->\n      <defs>\n       <path d=\"M 12.40625 8.296875 \nL 28.515625 8.296875 \nL 28.515625 63.921875 \nL 10.984375 60.40625 \nL 10.984375 69.390625 \nL 28.421875 72.90625 \nL 38.28125 72.90625 \nL 38.28125 8.296875 \nL 54.390625 8.296875 \nL 54.390625 0 \nL 12.40625 0 \nz\n\" id=\"DejaVuSans-49\"/>\n      </defs>\n      <g transform=\"translate(278.633279 239.238437)scale(0.1 -0.1)\">\n       <use xlink:href=\"#DejaVuSans-49\"/>\n       <use x=\"63.623047\" xlink:href=\"#DejaVuSans-48\"/>\n      </g>\n     </g>\n    </g>\n    <g id=\"xtick_7\">\n     <g id=\"line2d_7\">\n      <g>\n       <use style=\"stroke:#000000;stroke-width:0.8;\" x=\"328.476299\" xlink:href=\"#mde0c9fff67\" y=\"224.64\"/>\n      </g>\n     </g>\n     <g id=\"text_7\">\n      <!-- 12 -->\n      <g transform=\"translate(322.113799 239.238437)scale(0.1 -0.1)\">\n       <use xlink:href=\"#DejaVuSans-49\"/>\n       <use x=\"63.623047\" xlink:href=\"#DejaVuSans-50\"/>\n      </g>\n     </g>\n    </g>\n    <g id=\"xtick_8\">\n     <g id=\"line2d_8\">\n      <g>\n       <use style=\"stroke:#000000;stroke-width:0.8;\" x=\"371.956818\" xlink:href=\"#mde0c9fff67\" y=\"224.64\"/>\n      </g>\n     </g>\n     <g id=\"text_8\">\n      <!-- 14 -->\n      <g transform=\"translate(365.594318 239.238437)scale(0.1 -0.1)\">\n       <use xlink:href=\"#DejaVuSans-49\"/>\n       <use x=\"63.623047\" xlink:href=\"#DejaVuSans-52\"/>\n      </g>\n     </g>\n    </g>\n   </g>\n   <g id=\"matplotlib.axis_2\">\n    <g id=\"ytick_1\">\n     <g id=\"line2d_9\">\n      <defs>\n       <path d=\"M 0 0 \nL -3.5 0 \n\" id=\"m6d7ddc43f6\" style=\"stroke:#000000;stroke-width:0.8;\"/>\n      </defs>\n      <g>\n       <use style=\"stroke:#000000;stroke-width:0.8;\" x=\"52.375\" xlink:href=\"#m6d7ddc43f6\" y=\"210.673484\"/>\n      </g>\n     </g>\n     <g id=\"text_9\">\n      <!-- 90000 -->\n      <defs>\n       <path d=\"M 10.984375 1.515625 \nL 10.984375 10.5 \nQ 14.703125 8.734375 18.5 7.8125 \nQ 22.3125 6.890625 25.984375 6.890625 \nQ 35.75 6.890625 40.890625 13.453125 \nQ 46.046875 20.015625 46.78125 33.40625 \nQ 43.953125 29.203125 39.59375 26.953125 \nQ 35.25 24.703125 29.984375 24.703125 \nQ 19.046875 24.703125 12.671875 31.3125 \nQ 6.296875 37.9375 6.296875 49.421875 \nQ 6.296875 60.640625 12.9375 67.421875 \nQ 19.578125 74.21875 30.609375 74.21875 \nQ 43.265625 74.21875 49.921875 64.515625 \nQ 56.59375 54.828125 56.59375 36.375 \nQ 56.59375 19.140625 48.40625 8.859375 \nQ 40.234375 -1.421875 26.421875 -1.421875 \nQ 22.703125 -1.421875 18.890625 -0.6875 \nQ 15.09375 0.046875 10.984375 1.515625 \nz\nM 30.609375 32.421875 \nQ 37.25 32.421875 41.125 36.953125 \nQ 45.015625 41.5 45.015625 49.421875 \nQ 45.015625 57.28125 41.125 61.84375 \nQ 37.25 66.40625 30.609375 66.40625 \nQ 23.96875 66.40625 20.09375 61.84375 \nQ 16.21875 57.28125 16.21875 49.421875 \nQ 16.21875 41.5 20.09375 36.953125 \nQ 23.96875 32.421875 30.609375 32.421875 \nz\n\" id=\"DejaVuSans-57\"/>\n      </defs>\n      <g transform=\"translate(13.5625 214.472702)scale(0.1 -0.1)\">\n       <use xlink:href=\"#DejaVuSans-57\"/>\n       <use x=\"63.623047\" xlink:href=\"#DejaVuSans-48\"/>\n       <use x=\"127.246094\" xlink:href=\"#DejaVuSans-48\"/>\n       <use x=\"190.869141\" xlink:href=\"#DejaVuSans-48\"/>\n       <use x=\"254.492188\" xlink:href=\"#DejaVuSans-48\"/>\n      </g>\n     </g>\n    </g>\n    <g id=\"ytick_2\">\n     <g id=\"line2d_10\">\n      <g>\n       <use style=\"stroke:#000000;stroke-width:0.8;\" x=\"52.375\" xlink:href=\"#m6d7ddc43f6\" y=\"171.019777\"/>\n      </g>\n     </g>\n     <g id=\"text_10\">\n      <!-- 95000 -->\n      <defs>\n       <path d=\"M 10.796875 72.90625 \nL 49.515625 72.90625 \nL 49.515625 64.59375 \nL 19.828125 64.59375 \nL 19.828125 46.734375 \nQ 21.96875 47.46875 24.109375 47.828125 \nQ 26.265625 48.1875 28.421875 48.1875 \nQ 40.625 48.1875 47.75 41.5 \nQ 54.890625 34.8125 54.890625 23.390625 \nQ 54.890625 11.625 47.5625 5.09375 \nQ 40.234375 -1.421875 26.90625 -1.421875 \nQ 22.3125 -1.421875 17.546875 -0.640625 \nQ 12.796875 0.140625 7.71875 1.703125 \nL 7.71875 11.625 \nQ 12.109375 9.234375 16.796875 8.0625 \nQ 21.484375 6.890625 26.703125 6.890625 \nQ 35.15625 6.890625 40.078125 11.328125 \nQ 45.015625 15.765625 45.015625 23.390625 \nQ 45.015625 31 40.078125 35.4375 \nQ 35.15625 39.890625 26.703125 39.890625 \nQ 22.75 39.890625 18.8125 39.015625 \nQ 14.890625 38.140625 10.796875 36.28125 \nz\n\" id=\"DejaVuSans-53\"/>\n      </defs>\n      <g transform=\"translate(13.5625 174.818995)scale(0.1 -0.1)\">\n       <use xlink:href=\"#DejaVuSans-57\"/>\n       <use x=\"63.623047\" xlink:href=\"#DejaVuSans-53\"/>\n       <use x=\"127.246094\" xlink:href=\"#DejaVuSans-48\"/>\n       <use x=\"190.869141\" xlink:href=\"#DejaVuSans-48\"/>\n       <use x=\"254.492188\" xlink:href=\"#DejaVuSans-48\"/>\n      </g>\n     </g>\n    </g>\n    <g id=\"ytick_3\">\n     <g id=\"line2d_11\">\n      <g>\n       <use style=\"stroke:#000000;stroke-width:0.8;\" x=\"52.375\" xlink:href=\"#m6d7ddc43f6\" y=\"131.36607\"/>\n      </g>\n     </g>\n     <g id=\"text_11\">\n      <!-- 100000 -->\n      <g transform=\"translate(7.2 135.165288)scale(0.1 -0.1)\">\n       <use xlink:href=\"#DejaVuSans-49\"/>\n       <use x=\"63.623047\" xlink:href=\"#DejaVuSans-48\"/>\n       <use x=\"127.246094\" xlink:href=\"#DejaVuSans-48\"/>\n       <use x=\"190.869141\" xlink:href=\"#DejaVuSans-48\"/>\n       <use x=\"254.492188\" xlink:href=\"#DejaVuSans-48\"/>\n       <use x=\"318.115234\" xlink:href=\"#DejaVuSans-48\"/>\n      </g>\n     </g>\n    </g>\n    <g id=\"ytick_4\">\n     <g id=\"line2d_12\">\n      <g>\n       <use style=\"stroke:#000000;stroke-width:0.8;\" x=\"52.375\" xlink:href=\"#m6d7ddc43f6\" y=\"91.712363\"/>\n      </g>\n     </g>\n     <g id=\"text_12\">\n      <!-- 105000 -->\n      <g transform=\"translate(7.2 95.511582)scale(0.1 -0.1)\">\n       <use xlink:href=\"#DejaVuSans-49\"/>\n       <use x=\"63.623047\" xlink:href=\"#DejaVuSans-48\"/>\n       <use x=\"127.246094\" xlink:href=\"#DejaVuSans-53\"/>\n       <use x=\"190.869141\" xlink:href=\"#DejaVuSans-48\"/>\n       <use x=\"254.492188\" xlink:href=\"#DejaVuSans-48\"/>\n       <use x=\"318.115234\" xlink:href=\"#DejaVuSans-48\"/>\n      </g>\n     </g>\n    </g>\n    <g id=\"ytick_5\">\n     <g id=\"line2d_13\">\n      <g>\n       <use style=\"stroke:#000000;stroke-width:0.8;\" x=\"52.375\" xlink:href=\"#m6d7ddc43f6\" y=\"52.058656\"/>\n      </g>\n     </g>\n     <g id=\"text_13\">\n      <!-- 110000 -->\n      <g transform=\"translate(7.2 55.857875)scale(0.1 -0.1)\">\n       <use xlink:href=\"#DejaVuSans-49\"/>\n       <use x=\"63.623047\" xlink:href=\"#DejaVuSans-49\"/>\n       <use x=\"127.246094\" xlink:href=\"#DejaVuSans-48\"/>\n       <use x=\"190.869141\" xlink:href=\"#DejaVuSans-48\"/>\n       <use x=\"254.492188\" xlink:href=\"#DejaVuSans-48\"/>\n       <use x=\"318.115234\" xlink:href=\"#DejaVuSans-48\"/>\n      </g>\n     </g>\n    </g>\n    <g id=\"ytick_6\">\n     <g id=\"line2d_14\">\n      <g>\n       <use style=\"stroke:#000000;stroke-width:0.8;\" x=\"52.375\" xlink:href=\"#m6d7ddc43f6\" y=\"12.404949\"/>\n      </g>\n     </g>\n     <g id=\"text_14\">\n      <!-- 115000 -->\n      <g transform=\"translate(7.2 16.204168)scale(0.1 -0.1)\">\n       <use xlink:href=\"#DejaVuSans-49\"/>\n       <use x=\"63.623047\" xlink:href=\"#DejaVuSans-49\"/>\n       <use x=\"127.246094\" xlink:href=\"#DejaVuSans-53\"/>\n       <use x=\"190.869141\" xlink:href=\"#DejaVuSans-48\"/>\n       <use x=\"254.492188\" xlink:href=\"#DejaVuSans-48\"/>\n       <use x=\"318.115234\" xlink:href=\"#DejaVuSans-48\"/>\n      </g>\n     </g>\n    </g>\n   </g>\n   <g id=\"line2d_15\">\n    <path clip-path=\"url(#p59f738fb3a)\" d=\"M 67.593182 17.083636 \nL 89.333442 34.554918 \nL 111.073701 81.817679 \nL 132.813961 87.488307 \nL 154.554221 105.569577 \nL 176.294481 139.500671 \nL 198.03474 177.484662 \nL 219.775 200.333167 \nL 241.51526 206.12285 \nL 263.255519 214.756364 \nL 284.995779 208.875385 \nL 306.736039 209.481855 \nL 328.476299 198.66549 \nL 350.216558 206.660764 \nL 371.956818 207.614011 \n\" style=\"fill:none;stroke:#1f77b4;stroke-linecap:square;stroke-width:1.5;\"/>\n   </g>\n   <g id=\"patch_3\">\n    <path d=\"M 52.375 224.64 \nL 52.375 7.2 \n\" style=\"fill:none;stroke:#000000;stroke-linecap:square;stroke-linejoin:miter;stroke-width:0.8;\"/>\n   </g>\n   <g id=\"patch_4\">\n    <path d=\"M 387.175 224.64 \nL 387.175 7.2 \n\" style=\"fill:none;stroke:#000000;stroke-linecap:square;stroke-linejoin:miter;stroke-width:0.8;\"/>\n   </g>\n   <g id=\"patch_5\">\n    <path d=\"M 52.375 224.64 \nL 387.175 224.64 \n\" style=\"fill:none;stroke:#000000;stroke-linecap:square;stroke-linejoin:miter;stroke-width:0.8;\"/>\n   </g>\n   <g id=\"patch_6\">\n    <path d=\"M 52.375 7.2 \nL 387.175 7.2 \n\" style=\"fill:none;stroke:#000000;stroke-linecap:square;stroke-linejoin:miter;stroke-width:0.8;\"/>\n   </g>\n   <g id=\"legend_1\">\n    <g id=\"patch_7\">\n     <path d=\"M 341.8125 29.878125 \nL 380.175 29.878125 \nQ 382.175 29.878125 382.175 27.878125 \nL 382.175 14.2 \nQ 382.175 12.2 380.175 12.2 \nL 341.8125 12.2 \nQ 339.8125 12.2 339.8125 14.2 \nL 339.8125 27.878125 \nQ 339.8125 29.878125 341.8125 29.878125 \nz\n\" style=\"fill:#ffffff;opacity:0.8;stroke:#cccccc;stroke-linejoin:miter;\"/>\n    </g>\n    <g id=\"line2d_16\">\n     <path d=\"M 343.8125 20.298437 \nL 363.8125 20.298437 \n\" style=\"fill:none;stroke:#1f77b4;stroke-linecap:square;stroke-width:1.5;\"/>\n    </g>\n    <g id=\"line2d_17\"/>\n    <g id=\"text_15\">\n     <!-- 0 -->\n     <g transform=\"translate(371.8125 23.798437)scale(0.1 -0.1)\">\n      <use xlink:href=\"#DejaVuSans-48\"/>\n     </g>\n    </g>\n   </g>\n  </g>\n </g>\n <defs>\n  <clipPath id=\"p59f738fb3a\">\n   <rect height=\"217.44\" width=\"334.8\" x=\"52.375\" y=\"7.2\"/>\n  </clipPath>\n </defs>\n</svg>\n",
      "image/png": "[encoded data removed]"
     },
     "metadata": {
      "needs_background": "light"
     }
    }
   ],
   "source": [
    "curve = pd.DataFrame(rmse_val)\n",
    "curve.plot()"
   ]
  },
  {
   "cell_type": "markdown",
   "metadata": {},
   "source": [
    "Use grid seach to find best K."
   ]
  },
  {
   "cell_type": "code",
   "execution_count": 30,
   "metadata": {},
   "outputs": [
    {
     "output_type": "execute_result",
     "data": {
      "text/plain": "{'n_neighbors': 9}"
     },
     "metadata": {},
     "execution_count": 30
    }
   ],
   "source": [
    "params = {'n_neighbors': [2,3,4,5,6,7,8,9,10,11,12,13,14,15]}\n",
    "knn = neighbors.KNeighborsRegressor()\n",
    "model = GridSearchCV(knn, params, cv=5)\n",
    "model.fit(x_train, y_train)\n",
    "model.best_params_"
   ]
  },
  {
   "cell_type": "markdown",
   "metadata": {},
   "source": [
    "The best K value is 9."
   ]
  }
 ],
 "metadata": {
  "language_info": {
   "codemirror_mode": {
    "name": "ipython",
    "version": 3
   },
   "file_extension": ".py",
   "mimetype": "text/x-python",
   "name": "python",
   "nbconvert_exporter": "python",
   "pygments_lexer": "ipython3",
   "version": "3.8.3-final"
  },
  "orig_nbformat": 2,
  "kernelspec": {
   "name": "python38364bitenvvenvd62cf0ff2548449b8bb7a0245ca2a3a7",
   "display_name": "Python 3.8.3 64-bit ('env': venv)"
  }
 },
 "nbformat": 4,
 "nbformat_minor": 2
}