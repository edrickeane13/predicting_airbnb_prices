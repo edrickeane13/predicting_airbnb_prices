{
 "cells": [
  {
   "cell_type": "markdown",
   "metadata": {},
   "source": [
    "# Predicting Airbnb Prices"
   ]
  },
  {
   "cell_type": "markdown",
   "metadata": {},
   "source": [
    "## Table of Contents\n",
    "* [Introduction: Business Problem](#introduction)\n",
    "* [Data](#data)\n",
    "* [Methodology](#methodology)\n",
    "* [Analysis](#analysis)\n",
    "* [Results and Discussion](#results)\n",
    "* [Conclusion](#conclusion)"
   ]
  },
  {
   "cell_type": "markdown",
   "metadata": {},
   "source": [
    "## Introduction: Business Problem <a name=\"introduction\"></a>"
   ]
  },
  {
   "cell_type": "markdown",
   "metadata": {},
   "source": [
    "Jakarta is the capital and largest city of Indonesia where over 10 million people live and it has a population density of 14,464 people per square kilometer. Jakarta consists of five administrative cities and one administrative regency. The administrative cities of Jakarta are: Central Jakarta, West Jakarta, South Jakarta, East Jakarta and North Jakarta. The only administrative regency in Jakarta is the Thousand Islands. In this project, I limit the scope of my research to the districts of Central Jakarta.\n",
    "\n",
    "As the capital city of Indonesia, Jakarta is one of the most popular destinations in Indonesia. Thus, there is a lot of potential profit that could be obtained by property owners through listing a home on Airbnb in Jakarta. However, it’s hard for a new host to determine the rate for nightly stay. This research aims to solve this problem by predicting an efficient rate by using machine learning model which is trained with data from Airbnb listings."
   ]
  },
  {
   "cell_type": "markdown",
   "metadata": {},
   "source": [
    "## Data <a name=\"data\"></a>"
   ]
  },
  {
   "cell_type": "markdown",
   "metadata": {},
   "source": [
    "### Import Necessary Libraries"
   ]
  },
  {
   "cell_type": "code",
   "execution_count": 1,
   "metadata": {},
   "outputs": [],
   "source": [
    "import pandas as pd # Library for data analysis\n",
    "import numpy as np # Library to handle data in a vectorized manner\n",
    "import requests # Library to handle requests\n",
    "from pandas.io.json import json_normalize # Library to transform json file into a pandas dataframe "
   ]
  },
  {
   "cell_type": "markdown",
   "metadata": {},
   "source": [
    "Define location queries."
   ]
  },
  {
   "cell_type": "code",
   "execution_count": 2,
   "metadata": {
    "tags": []
   },
   "outputs": [],
   "source": [
    "locations = ['Cempaka+Putih+Barat,+Central+Jakarta', 'Cempaka+Putih+Timur,+Central+Jakarta', 'Rawasari,+Central+Jakarta', 'Cideng,+Central+Jakarta', 'Duri+Pulo,+Central+Jakarta', 'Gambir,+Central+Jakarta', 'Kebon+Kelapa,+Central+Jakarta', 'Petojo+Selatan,+Central+Jakarta', 'Petojo+Utara,+Central+Jakarta', 'Galur,+Central+Jakarta', 'Johar+Baru,+Central+Jakarta', 'Kampung+Rawa,+Central+Jakarta', 'Tanah+Tinggi,+Central+Jakarta', 'Cempaka+Baru,+Central+Jakarta', 'Gunung+Sahari+Selatan,+Central+Jakarta', 'Harapan+Mulya,+Central+Jakarta', 'Kebon+Kosong,+Central+Jakarta', 'Kemayoran,+Central+Jakarta', 'Serdang,+Central+Jakarta', 'Sumur+Batu,+Central+Jakarta', 'Utan+Panjang,+Central+Jakarta', 'Cikini,+Central+Jakarta', 'Gondangdia,+Central+Jakarta', 'Kebon+Sirih,+Central+Jakarta', 'Menteng,+Central+Jakarta', 'Pegangsaan,+Central+Jakarta', 'Gunung+Sahari+Utara,+Central+Jakarta', 'Karang+Anyar,+Central+Jakarta', 'Kartini,+Central+Jakarta', 'Mangga+Dua+Selatan,+Central+Jakarta', 'Pasar+Baru,+Central+Jakarta', 'Bungur,+Central+Jakarta', 'Kenari,+Central+Jakarta', 'Kramat,+Central+Jakarta', 'Kwitang,+Central+Jakarta', 'Paseban,+Central+Jakarta', 'Senen,+Central+Jakarta', 'Bendungan+Hilir,+Central+Jakarta', 'Gelora,+Central+Jakarta', 'Kampung+Bali,+Central+Jakarta', 'Karet+Tengsin,+Central+Jakarta', 'Kebon+Kacang,+Central+Jakarta', 'Kebon+Melati,+Central+Jakarta', 'Petamburan,+Central+Jakarta']"
   ]
  },
  {
   "cell_type": "markdown",
   "metadata": {},
   "source": [
    "### Use Airbnb API to Get Listings Data"
   ]
  },
  {
   "cell_type": "markdown",
   "metadata": {},
   "source": [
    "Create a function to extract relevant data from the result requested to Airbnb API."
   ]
  },
  {
   "cell_type": "code",
   "execution_count": 3,
   "metadata": {},
   "outputs": [],
   "source": [
    "def getListings(locations=[]):\n",
    "    \n",
    "    _FORMAT = 'for_explore_search_web'\n",
    "    ITEMS_PER_GRID = '300'\n",
    "    KEY = 'd306zoyjsyarp7ifhu67rjxn52tv0t20'\n",
    "    SECTION_OFFSET = '4'\n",
    "    SUPPORT_FOR_YOU_V3 = 'true'\n",
    "    TAB_ID = 'home_tab'\n",
    "    TIMEZONE_OFFSET = '300'\n",
    "    VERSION = '1.3.4'\n",
    "    CURRENCY = 'IDR'\n",
    "\n",
    "    listings_list = []\n",
    "\n",
    "    for location in locations:\n",
    "\n",
    "        # Create the API request URL\n",
    "        url = 'https://api.airbnb.com/v2/explore_tabs?_format={}&items_per_grid={}&key={}&location={}&section_offset={}&supports_for_you_v3={}&tab_id={}' \\\n",
    "              '&timezone_offset={}&version={}&currency={}'.format(\n",
    "            _FORMAT, \n",
    "            ITEMS_PER_GRID, \n",
    "            KEY, \n",
    "            location, \n",
    "            SECTION_OFFSET, \n",
    "            SUPPORT_FOR_YOU_V3, \n",
    "            TAB_ID, \n",
    "            TIMEZONE_OFFSET, \n",
    "            VERSION, \n",
    "            CURRENCY)\n",
    "        \n",
    "        # Make the GET request\n",
    "        results = requests.get(url).json()['explore_tabs'][0]['sections'][0]['listings']\n",
    "        \n",
    "        # Return only relevant information for each location\n",
    "        listings_list.append([(\n",
    "            listing['listing'].get('id', np.nan),\n",
    "            location.replace('+', ' '),\n",
    "            listing['listing'].get('lat', np.nan),\n",
    "            listing['listing'].get('lng', np.nan),\n",
    "            listing['listing'].get('person_capacity', np.nan),\n",
    "            listing['listing'].get('bathrooms', np.nan),\n",
    "            listing['listing'].get('bedrooms', np.nan),\n",
    "            listing['listing'].get('beds', np.nan),\n",
    "            listing['listing'].get('reviews_count', np.nan),\n",
    "            listing['listing'].get('room_type', np.nan),\n",
    "            listing['listing'].get('avg_rating', np.nan),\n",
    "            listing['listing'].get('min_nights', np.nan),\n",
    "            listing['listing'].get('max_nights', np.nan),\n",
    "            listing['pricing_quote']['rate'].get('amount', np.nan),\n",
    "            listing['pricing_quote'].get('rate_type', np.nan)\n",
    "        ) for listing in results])\n",
    "    \n",
    "    listings = pd.DataFrame([item for listing_list in listings_list for item in listing_list])\n",
    "    listings.columns = ['Listing ID', 'Location', 'Latitude', 'Longitude', 'Number of Guests', 'Bathrooms', 'Bedrooms', \\\n",
    "                       'Beds', 'Review Count', 'Room Type', 'Rating', 'Minimum Nights', 'Maximum Nights', 'Rate (Rp)', 'Rate Type']\n",
    "    \n",
    "    return(listings)"
   ]
  },
  {
   "cell_type": "markdown",
   "metadata": {},
   "source": [
    "Run the above function for each location and create listings dataframe."
   ]
  },
  {
   "cell_type": "code",
   "execution_count": 4,
   "metadata": {
    "tags": []
   },
   "outputs": [
    {
     "output_type": "stream",
     "name": "stdout",
     "text": "(2154, 15)\n"
    },
    {
     "output_type": "execute_result",
     "data": {
      "text/plain": "   Listing ID                              Location  Latitude  Longitude  \\\n0    18378734  Cempaka Putih Barat, Central Jakarta  -6.19312  106.85025   \n1    32297852  Cempaka Putih Barat, Central Jakarta  -6.19104  106.87336   \n2    19820937  Cempaka Putih Barat, Central Jakarta  -6.19815  106.85105   \n3    40735320  Cempaka Putih Barat, Central Jakarta  -6.18998  106.87367   \n4     5157038  Cempaka Putih Barat, Central Jakarta  -6.19481  106.85622   \n\n   Number of Guests  Bathrooms  Bedrooms  Beds  Review Count        Room Type  \\\n0                 2        1.0       0.0   1.0           144  Entire home/apt   \n1                 2        1.0       0.0   1.0            20  Entire home/apt   \n2                 2        1.0       0.0   2.0            70  Entire home/apt   \n3                 2        1.0       0.0   1.0             4  Entire home/apt   \n4                 3        1.0       1.0   1.0            75  Entire home/apt   \n\n   Rating  Minimum Nights  Maximum Nights  Rate (Rp) Rate Type  \n0    4.67               2            1125   270000.0   nightly  \n1    5.00               2             360   169225.0   nightly  \n2    4.59               4              30   166348.0   nightly  \n3    5.00               7            1125   200000.0   nightly  \n4    4.84               4            1125   335052.0   nightly  ",
      "text/html": "<div>\n<style scoped>\n    .dataframe tbody tr th:only-of-type {\n        vertical-align: middle;\n    }\n\n    .dataframe tbody tr th {\n        vertical-align: top;\n    }\n\n    .dataframe thead th {\n        text-align: right;\n    }\n</style>\n<table border=\"1\" class=\"dataframe\">\n  <thead>\n    <tr style=\"text-align: right;\">\n      <th></th>\n      <th>Listing ID</th>\n      <th>Location</th>\n      <th>Latitude</th>\n      <th>Longitude</th>\n      <th>Number of Guests</th>\n      <th>Bathrooms</th>\n      <th>Bedrooms</th>\n      <th>Beds</th>\n      <th>Review Count</th>\n      <th>Room Type</th>\n      <th>Rating</th>\n      <th>Minimum Nights</th>\n      <th>Maximum Nights</th>\n      <th>Rate (Rp)</th>\n      <th>Rate Type</th>\n    </tr>\n  </thead>\n  <tbody>\n    <tr>\n      <th>0</th>\n      <td>18378734</td>\n      <td>Cempaka Putih Barat, Central Jakarta</td>\n      <td>-6.19312</td>\n      <td>106.85025</td>\n      <td>2</td>\n      <td>1.0</td>\n      <td>0.0</td>\n      <td>1.0</td>\n      <td>144</td>\n      <td>Entire home/apt</td>\n      <td>4.67</td>\n      <td>2</td>\n      <td>1125</td>\n      <td>270000.0</td>\n      <td>nightly</td>\n    </tr>\n    <tr>\n      <th>1</th>\n      <td>32297852</td>\n      <td>Cempaka Putih Barat, Central Jakarta</td>\n      <td>-6.19104</td>\n      <td>106.87336</td>\n      <td>2</td>\n      <td>1.0</td>\n      <td>0.0</td>\n      <td>1.0</td>\n      <td>20</td>\n      <td>Entire home/apt</td>\n      <td>5.00</td>\n      <td>2</td>\n      <td>360</td>\n      <td>169225.0</td>\n      <td>nightly</td>\n    </tr>\n    <tr>\n      <th>2</th>\n      <td>19820937</td>\n      <td>Cempaka Putih Barat, Central Jakarta</td>\n      <td>-6.19815</td>\n      <td>106.85105</td>\n      <td>2</td>\n      <td>1.0</td>\n      <td>0.0</td>\n      <td>2.0</td>\n      <td>70</td>\n      <td>Entire home/apt</td>\n      <td>4.59</td>\n      <td>4</td>\n      <td>30</td>\n      <td>166348.0</td>\n      <td>nightly</td>\n    </tr>\n    <tr>\n      <th>3</th>\n      <td>40735320</td>\n      <td>Cempaka Putih Barat, Central Jakarta</td>\n      <td>-6.18998</td>\n      <td>106.87367</td>\n      <td>2</td>\n      <td>1.0</td>\n      <td>0.0</td>\n      <td>1.0</td>\n      <td>4</td>\n      <td>Entire home/apt</td>\n      <td>5.00</td>\n      <td>7</td>\n      <td>1125</td>\n      <td>200000.0</td>\n      <td>nightly</td>\n    </tr>\n    <tr>\n      <th>4</th>\n      <td>5157038</td>\n      <td>Cempaka Putih Barat, Central Jakarta</td>\n      <td>-6.19481</td>\n      <td>106.85622</td>\n      <td>3</td>\n      <td>1.0</td>\n      <td>1.0</td>\n      <td>1.0</td>\n      <td>75</td>\n      <td>Entire home/apt</td>\n      <td>4.84</td>\n      <td>4</td>\n      <td>1125</td>\n      <td>335052.0</td>\n      <td>nightly</td>\n    </tr>\n  </tbody>\n</table>\n</div>"
     },
     "metadata": {},
     "execution_count": 4
    }
   ],
   "source": [
    "listings_df = getListings(locations=locations)\n",
    "\n",
    "# Check the size of the dataframe\n",
    "print(listings_df.shape)\n",
    "listings_df.head()"
   ]
  },
  {
   "cell_type": "markdown",
   "metadata": {},
   "source": [
    "Drop all duplicate values."
   ]
  },
  {
   "cell_type": "code",
   "execution_count": 5,
   "metadata": {
    "tags": []
   },
   "outputs": [
    {
     "output_type": "stream",
     "name": "stdout",
     "text": "(725, 15)\n"
    },
    {
     "output_type": "execute_result",
     "data": {
      "text/plain": "      Listing ID                          Location  Latitude  Longitude  \\\n1812    22987741  Bendungan Hilir, Central Jakarta  -6.21335  106.81134   \n1826    10344900  Bendungan Hilir, Central Jakarta  -6.20482  106.81693   \n1825    22183883  Bendungan Hilir, Central Jakarta  -6.20685  106.81307   \n1824     4619772  Bendungan Hilir, Central Jakarta  -6.21704  106.80577   \n1823    40116584  Bendungan Hilir, Central Jakarta  -6.20918  106.80547   \n\n      Number of Guests  Bathrooms  Bedrooms  Beds  Review Count  \\\n1812                 3        1.0       2.0   2.0            25   \n1826                 2        1.0       1.0   0.0            20   \n1825                 1        1.0       1.0   1.0             0   \n1824                 2        1.0       1.0   1.0            17   \n1823                 2        1.0       1.0   1.0             0   \n\n            Room Type  Rating  Minimum Nights  Maximum Nights  Rate (Rp)  \\\n1812  Entire home/apt    4.76               1            1125   700000.0   \n1826  Entire home/apt    4.55               2            1125   213544.0   \n1825     Private room     NaN               1            1125   150000.0   \n1824  Entire home/apt    4.76               4            1125   455560.0   \n1823     Private room     NaN               2              60   180000.0   \n\n     Rate Type  \n1812   nightly  \n1826   nightly  \n1825   nightly  \n1824   nightly  \n1823   nightly  ",
      "text/html": "<div>\n<style scoped>\n    .dataframe tbody tr th:only-of-type {\n        vertical-align: middle;\n    }\n\n    .dataframe tbody tr th {\n        vertical-align: top;\n    }\n\n    .dataframe thead th {\n        text-align: right;\n    }\n</style>\n<table border=\"1\" class=\"dataframe\">\n  <thead>\n    <tr style=\"text-align: right;\">\n      <th></th>\n      <th>Listing ID</th>\n      <th>Location</th>\n      <th>Latitude</th>\n      <th>Longitude</th>\n      <th>Number of Guests</th>\n      <th>Bathrooms</th>\n      <th>Bedrooms</th>\n      <th>Beds</th>\n      <th>Review Count</th>\n      <th>Room Type</th>\n      <th>Rating</th>\n      <th>Minimum Nights</th>\n      <th>Maximum Nights</th>\n      <th>Rate (Rp)</th>\n      <th>Rate Type</th>\n    </tr>\n  </thead>\n  <tbody>\n    <tr>\n      <th>1812</th>\n      <td>22987741</td>\n      <td>Bendungan Hilir, Central Jakarta</td>\n      <td>-6.21335</td>\n      <td>106.81134</td>\n      <td>3</td>\n      <td>1.0</td>\n      <td>2.0</td>\n      <td>2.0</td>\n      <td>25</td>\n      <td>Entire home/apt</td>\n      <td>4.76</td>\n      <td>1</td>\n      <td>1125</td>\n      <td>700000.0</td>\n      <td>nightly</td>\n    </tr>\n    <tr>\n      <th>1826</th>\n      <td>10344900</td>\n      <td>Bendungan Hilir, Central Jakarta</td>\n      <td>-6.20482</td>\n      <td>106.81693</td>\n      <td>2</td>\n      <td>1.0</td>\n      <td>1.0</td>\n      <td>0.0</td>\n      <td>20</td>\n      <td>Entire home/apt</td>\n      <td>4.55</td>\n      <td>2</td>\n      <td>1125</td>\n      <td>213544.0</td>\n      <td>nightly</td>\n    </tr>\n    <tr>\n      <th>1825</th>\n      <td>22183883</td>\n      <td>Bendungan Hilir, Central Jakarta</td>\n      <td>-6.20685</td>\n      <td>106.81307</td>\n      <td>1</td>\n      <td>1.0</td>\n      <td>1.0</td>\n      <td>1.0</td>\n      <td>0</td>\n      <td>Private room</td>\n      <td>NaN</td>\n      <td>1</td>\n      <td>1125</td>\n      <td>150000.0</td>\n      <td>nightly</td>\n    </tr>\n    <tr>\n      <th>1824</th>\n      <td>4619772</td>\n      <td>Bendungan Hilir, Central Jakarta</td>\n      <td>-6.21704</td>\n      <td>106.80577</td>\n      <td>2</td>\n      <td>1.0</td>\n      <td>1.0</td>\n      <td>1.0</td>\n      <td>17</td>\n      <td>Entire home/apt</td>\n      <td>4.76</td>\n      <td>4</td>\n      <td>1125</td>\n      <td>455560.0</td>\n      <td>nightly</td>\n    </tr>\n    <tr>\n      <th>1823</th>\n      <td>40116584</td>\n      <td>Bendungan Hilir, Central Jakarta</td>\n      <td>-6.20918</td>\n      <td>106.80547</td>\n      <td>2</td>\n      <td>1.0</td>\n      <td>1.0</td>\n      <td>1.0</td>\n      <td>0</td>\n      <td>Private room</td>\n      <td>NaN</td>\n      <td>2</td>\n      <td>60</td>\n      <td>180000.0</td>\n      <td>nightly</td>\n    </tr>\n  </tbody>\n</table>\n</div>"
     },
     "metadata": {},
     "execution_count": 5
    }
   ],
   "source": [
    "# Sort dataframe according to Location\n",
    "listings_df.sort_values('Location', inplace=True)\n",
    "\n",
    "# Dropping all duplicate values except the first value\n",
    "listings_df.drop_duplicates(subset='Listing ID', keep='first', inplace=True)\n",
    "\n",
    "# Check the size of the dataframe\n",
    "print(listings_df.shape)\n",
    "listings_df.head()"
   ]
  },
  {
   "cell_type": "markdown",
   "metadata": {},
   "source": [
    "Evaluate missing data."
   ]
  },
  {
   "cell_type": "code",
   "execution_count": 6,
   "metadata": {
    "tags": []
   },
   "outputs": [
    {
     "output_type": "stream",
     "name": "stdout",
     "text": "Listing ID\nFalse    725\nName: Listing ID, dtype: int64\n\nLocation\nFalse    725\nName: Location, dtype: int64\n\nLatitude\nFalse    725\nName: Latitude, dtype: int64\n\nLongitude\nFalse    725\nName: Longitude, dtype: int64\n\nNumber of Guests\nFalse    725\nName: Number of Guests, dtype: int64\n\nBathrooms\nFalse    725\nName: Bathrooms, dtype: int64\n\nBedrooms\nFalse    722\nTrue       3\nName: Bedrooms, dtype: int64\n\nBeds\nFalse    717\nTrue       8\nName: Beds, dtype: int64\n\nReview Count\nFalse    725\nName: Review Count, dtype: int64\n\nRoom Type\nFalse    725\nName: Room Type, dtype: int64\n\nRating\nFalse    391\nTrue     334\nName: Rating, dtype: int64\n\nMinimum Nights\nFalse    725\nName: Minimum Nights, dtype: int64\n\nMaximum Nights\nFalse    725\nName: Maximum Nights, dtype: int64\n\nRate (Rp)\nFalse    725\nName: Rate (Rp), dtype: int64\n\nRate Type\nFalse    725\nName: Rate Type, dtype: int64\n\n"
    }
   ],
   "source": [
    "missing_data = listings_df.isnull()\n",
    "\n",
    "for column in missing_data.columns.values.tolist():\n",
    "    print(column)\n",
    "    print (missing_data[column].value_counts())  \n",
    "    print('')"
   ]
  },
  {
   "cell_type": "markdown",
   "metadata": {},
   "source": [
    "Because the quantity of missing data in the Rating column is significant, drop rows with missing value."
   ]
  },
  {
   "cell_type": "code",
   "execution_count": 7,
   "metadata": {
    "tags": []
   },
   "outputs": [
    {
     "output_type": "stream",
     "name": "stdout",
     "text": "(391, 15)\n"
    },
    {
     "output_type": "execute_result",
     "data": {
      "text/plain": "      Listing ID                          Location  Latitude  Longitude  \\\n1812    22987741  Bendungan Hilir, Central Jakarta  -6.21335  106.81134   \n1826    10344900  Bendungan Hilir, Central Jakarta  -6.20482  106.81693   \n1824     4619772  Bendungan Hilir, Central Jakarta  -6.21704  106.80577   \n1821    30411330  Bendungan Hilir, Central Jakarta  -6.20469  106.81627   \n1819    12575863  Bendungan Hilir, Central Jakarta  -6.22503  106.81923   \n\n      Number of Guests  Bathrooms  Bedrooms  Beds  Review Count  \\\n1812                 3        1.0       2.0   2.0            25   \n1826                 2        1.0       1.0   0.0            20   \n1824                 2        1.0       1.0   1.0            17   \n1821                 4        1.5       2.0   2.0            45   \n1819                 1        1.5       1.0   1.0            77   \n\n            Room Type  Rating  Minimum Nights  Maximum Nights  Rate (Rp)  \\\n1812  Entire home/apt    4.76               1            1125   700000.0   \n1826  Entire home/apt    4.55               2            1125   213544.0   \n1824  Entire home/apt    4.76               4            1125   455560.0   \n1821  Entire home/apt    4.96               2            1125   435000.0   \n1819  Entire home/apt    4.91               2            1125   350000.0   \n\n     Rate Type  \n1812   nightly  \n1826   nightly  \n1824   nightly  \n1821   nightly  \n1819   nightly  ",
      "text/html": "<div>\n<style scoped>\n    .dataframe tbody tr th:only-of-type {\n        vertical-align: middle;\n    }\n\n    .dataframe tbody tr th {\n        vertical-align: top;\n    }\n\n    .dataframe thead th {\n        text-align: right;\n    }\n</style>\n<table border=\"1\" class=\"dataframe\">\n  <thead>\n    <tr style=\"text-align: right;\">\n      <th></th>\n      <th>Listing ID</th>\n      <th>Location</th>\n      <th>Latitude</th>\n      <th>Longitude</th>\n      <th>Number of Guests</th>\n      <th>Bathrooms</th>\n      <th>Bedrooms</th>\n      <th>Beds</th>\n      <th>Review Count</th>\n      <th>Room Type</th>\n      <th>Rating</th>\n      <th>Minimum Nights</th>\n      <th>Maximum Nights</th>\n      <th>Rate (Rp)</th>\n      <th>Rate Type</th>\n    </tr>\n  </thead>\n  <tbody>\n    <tr>\n      <th>1812</th>\n      <td>22987741</td>\n      <td>Bendungan Hilir, Central Jakarta</td>\n      <td>-6.21335</td>\n      <td>106.81134</td>\n      <td>3</td>\n      <td>1.0</td>\n      <td>2.0</td>\n      <td>2.0</td>\n      <td>25</td>\n      <td>Entire home/apt</td>\n      <td>4.76</td>\n      <td>1</td>\n      <td>1125</td>\n      <td>700000.0</td>\n      <td>nightly</td>\n    </tr>\n    <tr>\n      <th>1826</th>\n      <td>10344900</td>\n      <td>Bendungan Hilir, Central Jakarta</td>\n      <td>-6.20482</td>\n      <td>106.81693</td>\n      <td>2</td>\n      <td>1.0</td>\n      <td>1.0</td>\n      <td>0.0</td>\n      <td>20</td>\n      <td>Entire home/apt</td>\n      <td>4.55</td>\n      <td>2</td>\n      <td>1125</td>\n      <td>213544.0</td>\n      <td>nightly</td>\n    </tr>\n    <tr>\n      <th>1824</th>\n      <td>4619772</td>\n      <td>Bendungan Hilir, Central Jakarta</td>\n      <td>-6.21704</td>\n      <td>106.80577</td>\n      <td>2</td>\n      <td>1.0</td>\n      <td>1.0</td>\n      <td>1.0</td>\n      <td>17</td>\n      <td>Entire home/apt</td>\n      <td>4.76</td>\n      <td>4</td>\n      <td>1125</td>\n      <td>455560.0</td>\n      <td>nightly</td>\n    </tr>\n    <tr>\n      <th>1821</th>\n      <td>30411330</td>\n      <td>Bendungan Hilir, Central Jakarta</td>\n      <td>-6.20469</td>\n      <td>106.81627</td>\n      <td>4</td>\n      <td>1.5</td>\n      <td>2.0</td>\n      <td>2.0</td>\n      <td>45</td>\n      <td>Entire home/apt</td>\n      <td>4.96</td>\n      <td>2</td>\n      <td>1125</td>\n      <td>435000.0</td>\n      <td>nightly</td>\n    </tr>\n    <tr>\n      <th>1819</th>\n      <td>12575863</td>\n      <td>Bendungan Hilir, Central Jakarta</td>\n      <td>-6.22503</td>\n      <td>106.81923</td>\n      <td>1</td>\n      <td>1.5</td>\n      <td>1.0</td>\n      <td>1.0</td>\n      <td>77</td>\n      <td>Entire home/apt</td>\n      <td>4.91</td>\n      <td>2</td>\n      <td>1125</td>\n      <td>350000.0</td>\n      <td>nightly</td>\n    </tr>\n  </tbody>\n</table>\n</div>"
     },
     "metadata": {},
     "execution_count": 7
    }
   ],
   "source": [
    "listings_df.dropna(subset=['Rating'], axis=0, inplace=True)\n",
    "\n",
    "# Check the size of the dataframe\n",
    "print(listings_df.shape)\n",
    "listings_df.head()"
   ]
  },
  {
   "cell_type": "markdown",
   "metadata": {},
   "source": [
    "Evaluate missing data once again."
   ]
  },
  {
   "cell_type": "code",
   "execution_count": 8,
   "metadata": {
    "tags": []
   },
   "outputs": [
    {
     "output_type": "stream",
     "name": "stdout",
     "text": "Listing ID\nFalse    391\nName: Listing ID, dtype: int64\n\nLocation\nFalse    391\nName: Location, dtype: int64\n\nLatitude\nFalse    391\nName: Latitude, dtype: int64\n\nLongitude\nFalse    391\nName: Longitude, dtype: int64\n\nNumber of Guests\nFalse    391\nName: Number of Guests, dtype: int64\n\nBathrooms\nFalse    391\nName: Bathrooms, dtype: int64\n\nBedrooms\nFalse    391\nName: Bedrooms, dtype: int64\n\nBeds\nFalse    390\nTrue       1\nName: Beds, dtype: int64\n\nReview Count\nFalse    391\nName: Review Count, dtype: int64\n\nRoom Type\nFalse    391\nName: Room Type, dtype: int64\n\nRating\nFalse    391\nName: Rating, dtype: int64\n\nMinimum Nights\nFalse    391\nName: Minimum Nights, dtype: int64\n\nMaximum Nights\nFalse    391\nName: Maximum Nights, dtype: int64\n\nRate (Rp)\nFalse    391\nName: Rate (Rp), dtype: int64\n\nRate Type\nFalse    391\nName: Rate Type, dtype: int64\n\n"
    }
   ],
   "source": [
    "missing_data = listings_df.isnull()\n",
    "\n",
    "for column in missing_data.columns.values.tolist():\n",
    "    print(column)\n",
    "    print (missing_data[column].value_counts())  \n",
    "    print('')"
   ]
  },
  {
   "cell_type": "markdown",
   "metadata": {},
   "source": [
    "Drop data with Room Type: Shared Room."
   ]
  },
  {
   "cell_type": "code",
   "execution_count": 9,
   "metadata": {
    "tags": []
   },
   "outputs": [
    {
     "output_type": "stream",
     "name": "stdout",
     "text": "(388, 15)\n"
    },
    {
     "output_type": "execute_result",
     "data": {
      "text/plain": "      Listing ID                          Location  Latitude  Longitude  \\\n1812    22987741  Bendungan Hilir, Central Jakarta  -6.21335  106.81134   \n1826    10344900  Bendungan Hilir, Central Jakarta  -6.20482  106.81693   \n1824     4619772  Bendungan Hilir, Central Jakarta  -6.21704  106.80577   \n1821    30411330  Bendungan Hilir, Central Jakarta  -6.20469  106.81627   \n1819    12575863  Bendungan Hilir, Central Jakarta  -6.22503  106.81923   \n\n      Number of Guests  Bathrooms  Bedrooms  Beds  Review Count  \\\n1812                 3        1.0       2.0   2.0            25   \n1826                 2        1.0       1.0   0.0            20   \n1824                 2        1.0       1.0   1.0            17   \n1821                 4        1.5       2.0   2.0            45   \n1819                 1        1.5       1.0   1.0            77   \n\n            Room Type  Rating  Minimum Nights  Maximum Nights  Rate (Rp)  \\\n1812  Entire home/apt    4.76               1            1125   700000.0   \n1826  Entire home/apt    4.55               2            1125   213544.0   \n1824  Entire home/apt    4.76               4            1125   455560.0   \n1821  Entire home/apt    4.96               2            1125   435000.0   \n1819  Entire home/apt    4.91               2            1125   350000.0   \n\n     Rate Type  \n1812   nightly  \n1826   nightly  \n1824   nightly  \n1821   nightly  \n1819   nightly  ",
      "text/html": "<div>\n<style scoped>\n    .dataframe tbody tr th:only-of-type {\n        vertical-align: middle;\n    }\n\n    .dataframe tbody tr th {\n        vertical-align: top;\n    }\n\n    .dataframe thead th {\n        text-align: right;\n    }\n</style>\n<table border=\"1\" class=\"dataframe\">\n  <thead>\n    <tr style=\"text-align: right;\">\n      <th></th>\n      <th>Listing ID</th>\n      <th>Location</th>\n      <th>Latitude</th>\n      <th>Longitude</th>\n      <th>Number of Guests</th>\n      <th>Bathrooms</th>\n      <th>Bedrooms</th>\n      <th>Beds</th>\n      <th>Review Count</th>\n      <th>Room Type</th>\n      <th>Rating</th>\n      <th>Minimum Nights</th>\n      <th>Maximum Nights</th>\n      <th>Rate (Rp)</th>\n      <th>Rate Type</th>\n    </tr>\n  </thead>\n  <tbody>\n    <tr>\n      <th>1812</th>\n      <td>22987741</td>\n      <td>Bendungan Hilir, Central Jakarta</td>\n      <td>-6.21335</td>\n      <td>106.81134</td>\n      <td>3</td>\n      <td>1.0</td>\n      <td>2.0</td>\n      <td>2.0</td>\n      <td>25</td>\n      <td>Entire home/apt</td>\n      <td>4.76</td>\n      <td>1</td>\n      <td>1125</td>\n      <td>700000.0</td>\n      <td>nightly</td>\n    </tr>\n    <tr>\n      <th>1826</th>\n      <td>10344900</td>\n      <td>Bendungan Hilir, Central Jakarta</td>\n      <td>-6.20482</td>\n      <td>106.81693</td>\n      <td>2</td>\n      <td>1.0</td>\n      <td>1.0</td>\n      <td>0.0</td>\n      <td>20</td>\n      <td>Entire home/apt</td>\n      <td>4.55</td>\n      <td>2</td>\n      <td>1125</td>\n      <td>213544.0</td>\n      <td>nightly</td>\n    </tr>\n    <tr>\n      <th>1824</th>\n      <td>4619772</td>\n      <td>Bendungan Hilir, Central Jakarta</td>\n      <td>-6.21704</td>\n      <td>106.80577</td>\n      <td>2</td>\n      <td>1.0</td>\n      <td>1.0</td>\n      <td>1.0</td>\n      <td>17</td>\n      <td>Entire home/apt</td>\n      <td>4.76</td>\n      <td>4</td>\n      <td>1125</td>\n      <td>455560.0</td>\n      <td>nightly</td>\n    </tr>\n    <tr>\n      <th>1821</th>\n      <td>30411330</td>\n      <td>Bendungan Hilir, Central Jakarta</td>\n      <td>-6.20469</td>\n      <td>106.81627</td>\n      <td>4</td>\n      <td>1.5</td>\n      <td>2.0</td>\n      <td>2.0</td>\n      <td>45</td>\n      <td>Entire home/apt</td>\n      <td>4.96</td>\n      <td>2</td>\n      <td>1125</td>\n      <td>435000.0</td>\n      <td>nightly</td>\n    </tr>\n    <tr>\n      <th>1819</th>\n      <td>12575863</td>\n      <td>Bendungan Hilir, Central Jakarta</td>\n      <td>-6.22503</td>\n      <td>106.81923</td>\n      <td>1</td>\n      <td>1.5</td>\n      <td>1.0</td>\n      <td>1.0</td>\n      <td>77</td>\n      <td>Entire home/apt</td>\n      <td>4.91</td>\n      <td>2</td>\n      <td>1125</td>\n      <td>350000.0</td>\n      <td>nightly</td>\n    </tr>\n  </tbody>\n</table>\n</div>"
     },
     "metadata": {},
     "execution_count": 9
    }
   ],
   "source": [
    "listings_df = listings_df[listings_df['Room Type'] != 'Shared room']\n",
    "\n",
    "# Check the size of the dataframe\n",
    "print(listings_df.shape)\n",
    "listings_df.head()"
   ]
  },
  {
   "cell_type": "markdown",
   "metadata": {},
   "source": [
    "Drop data with Number of Guests more than 4."
   ]
  },
  {
   "cell_type": "code",
   "execution_count": 10,
   "metadata": {
    "tags": []
   },
   "outputs": [
    {
     "output_type": "stream",
     "name": "stdout",
     "text": "(342, 15)\n"
    },
    {
     "output_type": "execute_result",
     "data": {
      "text/plain": "      Listing ID                          Location  Latitude  Longitude  \\\n1812    22987741  Bendungan Hilir, Central Jakarta  -6.21335  106.81134   \n1826    10344900  Bendungan Hilir, Central Jakarta  -6.20482  106.81693   \n1824     4619772  Bendungan Hilir, Central Jakarta  -6.21704  106.80577   \n1821    30411330  Bendungan Hilir, Central Jakarta  -6.20469  106.81627   \n1819    12575863  Bendungan Hilir, Central Jakarta  -6.22503  106.81923   \n\n      Number of Guests  Bathrooms  Bedrooms  Beds  Review Count  \\\n1812                 3        1.0       2.0   2.0            25   \n1826                 2        1.0       1.0   0.0            20   \n1824                 2        1.0       1.0   1.0            17   \n1821                 4        1.5       2.0   2.0            45   \n1819                 1        1.5       1.0   1.0            77   \n\n            Room Type  Rating  Minimum Nights  Maximum Nights  Rate (Rp)  \\\n1812  Entire home/apt    4.76               1            1125   700000.0   \n1826  Entire home/apt    4.55               2            1125   213544.0   \n1824  Entire home/apt    4.76               4            1125   455560.0   \n1821  Entire home/apt    4.96               2            1125   435000.0   \n1819  Entire home/apt    4.91               2            1125   350000.0   \n\n     Rate Type  \n1812   nightly  \n1826   nightly  \n1824   nightly  \n1821   nightly  \n1819   nightly  ",
      "text/html": "<div>\n<style scoped>\n    .dataframe tbody tr th:only-of-type {\n        vertical-align: middle;\n    }\n\n    .dataframe tbody tr th {\n        vertical-align: top;\n    }\n\n    .dataframe thead th {\n        text-align: right;\n    }\n</style>\n<table border=\"1\" class=\"dataframe\">\n  <thead>\n    <tr style=\"text-align: right;\">\n      <th></th>\n      <th>Listing ID</th>\n      <th>Location</th>\n      <th>Latitude</th>\n      <th>Longitude</th>\n      <th>Number of Guests</th>\n      <th>Bathrooms</th>\n      <th>Bedrooms</th>\n      <th>Beds</th>\n      <th>Review Count</th>\n      <th>Room Type</th>\n      <th>Rating</th>\n      <th>Minimum Nights</th>\n      <th>Maximum Nights</th>\n      <th>Rate (Rp)</th>\n      <th>Rate Type</th>\n    </tr>\n  </thead>\n  <tbody>\n    <tr>\n      <th>1812</th>\n      <td>22987741</td>\n      <td>Bendungan Hilir, Central Jakarta</td>\n      <td>-6.21335</td>\n      <td>106.81134</td>\n      <td>3</td>\n      <td>1.0</td>\n      <td>2.0</td>\n      <td>2.0</td>\n      <td>25</td>\n      <td>Entire home/apt</td>\n      <td>4.76</td>\n      <td>1</td>\n      <td>1125</td>\n      <td>700000.0</td>\n      <td>nightly</td>\n    </tr>\n    <tr>\n      <th>1826</th>\n      <td>10344900</td>\n      <td>Bendungan Hilir, Central Jakarta</td>\n      <td>-6.20482</td>\n      <td>106.81693</td>\n      <td>2</td>\n      <td>1.0</td>\n      <td>1.0</td>\n      <td>0.0</td>\n      <td>20</td>\n      <td>Entire home/apt</td>\n      <td>4.55</td>\n      <td>2</td>\n      <td>1125</td>\n      <td>213544.0</td>\n      <td>nightly</td>\n    </tr>\n    <tr>\n      <th>1824</th>\n      <td>4619772</td>\n      <td>Bendungan Hilir, Central Jakarta</td>\n      <td>-6.21704</td>\n      <td>106.80577</td>\n      <td>2</td>\n      <td>1.0</td>\n      <td>1.0</td>\n      <td>1.0</td>\n      <td>17</td>\n      <td>Entire home/apt</td>\n      <td>4.76</td>\n      <td>4</td>\n      <td>1125</td>\n      <td>455560.0</td>\n      <td>nightly</td>\n    </tr>\n    <tr>\n      <th>1821</th>\n      <td>30411330</td>\n      <td>Bendungan Hilir, Central Jakarta</td>\n      <td>-6.20469</td>\n      <td>106.81627</td>\n      <td>4</td>\n      <td>1.5</td>\n      <td>2.0</td>\n      <td>2.0</td>\n      <td>45</td>\n      <td>Entire home/apt</td>\n      <td>4.96</td>\n      <td>2</td>\n      <td>1125</td>\n      <td>435000.0</td>\n      <td>nightly</td>\n    </tr>\n    <tr>\n      <th>1819</th>\n      <td>12575863</td>\n      <td>Bendungan Hilir, Central Jakarta</td>\n      <td>-6.22503</td>\n      <td>106.81923</td>\n      <td>1</td>\n      <td>1.5</td>\n      <td>1.0</td>\n      <td>1.0</td>\n      <td>77</td>\n      <td>Entire home/apt</td>\n      <td>4.91</td>\n      <td>2</td>\n      <td>1125</td>\n      <td>350000.0</td>\n      <td>nightly</td>\n    </tr>\n  </tbody>\n</table>\n</div>"
     },
     "metadata": {},
     "execution_count": 10
    }
   ],
   "source": [
    "listings_df = listings_df[listings_df['Number of Guests'] < 5]\n",
    "\n",
    "# Check the size of the dataframe\n",
    "print(listings_df.shape)\n",
    "listings_df.head()"
   ]
  },
  {
   "cell_type": "markdown",
   "metadata": {},
   "source": [
    "Drop data with Minimum Nights more than 3."
   ]
  },
  {
   "cell_type": "code",
   "execution_count": 11,
   "metadata": {
    "tags": []
   },
   "outputs": [
    {
     "output_type": "stream",
     "name": "stdout",
     "text": "(281, 15)\n"
    },
    {
     "output_type": "execute_result",
     "data": {
      "text/plain": "      Listing ID                          Location  Latitude  Longitude  \\\n1812    22987741  Bendungan Hilir, Central Jakarta  -6.21335  106.81134   \n1826    10344900  Bendungan Hilir, Central Jakarta  -6.20482  106.81693   \n1821    30411330  Bendungan Hilir, Central Jakarta  -6.20469  106.81627   \n1819    12575863  Bendungan Hilir, Central Jakarta  -6.22503  106.81923   \n1827    12855114  Bendungan Hilir, Central Jakarta  -6.19405  106.81437   \n\n      Number of Guests  Bathrooms  Bedrooms  Beds  Review Count  \\\n1812                 3        1.0       2.0   2.0            25   \n1826                 2        1.0       1.0   0.0            20   \n1821                 4        1.5       2.0   2.0            45   \n1819                 1        1.5       1.0   1.0            77   \n1827                 2        1.0       1.0   1.0           136   \n\n            Room Type  Rating  Minimum Nights  Maximum Nights  Rate (Rp)  \\\n1812  Entire home/apt    4.76               1            1125   700000.0   \n1826  Entire home/apt    4.55               2            1125   213544.0   \n1821  Entire home/apt    4.96               2            1125   435000.0   \n1819  Entire home/apt    4.91               2            1125   350000.0   \n1827  Entire home/apt    4.90               2            1125   300000.0   \n\n     Rate Type  \n1812   nightly  \n1826   nightly  \n1821   nightly  \n1819   nightly  \n1827   nightly  ",
      "text/html": "<div>\n<style scoped>\n    .dataframe tbody tr th:only-of-type {\n        vertical-align: middle;\n    }\n\n    .dataframe tbody tr th {\n        vertical-align: top;\n    }\n\n    .dataframe thead th {\n        text-align: right;\n    }\n</style>\n<table border=\"1\" class=\"dataframe\">\n  <thead>\n    <tr style=\"text-align: right;\">\n      <th></th>\n      <th>Listing ID</th>\n      <th>Location</th>\n      <th>Latitude</th>\n      <th>Longitude</th>\n      <th>Number of Guests</th>\n      <th>Bathrooms</th>\n      <th>Bedrooms</th>\n      <th>Beds</th>\n      <th>Review Count</th>\n      <th>Room Type</th>\n      <th>Rating</th>\n      <th>Minimum Nights</th>\n      <th>Maximum Nights</th>\n      <th>Rate (Rp)</th>\n      <th>Rate Type</th>\n    </tr>\n  </thead>\n  <tbody>\n    <tr>\n      <th>1812</th>\n      <td>22987741</td>\n      <td>Bendungan Hilir, Central Jakarta</td>\n      <td>-6.21335</td>\n      <td>106.81134</td>\n      <td>3</td>\n      <td>1.0</td>\n      <td>2.0</td>\n      <td>2.0</td>\n      <td>25</td>\n      <td>Entire home/apt</td>\n      <td>4.76</td>\n      <td>1</td>\n      <td>1125</td>\n      <td>700000.0</td>\n      <td>nightly</td>\n    </tr>\n    <tr>\n      <th>1826</th>\n      <td>10344900</td>\n      <td>Bendungan Hilir, Central Jakarta</td>\n      <td>-6.20482</td>\n      <td>106.81693</td>\n      <td>2</td>\n      <td>1.0</td>\n      <td>1.0</td>\n      <td>0.0</td>\n      <td>20</td>\n      <td>Entire home/apt</td>\n      <td>4.55</td>\n      <td>2</td>\n      <td>1125</td>\n      <td>213544.0</td>\n      <td>nightly</td>\n    </tr>\n    <tr>\n      <th>1821</th>\n      <td>30411330</td>\n      <td>Bendungan Hilir, Central Jakarta</td>\n      <td>-6.20469</td>\n      <td>106.81627</td>\n      <td>4</td>\n      <td>1.5</td>\n      <td>2.0</td>\n      <td>2.0</td>\n      <td>45</td>\n      <td>Entire home/apt</td>\n      <td>4.96</td>\n      <td>2</td>\n      <td>1125</td>\n      <td>435000.0</td>\n      <td>nightly</td>\n    </tr>\n    <tr>\n      <th>1819</th>\n      <td>12575863</td>\n      <td>Bendungan Hilir, Central Jakarta</td>\n      <td>-6.22503</td>\n      <td>106.81923</td>\n      <td>1</td>\n      <td>1.5</td>\n      <td>1.0</td>\n      <td>1.0</td>\n      <td>77</td>\n      <td>Entire home/apt</td>\n      <td>4.91</td>\n      <td>2</td>\n      <td>1125</td>\n      <td>350000.0</td>\n      <td>nightly</td>\n    </tr>\n    <tr>\n      <th>1827</th>\n      <td>12855114</td>\n      <td>Bendungan Hilir, Central Jakarta</td>\n      <td>-6.19405</td>\n      <td>106.81437</td>\n      <td>2</td>\n      <td>1.0</td>\n      <td>1.0</td>\n      <td>1.0</td>\n      <td>136</td>\n      <td>Entire home/apt</td>\n      <td>4.90</td>\n      <td>2</td>\n      <td>1125</td>\n      <td>300000.0</td>\n      <td>nightly</td>\n    </tr>\n  </tbody>\n</table>\n</div>"
     },
     "metadata": {},
     "execution_count": 11
    }
   ],
   "source": [
    "listings_df = listings_df[listings_df['Minimum Nights'] < 4]\n",
    "\n",
    "# Check the size of the dataframe\n",
    "print(listings_df.shape)\n",
    "listings_df.head()"
   ]
  },
  {
   "cell_type": "markdown",
   "metadata": {},
   "source": [
    "Remove outliers with IQR."
   ]
  },
  {
   "cell_type": "code",
   "execution_count": 12,
   "metadata": {
    "tags": []
   },
   "outputs": [
    {
     "output_type": "stream",
     "name": "stdout",
     "text": "(252, 15)\n"
    },
    {
     "output_type": "execute_result",
     "data": {
      "text/plain": "      Listing ID                          Location  Latitude  Longitude  \\\n1826    10344900  Bendungan Hilir, Central Jakarta  -6.20482  106.81693   \n1821    30411330  Bendungan Hilir, Central Jakarta  -6.20469  106.81627   \n1819    12575863  Bendungan Hilir, Central Jakarta  -6.22503  106.81923   \n1827    12855114  Bendungan Hilir, Central Jakarta  -6.19405  106.81437   \n1811    40117294  Bendungan Hilir, Central Jakarta  -6.20994  106.80463   \n\n      Number of Guests  Bathrooms  Bedrooms  Beds  Review Count  \\\n1826                 2        1.0       1.0   0.0            20   \n1821                 4        1.5       2.0   2.0            45   \n1819                 1        1.5       1.0   1.0            77   \n1827                 2        1.0       1.0   1.0           136   \n1811                 3        1.0       1.0   1.0             6   \n\n            Room Type  Rating  Minimum Nights  Maximum Nights  Rate (Rp)  \\\n1826  Entire home/apt    4.55               2            1125   213544.0   \n1821  Entire home/apt    4.96               2            1125   435000.0   \n1819  Entire home/apt    4.91               2            1125   350000.0   \n1827  Entire home/apt    4.90               2            1125   300000.0   \n1811     Private room    4.83               2              60   210000.0   \n\n     Rate Type  \n1826   nightly  \n1821   nightly  \n1819   nightly  \n1827   nightly  \n1811   nightly  ",
      "text/html": "<div>\n<style scoped>\n    .dataframe tbody tr th:only-of-type {\n        vertical-align: middle;\n    }\n\n    .dataframe tbody tr th {\n        vertical-align: top;\n    }\n\n    .dataframe thead th {\n        text-align: right;\n    }\n</style>\n<table border=\"1\" class=\"dataframe\">\n  <thead>\n    <tr style=\"text-align: right;\">\n      <th></th>\n      <th>Listing ID</th>\n      <th>Location</th>\n      <th>Latitude</th>\n      <th>Longitude</th>\n      <th>Number of Guests</th>\n      <th>Bathrooms</th>\n      <th>Bedrooms</th>\n      <th>Beds</th>\n      <th>Review Count</th>\n      <th>Room Type</th>\n      <th>Rating</th>\n      <th>Minimum Nights</th>\n      <th>Maximum Nights</th>\n      <th>Rate (Rp)</th>\n      <th>Rate Type</th>\n    </tr>\n  </thead>\n  <tbody>\n    <tr>\n      <th>1826</th>\n      <td>10344900</td>\n      <td>Bendungan Hilir, Central Jakarta</td>\n      <td>-6.20482</td>\n      <td>106.81693</td>\n      <td>2</td>\n      <td>1.0</td>\n      <td>1.0</td>\n      <td>0.0</td>\n      <td>20</td>\n      <td>Entire home/apt</td>\n      <td>4.55</td>\n      <td>2</td>\n      <td>1125</td>\n      <td>213544.0</td>\n      <td>nightly</td>\n    </tr>\n    <tr>\n      <th>1821</th>\n      <td>30411330</td>\n      <td>Bendungan Hilir, Central Jakarta</td>\n      <td>-6.20469</td>\n      <td>106.81627</td>\n      <td>4</td>\n      <td>1.5</td>\n      <td>2.0</td>\n      <td>2.0</td>\n      <td>45</td>\n      <td>Entire home/apt</td>\n      <td>4.96</td>\n      <td>2</td>\n      <td>1125</td>\n      <td>435000.0</td>\n      <td>nightly</td>\n    </tr>\n    <tr>\n      <th>1819</th>\n      <td>12575863</td>\n      <td>Bendungan Hilir, Central Jakarta</td>\n      <td>-6.22503</td>\n      <td>106.81923</td>\n      <td>1</td>\n      <td>1.5</td>\n      <td>1.0</td>\n      <td>1.0</td>\n      <td>77</td>\n      <td>Entire home/apt</td>\n      <td>4.91</td>\n      <td>2</td>\n      <td>1125</td>\n      <td>350000.0</td>\n      <td>nightly</td>\n    </tr>\n    <tr>\n      <th>1827</th>\n      <td>12855114</td>\n      <td>Bendungan Hilir, Central Jakarta</td>\n      <td>-6.19405</td>\n      <td>106.81437</td>\n      <td>2</td>\n      <td>1.0</td>\n      <td>1.0</td>\n      <td>1.0</td>\n      <td>136</td>\n      <td>Entire home/apt</td>\n      <td>4.90</td>\n      <td>2</td>\n      <td>1125</td>\n      <td>300000.0</td>\n      <td>nightly</td>\n    </tr>\n    <tr>\n      <th>1811</th>\n      <td>40117294</td>\n      <td>Bendungan Hilir, Central Jakarta</td>\n      <td>-6.20994</td>\n      <td>106.80463</td>\n      <td>3</td>\n      <td>1.0</td>\n      <td>1.0</td>\n      <td>1.0</td>\n      <td>6</td>\n      <td>Private room</td>\n      <td>4.83</td>\n      <td>2</td>\n      <td>60</td>\n      <td>210000.0</td>\n      <td>nightly</td>\n    </tr>\n  </tbody>\n</table>\n</div>"
     },
     "metadata": {},
     "execution_count": 12
    }
   ],
   "source": [
    "Q1 = listings_df['Rate (Rp)'].quantile(0.25)\n",
    "Q3 = listings_df['Rate (Rp)'].quantile(0.75)\n",
    "IQR = Q3 - Q1\n",
    "filter = (Q1-IQR <= listings_df['Rate (Rp)']) & (listings_df['Rate (Rp)'] <= Q3+IQR)\n",
    "\n",
    "listings_df = listings_df[filter]\n",
    "\n",
    "# Check the size of the dataframe\n",
    "print(listings_df.shape)\n",
    "listings_df.head()"
   ]
  },
  {
   "cell_type": "markdown",
   "metadata": {},
   "source": [
    "Reset index."
   ]
  },
  {
   "cell_type": "code",
   "execution_count": 13,
   "metadata": {
    "tags": []
   },
   "outputs": [
    {
     "output_type": "stream",
     "name": "stdout",
     "text": "(252, 15)\n"
    },
    {
     "output_type": "execute_result",
     "data": {
      "text/plain": "   Listing ID                          Location  Latitude  Longitude  \\\n0    10344900  Bendungan Hilir, Central Jakarta  -6.20482  106.81693   \n1    30411330  Bendungan Hilir, Central Jakarta  -6.20469  106.81627   \n2    12575863  Bendungan Hilir, Central Jakarta  -6.22503  106.81923   \n3    12855114  Bendungan Hilir, Central Jakarta  -6.19405  106.81437   \n4    40117294  Bendungan Hilir, Central Jakarta  -6.20994  106.80463   \n\n   Number of Guests  Bathrooms  Bedrooms  Beds  Review Count        Room Type  \\\n0                 2        1.0       1.0   0.0            20  Entire home/apt   \n1                 4        1.5       2.0   2.0            45  Entire home/apt   \n2                 1        1.5       1.0   1.0            77  Entire home/apt   \n3                 2        1.0       1.0   1.0           136  Entire home/apt   \n4                 3        1.0       1.0   1.0             6     Private room   \n\n   Rating  Minimum Nights  Maximum Nights  Rate (Rp) Rate Type  \n0    4.55               2            1125   213544.0   nightly  \n1    4.96               2            1125   435000.0   nightly  \n2    4.91               2            1125   350000.0   nightly  \n3    4.90               2            1125   300000.0   nightly  \n4    4.83               2              60   210000.0   nightly  ",
      "text/html": "<div>\n<style scoped>\n    .dataframe tbody tr th:only-of-type {\n        vertical-align: middle;\n    }\n\n    .dataframe tbody tr th {\n        vertical-align: top;\n    }\n\n    .dataframe thead th {\n        text-align: right;\n    }\n</style>\n<table border=\"1\" class=\"dataframe\">\n  <thead>\n    <tr style=\"text-align: right;\">\n      <th></th>\n      <th>Listing ID</th>\n      <th>Location</th>\n      <th>Latitude</th>\n      <th>Longitude</th>\n      <th>Number of Guests</th>\n      <th>Bathrooms</th>\n      <th>Bedrooms</th>\n      <th>Beds</th>\n      <th>Review Count</th>\n      <th>Room Type</th>\n      <th>Rating</th>\n      <th>Minimum Nights</th>\n      <th>Maximum Nights</th>\n      <th>Rate (Rp)</th>\n      <th>Rate Type</th>\n    </tr>\n  </thead>\n  <tbody>\n    <tr>\n      <th>0</th>\n      <td>10344900</td>\n      <td>Bendungan Hilir, Central Jakarta</td>\n      <td>-6.20482</td>\n      <td>106.81693</td>\n      <td>2</td>\n      <td>1.0</td>\n      <td>1.0</td>\n      <td>0.0</td>\n      <td>20</td>\n      <td>Entire home/apt</td>\n      <td>4.55</td>\n      <td>2</td>\n      <td>1125</td>\n      <td>213544.0</td>\n      <td>nightly</td>\n    </tr>\n    <tr>\n      <th>1</th>\n      <td>30411330</td>\n      <td>Bendungan Hilir, Central Jakarta</td>\n      <td>-6.20469</td>\n      <td>106.81627</td>\n      <td>4</td>\n      <td>1.5</td>\n      <td>2.0</td>\n      <td>2.0</td>\n      <td>45</td>\n      <td>Entire home/apt</td>\n      <td>4.96</td>\n      <td>2</td>\n      <td>1125</td>\n      <td>435000.0</td>\n      <td>nightly</td>\n    </tr>\n    <tr>\n      <th>2</th>\n      <td>12575863</td>\n      <td>Bendungan Hilir, Central Jakarta</td>\n      <td>-6.22503</td>\n      <td>106.81923</td>\n      <td>1</td>\n      <td>1.5</td>\n      <td>1.0</td>\n      <td>1.0</td>\n      <td>77</td>\n      <td>Entire home/apt</td>\n      <td>4.91</td>\n      <td>2</td>\n      <td>1125</td>\n      <td>350000.0</td>\n      <td>nightly</td>\n    </tr>\n    <tr>\n      <th>3</th>\n      <td>12855114</td>\n      <td>Bendungan Hilir, Central Jakarta</td>\n      <td>-6.19405</td>\n      <td>106.81437</td>\n      <td>2</td>\n      <td>1.0</td>\n      <td>1.0</td>\n      <td>1.0</td>\n      <td>136</td>\n      <td>Entire home/apt</td>\n      <td>4.90</td>\n      <td>2</td>\n      <td>1125</td>\n      <td>300000.0</td>\n      <td>nightly</td>\n    </tr>\n    <tr>\n      <th>4</th>\n      <td>40117294</td>\n      <td>Bendungan Hilir, Central Jakarta</td>\n      <td>-6.20994</td>\n      <td>106.80463</td>\n      <td>3</td>\n      <td>1.0</td>\n      <td>1.0</td>\n      <td>1.0</td>\n      <td>6</td>\n      <td>Private room</td>\n      <td>4.83</td>\n      <td>2</td>\n      <td>60</td>\n      <td>210000.0</td>\n      <td>nightly</td>\n    </tr>\n  </tbody>\n</table>\n</div>"
     },
     "metadata": {},
     "execution_count": 13
    }
   ],
   "source": [
    "listings_df.reset_index(drop=True, inplace=True)\n",
    "\n",
    "# Check the size of the dataframe\n",
    "print(listings_df.shape)\n",
    "listings_df.head()"
   ]
  },
  {
   "cell_type": "markdown",
   "metadata": {},
   "source": [
    "Check data types for each column."
   ]
  },
  {
   "cell_type": "code",
   "execution_count": 14,
   "metadata": {},
   "outputs": [
    {
     "output_type": "execute_result",
     "data": {
      "text/plain": "Listing ID            int64\nLocation             object\nLatitude            float64\nLongitude           float64\nNumber of Guests      int64\nBathrooms           float64\nBedrooms            float64\nBeds                float64\nReview Count          int64\nRoom Type            object\nRating              float64\nMinimum Nights        int64\nMaximum Nights        int64\nRate (Rp)           float64\nRate Type            object\ndtype: object"
     },
     "metadata": {},
     "execution_count": 14
    }
   ],
   "source": [
    "listings_df.dtypes"
   ]
  },
  {
   "cell_type": "markdown",
   "metadata": {},
   "source": [
    "Check the summary of the data."
   ]
  },
  {
   "cell_type": "code",
   "execution_count": 15,
   "metadata": {},
   "outputs": [
    {
     "output_type": "execute_result",
     "data": {
      "text/plain": "         Listing ID    Latitude   Longitude  Number of Guests   Bathrooms  \\\ncount  2.520000e+02  252.000000  252.000000        252.000000  252.000000   \nmean   2.515906e+07   -6.184911  106.834473          2.535714    1.059524   \nstd    1.082737e+07    0.022536    0.024753          0.885201    0.200668   \nmin    2.902830e+05   -6.242680  106.782030          1.000000    0.500000   \n25%    1.750603e+07   -6.196313  106.816997          2.000000    1.000000   \n50%    2.394329e+07   -6.191240  106.837675          2.000000    1.000000   \n75%    3.528611e+07   -6.174650  106.850912          3.000000    1.000000   \nmax    4.284291e+07   -6.128390  106.893620          4.000000    2.000000   \n\n         Bedrooms        Beds  Review Count      Rating  Minimum Nights  \\\ncount  252.000000  252.000000    252.000000  252.000000      252.000000   \nmean     0.976190    1.373016     39.865079    4.720794        1.678571   \nstd      0.661572    0.688368     48.291257    0.328272        0.711220   \nmin      0.000000    0.000000      3.000000    2.330000        1.000000   \n25%      1.000000    1.000000      9.000000    4.667500        1.000000   \n50%      1.000000    1.000000     26.000000    4.800000        2.000000   \n75%      1.000000    2.000000     48.250000    4.912500        2.000000   \nmax      3.000000    4.000000    369.000000    5.000000        3.000000   \n\n       Maximum Nights      Rate (Rp)  \ncount      252.000000     252.000000  \nmean       857.253968  334464.722222  \nstd        447.888111   99773.656220  \nmin          5.000000  142000.000000  \n25%        365.000000  261006.000000  \n50%       1125.000000  325000.000000  \n75%       1125.000000  400000.000000  \nmax       1125.000000  585000.000000  ",
      "text/html": "<div>\n<style scoped>\n    .dataframe tbody tr th:only-of-type {\n        vertical-align: middle;\n    }\n\n    .dataframe tbody tr th {\n        vertical-align: top;\n    }\n\n    .dataframe thead th {\n        text-align: right;\n    }\n</style>\n<table border=\"1\" class=\"dataframe\">\n  <thead>\n    <tr style=\"text-align: right;\">\n      <th></th>\n      <th>Listing ID</th>\n      <th>Latitude</th>\n      <th>Longitude</th>\n      <th>Number of Guests</th>\n      <th>Bathrooms</th>\n      <th>Bedrooms</th>\n      <th>Beds</th>\n      <th>Review Count</th>\n      <th>Rating</th>\n      <th>Minimum Nights</th>\n      <th>Maximum Nights</th>\n      <th>Rate (Rp)</th>\n    </tr>\n  </thead>\n  <tbody>\n    <tr>\n      <th>count</th>\n      <td>2.520000e+02</td>\n      <td>252.000000</td>\n      <td>252.000000</td>\n      <td>252.000000</td>\n      <td>252.000000</td>\n      <td>252.000000</td>\n      <td>252.000000</td>\n      <td>252.000000</td>\n      <td>252.000000</td>\n      <td>252.000000</td>\n      <td>252.000000</td>\n      <td>252.000000</td>\n    </tr>\n    <tr>\n      <th>mean</th>\n      <td>2.515906e+07</td>\n      <td>-6.184911</td>\n      <td>106.834473</td>\n      <td>2.535714</td>\n      <td>1.059524</td>\n      <td>0.976190</td>\n      <td>1.373016</td>\n      <td>39.865079</td>\n      <td>4.720794</td>\n      <td>1.678571</td>\n      <td>857.253968</td>\n      <td>334464.722222</td>\n    </tr>\n    <tr>\n      <th>std</th>\n      <td>1.082737e+07</td>\n      <td>0.022536</td>\n      <td>0.024753</td>\n      <td>0.885201</td>\n      <td>0.200668</td>\n      <td>0.661572</td>\n      <td>0.688368</td>\n      <td>48.291257</td>\n      <td>0.328272</td>\n      <td>0.711220</td>\n      <td>447.888111</td>\n      <td>99773.656220</td>\n    </tr>\n    <tr>\n      <th>min</th>\n      <td>2.902830e+05</td>\n      <td>-6.242680</td>\n      <td>106.782030</td>\n      <td>1.000000</td>\n      <td>0.500000</td>\n      <td>0.000000</td>\n      <td>0.000000</td>\n      <td>3.000000</td>\n      <td>2.330000</td>\n      <td>1.000000</td>\n      <td>5.000000</td>\n      <td>142000.000000</td>\n    </tr>\n    <tr>\n      <th>25%</th>\n      <td>1.750603e+07</td>\n      <td>-6.196313</td>\n      <td>106.816997</td>\n      <td>2.000000</td>\n      <td>1.000000</td>\n      <td>1.000000</td>\n      <td>1.000000</td>\n      <td>9.000000</td>\n      <td>4.667500</td>\n      <td>1.000000</td>\n      <td>365.000000</td>\n      <td>261006.000000</td>\n    </tr>\n    <tr>\n      <th>50%</th>\n      <td>2.394329e+07</td>\n      <td>-6.191240</td>\n      <td>106.837675</td>\n      <td>2.000000</td>\n      <td>1.000000</td>\n      <td>1.000000</td>\n      <td>1.000000</td>\n      <td>26.000000</td>\n      <td>4.800000</td>\n      <td>2.000000</td>\n      <td>1125.000000</td>\n      <td>325000.000000</td>\n    </tr>\n    <tr>\n      <th>75%</th>\n      <td>3.528611e+07</td>\n      <td>-6.174650</td>\n      <td>106.850912</td>\n      <td>3.000000</td>\n      <td>1.000000</td>\n      <td>1.000000</td>\n      <td>2.000000</td>\n      <td>48.250000</td>\n      <td>4.912500</td>\n      <td>2.000000</td>\n      <td>1125.000000</td>\n      <td>400000.000000</td>\n    </tr>\n    <tr>\n      <th>max</th>\n      <td>4.284291e+07</td>\n      <td>-6.128390</td>\n      <td>106.893620</td>\n      <td>4.000000</td>\n      <td>2.000000</td>\n      <td>3.000000</td>\n      <td>4.000000</td>\n      <td>369.000000</td>\n      <td>5.000000</td>\n      <td>3.000000</td>\n      <td>1125.000000</td>\n      <td>585000.000000</td>\n    </tr>\n  </tbody>\n</table>\n</div>"
     },
     "metadata": {},
     "execution_count": 15
    }
   ],
   "source": [
    "listings_df.describe()"
   ]
  },
  {
   "cell_type": "markdown",
   "metadata": {},
   "source": [
    "Export the data into .csv"
   ]
  },
  {
   "cell_type": "code",
   "execution_count": 16,
   "metadata": {},
   "outputs": [],
   "source": [
    "listings_df.to_csv(r'~/Projects/predicting_airbnb_prices/data/central_jakarta_airbnb_listings.csv', index=False)"
   ]
  }
 ],
 "metadata": {
  "language_info": {
   "codemirror_mode": {
    "name": "ipython",
    "version": 3
   },
   "file_extension": ".py",
   "mimetype": "text/x-python",
   "name": "python",
   "nbconvert_exporter": "python",
   "pygments_lexer": "ipython3",
   "version": "3.8.3-final"
  },
  "orig_nbformat": 2,
  "kernelspec": {
   "name": "python38364bitenvvenvd62cf0ff2548449b8bb7a0245ca2a3a7",
   "display_name": "Python 3.8.3 64-bit ('env': venv)"
  }
 },
 "nbformat": 4,
 "nbformat_minor": 2
}